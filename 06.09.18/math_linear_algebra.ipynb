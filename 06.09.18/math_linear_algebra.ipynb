{
  "nbformat": 4,
  "nbformat_minor": 0,
  "metadata": {
    "colab": {
      "name": "math_linear_algebra (1).ipynb",
      "version": "0.3.2",
      "provenance": [],
      "collapsed_sections": [
        "XEn7SBw7NTWp"
      ]
    },
    "kernelspec": {
      "display_name": "Python 3",
      "language": "python",
      "name": "python3"
    }
  },
  "cells": [
    {
      "metadata": {
        "id": "-vIWL0dsNTUg",
        "colab_type": "text"
      },
      "cell_type": "markdown",
      "source": [
        "**Математика - Линейная Алгебра**\n",
        "\n",
        "*Линейня алгебра - это раздел математики который узучает [векторное пространство](https://ru.wikipedia.org/wiki/Векторное_пространство) и линейную трансформацию внутри него, например, поворот фигуры, увеличение и уменьшее ее размера, смещение и т.д.*\n",
        "\n",
        "*Машинное обучение* очень сильно полагается на линейную алгебру, поэтому важно понимать что такое вектора и матрицы, какие операции можно над ними совершать и чем они могут быть полезны."
      ]
    },
    {
      "metadata": {
        "id": "x2HstvBRNTUh",
        "colab_type": "text"
      },
      "cell_type": "markdown",
      "source": [
        "Перед тем как начнем, давайте удостоверимся что наш блокнот будет хорошо работать как в Python 2, так и в Python 3:"
      ]
    },
    {
      "metadata": {
        "id": "lymmx8i1NTUi",
        "colab_type": "code",
        "colab": {}
      },
      "cell_type": "code",
      "source": [
        "from __future__ import division, print_function, unicode_literals"
      ],
      "execution_count": 0,
      "outputs": []
    },
    {
      "metadata": {
        "id": "7UU8wT8kNTUl",
        "colab_type": "text"
      },
      "cell_type": "markdown",
      "source": [
        "# Вектора\n",
        "## Определение\n",
        "Вектор - это математический объект, характеризующийся величиной и направлением. Например, скорость ракеты это трехмерный вектор: величина это скорость ракеты и направление вверх. Вектор может быть представлен ввиде массива чисел, которые называют *скаляр*. Каждый скаляр соответствует величине вектора относительно его размерности.\n",
        "\n",
        "Например, ракета взлетает вверх под некоторым углом: ее вертикальная скорость 5,000 м/с, и также ее немного сносит на восток со скростью 10 м/с, и на север со скоростью 50 м/с. Скорость ракеты можно представить в виде следующего вектора:\n",
        "\n",
        "**скорость** $= \\begin{pmatrix}\n",
        "10 \\\\\n",
        "50 \\\\\n",
        "5000 \\\\\n",
        "\\end{pmatrix}$\n",
        "\n",
        "Отметим: было решено вектора представлять в виде колонок. Также, имена векторов начинаются с маленькой буквы, чтобы отличать их от матриц и также выделять их жирным шрифтом (где это возможно), чтобы отличать их от простых скалярный величин, таких как ${meters\\_per\\_second} = 5026$.\n",
        "\n",
        "Список N чисел может также представлять координаты точки в N-мерном пространстве. Поэтому достаточно распространено представление точки в виде вектора. Вектор состоящий из одного элемента, может быть представлен как точка на оси, вектор из двух элементов как точка на плоскости, а вектор с тремя элементам как точка в пространстве, а вектор с N-элементами как точка в N-мерном пространстве, что некоторые люди с трудом могут представить. \n",
        "\n",
        "##  Назначение\n",
        "Векторы могут иметь различное назначение в Машинном обучении, одним из самых распростроенных является *наблюдение* и *предсказывание*. Например, мы построили систему Машинного обучения, которая будет классифицировать видео на 3 категории ( хорошее, спам, кликбейт) на основе того что мы знаем о видео. Для каждого видео у нас есть данный вектор, представляющий информацию о видео:\n",
        "\n",
        "**видео** $= \\begin{pmatrix}\n",
        "10.5 \\\\\n",
        "5.2 \\\\\n",
        "3.25 \\\\\n",
        "7.0\n",
        "\\end{pmatrix}$\n",
        "\n",
        "Этот вектор представляет собой видео, которое идет 10.5 минут, но только 5.2% зрителей посмотрели больше минуты, и оно получает в среднем 3.25 просмотра в день, и 7 раз было отмечено как спам. Как вы можете видеть, каждая строка можент иметь совершенно разное значение.\n",
        "\n",
        "На основе этого вектора, наша система Машинного обучения предсказывает, что это видео на 80% спам, на 18% что кликбейт и на 2% что это хорошее видео. Это может быть представлено в виде следующего вектора:\n",
        "\n",
        "**класс_вероятности** $= \\begin{pmatrix}\n",
        "0.80 \\\\\n",
        "0.18 \\\\\n",
        "0.02\n",
        "\\end{pmatrix}$"
      ]
    },
    {
      "metadata": {
        "id": "St0G2igGNTUn",
        "colab_type": "text"
      },
      "cell_type": "markdown",
      "source": [
        "## Вектора в python\n",
        "В python, вектор может быть представлен в различном виде, самый простой из которых - список чисел:"
      ]
    },
    {
      "metadata": {
        "id": "VSip36SYNTUn",
        "colab_type": "code",
        "colab": {
          "base_uri": "https://localhost:8080/",
          "height": 36
        },
        "outputId": "2fe8891f-6475-4c35-9a8b-2998578d0995"
      },
      "cell_type": "code",
      "source": [
        "[10.5, 5.2, 3.25, 7.0]"
      ],
      "execution_count": 0,
      "outputs": [
        {
          "output_type": "execute_result",
          "data": {
            "text/plain": [
              "[10.5, 5.2, 3.25, 7.0]"
            ]
          },
          "metadata": {
            "tags": []
          },
          "execution_count": 2
        }
      ]
    },
    {
      "metadata": {
        "id": "1SRzBLnXNTUu",
        "colab_type": "text"
      },
      "cell_type": "markdown",
      "source": [
        "Т.к. мы планируем выполнять много научных вычислений, лучше использовать `ndarray` из модуля NumPy's,  которые предлагают удобное и уже оптмизированное решение основных математических операций над векторами. Например:"
      ]
    },
    {
      "metadata": {
        "id": "SaJeWIfINTUv",
        "colab_type": "code",
        "colab": {
          "base_uri": "https://localhost:8080/",
          "height": 36
        },
        "outputId": "39d2ec53-4eca-4d7b-c722-234303a4f8ee"
      },
      "cell_type": "code",
      "source": [
        "import numpy as np\n",
        "video = np.array([10.5, 5.2, 3.25, 7.0])\n",
        "video"
      ],
      "execution_count": 0,
      "outputs": [
        {
          "output_type": "execute_result",
          "data": {
            "text/plain": [
              "array([10.5 ,  5.2 ,  3.25,  7.  ])"
            ]
          },
          "metadata": {
            "tags": []
          },
          "execution_count": 3
        }
      ]
    },
    {
      "metadata": {
        "id": "YcI3zJdQNTUz",
        "colab_type": "text"
      },
      "cell_type": "markdown",
      "source": [
        "Размер вектора можно узнать атрибутом `size`:"
      ]
    },
    {
      "metadata": {
        "id": "ajnOFpqVNTU0",
        "colab_type": "code",
        "colab": {
          "base_uri": "https://localhost:8080/",
          "height": 36
        },
        "outputId": "eb7ad398-5009-4815-c332-3869866e40bf"
      },
      "cell_type": "code",
      "source": [
        "video.size"
      ],
      "execution_count": 0,
      "outputs": [
        {
          "output_type": "execute_result",
          "data": {
            "text/plain": [
              "4"
            ]
          },
          "metadata": {
            "tags": []
          },
          "execution_count": 4
        }
      ]
    },
    {
      "metadata": {
        "id": "KmfLWNeANTU4",
        "colab_type": "text"
      },
      "cell_type": "markdown",
      "source": [
        "$i^{th}$ элемент вектора $\\textbf{v}$ обозначается вот так $\\textbf{v}_i$.\n",
        "\n",
        "Отметим, что индексация в математике обычно начинается с 1, но в программированиии с 0. Поэтому, получая $\\textbf{video}_3$ элемент программно, мы напишем так:"
      ]
    },
    {
      "metadata": {
        "id": "OBi04NGvNTU5",
        "colab_type": "code",
        "colab": {
          "base_uri": "https://localhost:8080/",
          "height": 36
        },
        "outputId": "ec095e59-164c-4d4a-9acd-74523da4fe12"
      },
      "cell_type": "code",
      "source": [
        "video[2]  # третий элемент"
      ],
      "execution_count": 0,
      "outputs": [
        {
          "output_type": "execute_result",
          "data": {
            "text/plain": [
              "3.25"
            ]
          },
          "metadata": {
            "tags": []
          },
          "execution_count": 5
        }
      ]
    },
    {
      "metadata": {
        "id": "H6_AzQAkNTU8",
        "colab_type": "text"
      },
      "cell_type": "markdown",
      "source": [
        "## Построение графиков векторов\n",
        "Для построение графиков мы будем использовать matplotlib,  поэтому начнем с импорта самого модуля."
      ]
    },
    {
      "metadata": {
        "id": "kd_WWB1ENTU9",
        "colab_type": "code",
        "colab": {}
      },
      "cell_type": "code",
      "source": [
        "# matplotlib inline\n",
        "import matplotlib.pyplot as plt"
      ],
      "execution_count": 0,
      "outputs": []
    },
    {
      "metadata": {
        "id": "wUJdY1KENTVA",
        "colab_type": "text"
      },
      "cell_type": "markdown",
      "source": [
        "### 2D векторы\n",
        "Давайте создадим пару очень простых двухмерных векторов для отрисовки:"
      ]
    },
    {
      "metadata": {
        "id": "D2kF5DfJNTVB",
        "colab_type": "code",
        "colab": {}
      },
      "cell_type": "code",
      "source": [
        "u = np.array([2, 5])\n",
        "v = np.array([3, 1])"
      ],
      "execution_count": 0,
      "outputs": []
    },
    {
      "metadata": {
        "id": "aiCMyc6CNTVE",
        "colab_type": "text"
      },
      "cell_type": "markdown",
      "source": [
        "Каждый из векторов имеет по два элемента, поэтому их легко можно представить в виде двух точек на плоскости:"
      ]
    },
    {
      "metadata": {
        "id": "Rz0vMG8rNTVF",
        "colab_type": "code",
        "colab": {
          "base_uri": "https://localhost:8080/",
          "height": 351
        },
        "outputId": "17ab67d8-c547-4ff0-8dc2-0da688f0e38c"
      },
      "cell_type": "code",
      "source": [
        "x_coords, y_coords = zip(u, v)\n",
        "plt.scatter(x_coords, y_coords, color=[\"r\",\"b\"])\n",
        "plt.axis([0, 9, 0, 6])\n",
        "plt.grid()\n",
        "plt.show()"
      ],
      "execution_count": 0,
      "outputs": [
        {
          "output_type": "display_data",
          "data": {
            "image/png": "[encoded data removed]",
            "text/plain": [
              "<matplotlib.figure.Figure at 0x7f5bc3c5a390>"
            ]
          },
          "metadata": {
            "tags": []
          }
        }
      ]
    },
    {
      "metadata": {
        "id": "IUaAQpccNTVJ",
        "colab_type": "text"
      },
      "cell_type": "markdown",
      "source": [
        "Векторы также можно представить в виде стрелок. Давайте создадим маленькую и удобную функцию для рисования стрелки:"
      ]
    },
    {
      "metadata": {
        "id": "BTfsY9QiNTVJ",
        "colab_type": "code",
        "colab": {}
      },
      "cell_type": "code",
      "source": [
        "def plot_vector2d(vector2d, origin=[0, 0], **options):\n",
        "    return plt.arrow(origin[0], origin[1], vector2d[0], vector2d[1],\n",
        "              head_width=0.2, head_length=0.3, length_includes_head=True,\n",
        "              **options)"
      ],
      "execution_count": 0,
      "outputs": []
    },
    {
      "metadata": {
        "id": "HnP9scQQNTVN",
        "colab_type": "text"
      },
      "cell_type": "markdown",
      "source": [
        "Теперь нарисуем вектора **u** и **v** в виде стрелок:"
      ]
    },
    {
      "metadata": {
        "id": "s95LPpcSNTVO",
        "colab_type": "code",
        "colab": {
          "base_uri": "https://localhost:8080/",
          "height": 351
        },
        "outputId": "020d73ee-bf13-4ce9-91b5-7660543db458"
      },
      "cell_type": "code",
      "source": [
        "plot_vector2d(u, color=\"r\")\n",
        "plot_vector2d(v, color=\"b\")\n",
        "plt.axis([0, 9, 0, 6])\n",
        "plt.grid()\n",
        "plt.show()"
      ],
      "execution_count": 0,
      "outputs": [
        {
          "output_type": "display_data",
          "data": {
            "image/png": "[encoded data removed]",
            "text/plain": [
              "<matplotlib.figure.Figure at 0x7f5bc3c5a358>"
            ]
          },
          "metadata": {
            "tags": []
          }
        }
      ]
    },
    {
      "metadata": {
        "id": "QCVdkA0eNTVR",
        "colab_type": "text"
      },
      "cell_type": "markdown",
      "source": [
        "### 3D векторы\n",
        "Рисование трехмерных векторов тоже довольно очевидно. Сначала создадим два трехмерных вектора:"
      ]
    },
    {
      "metadata": {
        "id": "RFrnygKqNTVS",
        "colab_type": "code",
        "colab": {}
      },
      "cell_type": "code",
      "source": [
        "a = np.array([1, 2, 8])\n",
        "b = np.array([5, 6, 3])"
      ],
      "execution_count": 0,
      "outputs": []
    },
    {
      "metadata": {
        "id": "XvqOhFJINTVV",
        "colab_type": "text"
      },
      "cell_type": "markdown",
      "source": [
        "Теперь нарисуем их с помощью matplotlib и метода `Axes3D`:"
      ]
    },
    {
      "metadata": {
        "id": "zQUz11V4NTVW",
        "colab_type": "code",
        "colab": {
          "base_uri": "https://localhost:8080/",
          "height": 330
        },
        "outputId": "5b25a816-9f0f-4198-8336-8b54af965870"
      },
      "cell_type": "code",
      "source": [
        "from mpl_toolkits.mplot3d import Axes3D\n",
        "\n",
        "subplot3d = plt.subplot(111, projection='3d')\n",
        "x_coords, y_coords, z_coords = zip(a,b)\n",
        "subplot3d.scatter(x_coords, y_coords, z_coords)\n",
        "subplot3d.set_zlim3d([0, 9])\n",
        "plt.show()"
      ],
      "execution_count": 0,
      "outputs": [
        {
          "output_type": "display_data",
          "data": {
            "image/png": "[encoded data removed]",
            "text/plain": [
              "<matplotlib.figure.Figure at 0x7f5bc13ad438>"
            ]
          },
          "metadata": {
            "tags": []
          }
        }
      ]
    },
    {
      "metadata": {
        "id": "A1eeyITANTVZ",
        "colab_type": "text"
      },
      "cell_type": "markdown",
      "source": [
        "Немного сложно визуально понять, где находятся эти точки в пространстве, поэтому добавим вертикальные линии. Создадим небольшую функцию, которая будет рисовать точки в пространстве и линии до них:"
      ]
    },
    {
      "metadata": {
        "id": "ypv3ufKzNTVZ",
        "colab_type": "code",
        "colab": {
          "base_uri": "https://localhost:8080/",
          "height": 330
        },
        "outputId": "4a979699-9f72-4312-dcda-3932b9a11933"
      },
      "cell_type": "code",
      "source": [
        "def plot_vectors3d(ax, vectors3d, z0, **options):\n",
        "    for v in vectors3d:\n",
        "        x, y, z = v\n",
        "        ax.plot([x,x], [y,y], [z0, z], color=\"gray\", linestyle='dotted', marker=\".\")\n",
        "    x_coords, y_coords, z_coords = zip(*vectors3d)\n",
        "    ax.scatter(x_coords, y_coords, z_coords, **options)\n",
        "\n",
        "subplot3d = plt.subplot(111, projection='3d')\n",
        "subplot3d.set_zlim([0, 9])\n",
        "plot_vectors3d(subplot3d, [a,b], 0, color=(\"r\",\"b\"))\n",
        "plt.show()"
      ],
      "execution_count": 0,
      "outputs": [
        {
          "output_type": "display_data",
          "data": {
            "image/png": "[encoded data removed]",
            "text/plain": [
              "<matplotlib.figure.Figure at 0x7f5bc133c5c0>"
            ]
          },
          "metadata": {
            "tags": []
          }
        }
      ]
    },
    {
      "metadata": {
        "id": "QzEZ17ubNTVe",
        "colab_type": "text"
      },
      "cell_type": "markdown",
      "source": [
        "## Норма\n",
        "Нормой вектора  $\\textbf{u}$, называется $\\left \\Vert \\textbf{u} \\right \\|$, что представляет собой длину (величину) $\\textbf{u}$. Есть множество видов норм, но самой распространненой является Евклидова норма, которая определяется следующим выражением:\n",
        "\n",
        "$\\left \\Vert \\textbf{u} \\right \\| = \\sqrt{\\sum_{i}{\\textbf{u}_i}^2}$\n",
        "\n",
        "Мы можем легко ее написать в чистом python, смотря на тот факт, что $\\sqrt x = x^{\\frac{1}{2}}$"
      ]
    },
    {
      "metadata": {
        "id": "jVa35_7_NTVj",
        "colab_type": "code",
        "colab": {
          "base_uri": "https://localhost:8080/",
          "height": 55
        },
        "outputId": "686f861d-30a1-42fb-beb9-1476b7322d04"
      },
      "cell_type": "code",
      "source": [
        "def vector_norm(vector):\n",
        "    squares = [element**2 for element in vector]\n",
        "    return sum(squares)**0.5\n",
        "\n",
        "print(\"||\", u, \"|| =\")\n",
        "vector_norm(u)"
      ],
      "execution_count": 0,
      "outputs": [
        {
          "output_type": "stream",
          "text": [
            "|| [2 5] || =\n"
          ],
          "name": "stdout"
        },
        {
          "output_type": "execute_result",
          "data": {
            "text/plain": [
              "5.385164807134504"
            ]
          },
          "metadata": {
            "tags": []
          },
          "execution_count": 14
        }
      ]
    },
    {
      "metadata": {
        "id": "ur2zUTqUNTVm",
        "colab_type": "text"
      },
      "cell_type": "markdown",
      "source": [
        "Однако, более эфективее использовать функцию `norm` из библиотеки NumPy, которая доступна в модуле `linalg` (**Lin**ear **Alg**ebra):"
      ]
    },
    {
      "metadata": {
        "id": "oMN99IlVNTVm",
        "colab_type": "code",
        "colab": {
          "base_uri": "https://localhost:8080/",
          "height": 36
        },
        "outputId": "2f6e27d5-a361-44d3-f6c8-9279e1f2df03"
      },
      "cell_type": "code",
      "source": [
        "import numpy.linalg as LA\n",
        "LA.norm(u)"
      ],
      "execution_count": 0,
      "outputs": [
        {
          "output_type": "execute_result",
          "data": {
            "text/plain": [
              "5.385164807134504"
            ]
          },
          "metadata": {
            "tags": []
          },
          "execution_count": 15
        }
      ]
    },
    {
      "metadata": {
        "id": "Td5INOITNTVr",
        "colab_type": "text"
      },
      "cell_type": "markdown",
      "source": [
        "Давайте нарисуем график, что бы проверить, что длина вектора $\\textbf{v}$ действительно $\\approx5.4$:"
      ]
    },
    {
      "metadata": {
        "id": "vD7QoF25NTVs",
        "colab_type": "code",
        "colab": {
          "base_uri": "https://localhost:8080/",
          "height": 351
        },
        "outputId": "f4207129-9c8c-483d-b62c-f7018361c7ec"
      },
      "cell_type": "code",
      "source": [
        "radius = LA.norm(u)\n",
        "plt.gca().add_artist(plt.Circle((0,0), radius, color=\"#DDDDDD\"))\n",
        "plot_vector2d(u, color=\"red\")\n",
        "plt.axis([0, 8.7, 0, 6])\n",
        "plt.grid()\n",
        "plt.show()"
      ],
      "execution_count": 0,
      "outputs": [
        {
          "output_type": "display_data",
          "data": {
            "image/png": "[encoded data removed]",
            "text/plain": [
              "<matplotlib.figure.Figure at 0x7f5bc123a2b0>"
            ]
          },
          "metadata": {
            "tags": []
          }
        }
      ]
    },
    {
      "metadata": {
        "id": "5u-_gh5oNTVv",
        "colab_type": "text"
      },
      "cell_type": "markdown",
      "source": [
        "Похоже на правду!"
      ]
    },
    {
      "metadata": {
        "id": "DhkeOr0UNTVv",
        "colab_type": "text"
      },
      "cell_type": "markdown",
      "source": [
        "## Сложение\n",
        "Вектора одной размерности можно складывать вместе. Сложение идет поэлементно."
      ]
    },
    {
      "metadata": {
        "id": "n5sETSqNNTVw",
        "colab_type": "code",
        "colab": {
          "base_uri": "https://localhost:8080/",
          "height": 93
        },
        "outputId": "352853b2-84b1-4080-a5fe-c997c5607f4c"
      },
      "cell_type": "code",
      "source": [
        "print(\" \", u)\n",
        "print(\"+\", v)\n",
        "print(\"-\"*10)\n",
        "u + v"
      ],
      "execution_count": 0,
      "outputs": [
        {
          "output_type": "stream",
          "text": [
            "  [2 5]\n",
            "+ [3 1]\n",
            "----------\n"
          ],
          "name": "stdout"
        },
        {
          "output_type": "execute_result",
          "data": {
            "text/plain": [
              "array([5, 6])"
            ]
          },
          "metadata": {
            "tags": []
          },
          "execution_count": 17
        }
      ]
    },
    {
      "metadata": {
        "id": "b34qISGSNTV0",
        "colab_type": "text"
      },
      "cell_type": "markdown",
      "source": [
        "Посмотрим теперь на то, как сложение векторов выглядит графически:"
      ]
    },
    {
      "metadata": {
        "id": "9tbpsuapNTV0",
        "colab_type": "code",
        "colab": {
          "base_uri": "https://localhost:8080/",
          "height": 351
        },
        "outputId": "e57426a9-6d0c-40c2-cf7e-3669ab50af2e"
      },
      "cell_type": "code",
      "source": [
        "plot_vector2d(u, color=\"r\")\n",
        "plot_vector2d(v, color=\"b\")\n",
        "plot_vector2d(v, origin=u, color=\"b\", linestyle=\"dotted\")\n",
        "plot_vector2d(u, origin=v, color=\"r\", linestyle=\"dotted\")\n",
        "plot_vector2d(u+v, color=\"g\")\n",
        "plt.axis([0, 9, 0, 7])\n",
        "plt.text(0.7, 3, \"u\", color=\"r\", fontsize=18)\n",
        "plt.text(4, 3, \"u\", color=\"r\", fontsize=18)\n",
        "plt.text(1.8, 0.2, \"v\", color=\"b\", fontsize=18)\n",
        "plt.text(3.1, 5.6, \"v\", color=\"b\", fontsize=18)\n",
        "plt.text(2.4, 2.5, \"u+v\", color=\"g\", fontsize=18)\n",
        "plt.grid()\n",
        "plt.show()"
      ],
      "execution_count": 0,
      "outputs": [
        {
          "output_type": "display_data",
          "data": {
            "image/png": "[encoded data removed]",
            "text/plain": [
              "<matplotlib.figure.Figure at 0x7f5bc11a67f0>"
            ]
          },
          "metadata": {
            "tags": []
          }
        }
      ]
    },
    {
      "metadata": {
        "id": "T8hmXynTNTV4",
        "colab_type": "text"
      },
      "cell_type": "markdown",
      "source": [
        "Сложение векторов **коммутативно**, что значит $\\textbf{u} + \\textbf{v} = \\textbf{v} + \\textbf{u}$. Это можно увидеть на графике выше: если последовать за  $\\textbf{u}$ *, а затем за * $\\textbf{v}$, то мы попадем в туже самую точку, если бы следовали сначала за $\\textbf{v}$ *и потом уже за* $\\textbf{u}$.\n",
        "\n",
        "Сложение векторов также **ассоциативность**, что значит $\\textbf{u} + (\\textbf{v} + \\textbf{w}) = (\\textbf{u} + \\textbf{v}) + \\textbf{w}$."
      ]
    },
    {
      "metadata": {
        "id": "FYBcUP4rNTV5",
        "colab_type": "text"
      },
      "cell_type": "markdown",
      "source": [
        "Если у вас есть фигура, описанная векторам, то добавление вектора $\\textbf{v}$ ко всем точкам фигуры, приведет к тому, что вся фигура сдвинется на $\\textbf{v}$. Это называется [параллельным переносом](https://ru.wikipedia.org/wiki/Параллельный_перенос):"
      ]
    },
    {
      "metadata": {
        "id": "S5sOmpg-NTV5",
        "colab_type": "code",
        "colab": {
          "base_uri": "https://localhost:8080/",
          "height": 351
        },
        "outputId": "6282bf4a-8a66-4384-9972-d4a28106a428"
      },
      "cell_type": "code",
      "source": [
        "t1 = np.array([2, 0.25])\n",
        "t2 = np.array([2.5, 3.5])\n",
        "t3 = np.array([1, 2])\n",
        "\n",
        "x_coords, y_coords = zip(t1, t2, t3, t1)\n",
        "plt.plot(x_coords, y_coords, \"c--\", x_coords, y_coords, \"co\")\n",
        "\n",
        "plot_vector2d(v, t1, color=\"r\", linestyle=\":\")\n",
        "plot_vector2d(v, t2, color=\"r\", linestyle=\":\")\n",
        "plot_vector2d(v, t3, color=\"r\", linestyle=\":\")\n",
        "\n",
        "t1b = t1 + v\n",
        "t2b = t2 + v\n",
        "t3b = t3 + v\n",
        "\n",
        "x_coords_b, y_coords_b = zip(t1b, t2b, t3b, t1b)\n",
        "plt.plot(x_coords_b, y_coords_b, \"b-\", x_coords_b, y_coords_b, \"bo\")\n",
        "\n",
        "plt.text(4, 4.2, \"v\", color=\"r\", fontsize=18)\n",
        "plt.text(3, 2.3, \"v\", color=\"r\", fontsize=18)\n",
        "plt.text(3.5, 0.4, \"v\", color=\"r\", fontsize=18)\n",
        "\n",
        "plt.axis([0, 6, 0, 5])\n",
        "plt.grid()\n",
        "plt.show()"
      ],
      "execution_count": 0,
      "outputs": [
        {
          "output_type": "display_data",
          "data": {
            "image/png": "[encoded data removed]",
            "text/plain": [
              "<matplotlib.figure.Figure at 0x7f5bc12244a8>"
            ]
          },
          "metadata": {
            "tags": []
          }
        }
      ]
    },
    {
      "metadata": {
        "id": "iuIwL1RkNTV9",
        "colab_type": "text"
      },
      "cell_type": "markdown",
      "source": [
        "Вычитание векторов это тоже самое, что добавить отрицательный вектор."
      ]
    },
    {
      "metadata": {
        "id": "FkR8F3fUNTV-",
        "colab_type": "text"
      },
      "cell_type": "markdown",
      "source": [
        "## Умножение на скаляр\n",
        "Вектора можно умножать на скаляры. Все элементы вектора умножаются на это число, например:"
      ]
    },
    {
      "metadata": {
        "id": "-z0zB35zNTWA",
        "colab_type": "code",
        "colab": {
          "base_uri": "https://localhost:8080/",
          "height": 55
        },
        "outputId": "943a84f7-8046-4aa8-9efc-8b09649da4c8"
      },
      "cell_type": "code",
      "source": [
        "print(\"1.5 *\", u, \"=\")\n",
        "\n",
        "1.5 * u"
      ],
      "execution_count": 0,
      "outputs": [
        {
          "output_type": "stream",
          "text": [
            "1.5 * [2 5] =\n"
          ],
          "name": "stdout"
        },
        {
          "output_type": "execute_result",
          "data": {
            "text/plain": [
              "array([3. , 7.5])"
            ]
          },
          "metadata": {
            "tags": []
          },
          "execution_count": 20
        }
      ]
    },
    {
      "metadata": {
        "id": "UeCbrELGNTWE",
        "colab_type": "text"
      },
      "cell_type": "markdown",
      "source": [
        "Графически, умножение на скаляр это результат изменения размера фигуры. Расстояние до начала координат, тоже умножается на скаляр. Например, умножим на такой вот скаляр `k = 2.5`:"
      ]
    },
    {
      "metadata": {
        "id": "ADw_4_WwNTWF",
        "colab_type": "code",
        "colab": {
          "base_uri": "https://localhost:8080/",
          "height": 351
        },
        "outputId": "8ef27198-30e0-4aca-bd37-41b13e9c606a"
      },
      "cell_type": "code",
      "source": [
        "k = 2.5\n",
        "t1c = k * t1\n",
        "t2c = k * t2\n",
        "t3c = k * t3\n",
        "\n",
        "plt.plot(x_coords, y_coords, \"c--\", x_coords, y_coords, \"co\")\n",
        "\n",
        "plot_vector2d(t1, color=\"r\")\n",
        "plot_vector2d(t2, color=\"r\")\n",
        "plot_vector2d(t3, color=\"r\")\n",
        "\n",
        "x_coords_c, y_coords_c = zip(t1c, t2c, t3c, t1c)\n",
        "plt.plot(x_coords_c, y_coords_c, \"b-\", x_coords_c, y_coords_c, \"bo\")\n",
        "\n",
        "plot_vector2d(k * t1, color=\"b\", linestyle=\":\")\n",
        "plot_vector2d(k * t2, color=\"b\", linestyle=\":\")\n",
        "plot_vector2d(k * t3, color=\"b\", linestyle=\":\")\n",
        "\n",
        "plt.axis([0, 9, 0, 9])\n",
        "plt.grid()\n",
        "plt.show()"
      ],
      "execution_count": 0,
      "outputs": [
        {
          "output_type": "display_data",
          "data": {
            "image/png": "[encoded data removed]",
            "text/plain": [
              "<matplotlib.figure.Figure at 0x7f5bc12bd358>"
            ]
          },
          "metadata": {
            "tags": []
          }
        }
      ]
    },
    {
      "metadata": {
        "id": "4OZ3fnndNTWL",
        "colab_type": "text"
      },
      "cell_type": "markdown",
      "source": [
        "Как вы могли уже догадаться, деление вектора на скаляр, эквивалентно умножению на инвертированный скаляр:\n",
        "\n",
        "$\\dfrac{\\textbf{u}}{\\lambda} = \\dfrac{1}{\\lambda} \\times \\textbf{u}$"
      ]
    },
    {
      "metadata": {
        "id": "P2AqYlfINTWN",
        "colab_type": "text"
      },
      "cell_type": "markdown",
      "source": [
        "Умножение на скаляр **коммутативно**: $\\lambda \\times \\textbf{u} = \\textbf{u} \\times \\lambda$.\n",
        "\n",
        "Оно также **ассоциативно**: $\\lambda_1 \\times (\\lambda_2 \\times \\textbf{u}) = (\\lambda_1 \\times \\lambda_2) \\times \\textbf{u}$.\n",
        "\n",
        "И **дистрибутивно** над сложением векторов: $\\lambda \\times (\\textbf{u} + \\textbf{v}) = \\lambda \\times \\textbf{u} + \\lambda \\times \\textbf{v}$."
      ]
    },
    {
      "metadata": {
        "id": "MP5iMSYrNTWN",
        "colab_type": "text"
      },
      "cell_type": "markdown",
      "source": [
        "## Нулевой, едининичный и нормированный вектор\n",
        "* **Нулевой вектор ** это вектор состоящий полностью из 0.\n",
        "* **Единичный вектор ** это вектор норма которого равна 1.\n",
        "* **Нормированный вектор** это не нулевой вектор $\\textbf{u}$, обозначающийся $\\hat{\\textbf{u}}$, такой что единичный вектор этой точки в том же направлении является $\\textbf{u}$. Что записывается так: $\\hat{\\textbf{u}} = \\dfrac{\\textbf{u}}{\\left \\Vert \\textbf{u} \\right \\|}$\n",
        "\n"
      ]
    },
    {
      "metadata": {
        "id": "nu_MEZSiNTWP",
        "colab_type": "code",
        "colab": {
          "base_uri": "https://localhost:8080/",
          "height": 347
        },
        "outputId": "d6bf3e64-450e-4916-e570-ae8019ae629c"
      },
      "cell_type": "code",
      "source": [
        "plt.gca().add_artist(plt.Circle((0,0),1,color='c'))\n",
        "plt.plot(0, 0, \"ko\")\n",
        "plot_vector2d(v / LA.norm(v), color=\"k\")\n",
        "plot_vector2d(v, color=\"b\", linestyle=\":\")\n",
        "plt.text(0.3, 0.3, \"$\\hat{u}$\", color=\"k\", fontsize=18)\n",
        "plt.text(1.5, 0.7, \"$u$\", color=\"b\", fontsize=18)\n",
        "plt.axis([-1.5, 5.5, -1.5, 3.5])\n",
        "plt.grid()\n",
        "plt.show()"
      ],
      "execution_count": 0,
      "outputs": [
        {
          "output_type": "display_data",
          "data": {
            "image/png": "[encoded data removed]",
            "text/plain": [
              "<matplotlib.figure.Figure at 0x7f5bc136fc50>"
            ]
          },
          "metadata": {
            "tags": []
          }
        }
      ]
    },
    {
      "metadata": {
        "id": "ZhWoZCTzNTWX",
        "colab_type": "text"
      },
      "cell_type": "markdown",
      "source": [
        "## Скалярное произведение векторов\n",
        "### Определение\n",
        "Скалярное произведение двух векторов $\\textbf{u}$ и $\\textbf{v}$ это полезная операция, которая очень часто используется в Линейной алгебре. Оно обычно обозначается вот так  $\\textbf{u} \\cdot \\textbf{v}$, или иногда так $⟨\\textbf{u}|\\textbf{v}⟩$ or $(\\textbf{u}|\\textbf{v})$, и задается:\n",
        "\n",
        "$\\textbf{u} \\cdot \\textbf{v} = \\left \\Vert \\textbf{u} \\right \\| \\times \\left \\Vert \\textbf{v} \\right \\| \\times cos(\\theta)$\n",
        "\n",
        "где $\\theta$ угол между $\\textbf{u}$ и $\\textbf{v}$.\n",
        "\n",
        "Другими словами это:\n",
        "\n",
        "$\\textbf{u} \\cdot \\textbf{v} = \\sum_i{\\textbf{u}_i \\times \\textbf{v}_i}$\n",
        "\n",
        "### В python\n",
        "Скалярное произведение сделать очень легко:"
      ]
    },
    {
      "metadata": {
        "id": "ciQ4JTkiNTWX",
        "colab_type": "code",
        "colab": {
          "base_uri": "https://localhost:8080/",
          "height": 36
        },
        "outputId": "db150329-5a27-4e9c-ef3b-a158513287d2"
      },
      "cell_type": "code",
      "source": [
        "def dot_product(v1, v2):\n",
        "    return sum(v1i * v2i for v1i, v2i in zip(v1, v2))\n",
        "\n",
        "dot_product(u, v)"
      ],
      "execution_count": 0,
      "outputs": [
        {
          "output_type": "execute_result",
          "data": {
            "text/plain": [
              "11"
            ]
          },
          "metadata": {
            "tags": []
          },
          "execution_count": 23
        }
      ]
    },
    {
      "metadata": {
        "id": "ZYlxNg3oNTWb",
        "colab_type": "text"
      },
      "cell_type": "markdown",
      "source": [
        "Но *гораздо* более эффективная реализация предоставлена в NumPy функцией `dot`:"
      ]
    },
    {
      "metadata": {
        "id": "dSOC9XuWNTWc",
        "colab_type": "code",
        "colab": {
          "base_uri": "https://localhost:8080/",
          "height": 36
        },
        "outputId": "646a36ed-e4ca-4214-e6a9-5f29efc71a9b"
      },
      "cell_type": "code",
      "source": [
        "np.dot(u,v)"
      ],
      "execution_count": 0,
      "outputs": [
        {
          "output_type": "execute_result",
          "data": {
            "text/plain": [
              "11"
            ]
          },
          "metadata": {
            "tags": []
          },
          "execution_count": 24
        }
      ]
    },
    {
      "metadata": {
        "id": "Jyiql83MNTWf",
        "colab_type": "text"
      },
      "cell_type": "markdown",
      "source": [
        "Метод `dot` можно использовать и на `ndarray`:"
      ]
    },
    {
      "metadata": {
        "id": "PD5U_M7ONTWf",
        "colab_type": "code",
        "colab": {
          "base_uri": "https://localhost:8080/",
          "height": 36
        },
        "outputId": "e11d8da9-7784-4ea5-8955-d3dc17e40568"
      },
      "cell_type": "code",
      "source": [
        "u.dot(v)"
      ],
      "execution_count": 0,
      "outputs": [
        {
          "output_type": "execute_result",
          "data": {
            "text/plain": [
              "11"
            ]
          },
          "metadata": {
            "tags": []
          },
          "execution_count": 25
        }
      ]
    },
    {
      "metadata": {
        "id": "dvYyiDwjNTWi",
        "colab_type": "text"
      },
      "cell_type": "markdown",
      "source": [
        "**Внимание**: оператор `*` делает поэлеметное *умножение*, *НЕ*  скалярное:"
      ]
    },
    {
      "metadata": {
        "id": "coOwBaKxNTWi",
        "colab_type": "code",
        "colab": {
          "base_uri": "https://localhost:8080/",
          "height": 93
        },
        "outputId": "049b1d1c-581c-42ec-c1ed-fb2dfeb06ef4"
      },
      "cell_type": "code",
      "source": [
        "print(\"  \",u)\n",
        "print(\"* \",v, \"(NOT a dot product)\")\n",
        "print(\"-\"*10)\n",
        "\n",
        "u * v"
      ],
      "execution_count": 0,
      "outputs": [
        {
          "output_type": "stream",
          "text": [
            "   [2 5]\n",
            "*  [3 1] (NOT a dot product)\n",
            "----------\n"
          ],
          "name": "stdout"
        },
        {
          "output_type": "execute_result",
          "data": {
            "text/plain": [
              "array([6, 5])"
            ]
          },
          "metadata": {
            "tags": []
          },
          "execution_count": 26
        }
      ]
    },
    {
      "metadata": {
        "id": "XEn7SBw7NTWp",
        "colab_type": "text"
      },
      "cell_type": "markdown",
      "source": [
        "### Основные свойства\n",
        "* Скалярное произведение  **коммутативно**: $\\textbf{u} \\cdot \\textbf{v} = \\textbf{v} \\cdot \\textbf{u}$.\n",
        "* Скалярное произведение  определено только между двумя векторами, не между скаляром и вектором. Это значит что мы не можем считать скалярное умножение для следующих примеров: $\\textbf{u} \\cdot \\textbf{v} \\cdot \\textbf{w}$, т.к $\\textbf{u} \\cdot \\textbf{v}$ скаляр, а $\\textbf{w}$ вектор. (От скалярного произведения получается число - скаляр)\n",
        "* Это также означает что скалярное произведение  **НЕ ассоциативно**: $(\\textbf{u} \\cdot \\textbf{v}) \\cdot \\textbf{w} ≠ \\textbf{u} \\cdot (\\textbf{v} \\cdot \\textbf{w})$.\n",
        "* Однако, оно **ассоциативно с умножением на скаляр**: $\\lambda \\times (\\textbf{u} \\cdot \\textbf{v}) = (\\lambda \\times \\textbf{u}) \\cdot \\textbf{v} = \\textbf{u} \\cdot (\\lambda \\times \\textbf{v})$\n",
        "* И оно **дистрибутивно** над векторами: $\\textbf{u} \\cdot (\\textbf{v} + \\textbf{w}) = \\textbf{u} \\cdot \\textbf{v} + \\textbf{u} \\cdot \\textbf{w}$."
      ]
    },
    {
      "metadata": {
        "id": "e7nA5fY_NTWq",
        "colab_type": "text"
      },
      "cell_type": "markdown",
      "source": [
        "### Вычисления угла между векторами\n",
        "Скалярное произведение часто используют для вычисления угла между двумя не нулевыми векторами. Смотря на определение скалярного произведения, мы можем вывести формулу:\n",
        "\n",
        "$\\theta = \\arccos{\\left ( \\dfrac{\\textbf{u} \\cdot \\textbf{v}}{\\left \\Vert \\textbf{u} \\right \\| \\times \\left \\Vert \\textbf{v} \\right \\|} \\right ) }$\n",
        "\n",
        "Отметим, что если $\\textbf{u} \\cdot \\textbf{v} = 0$,  то $\\theta = \\dfrac{π}{2}$. Другими словами, если скалярное произведение двух не нулевых векторов равно нулю, то эти векторы ортогональны.\n",
        "\n",
        "Воспользуемся формулой для подсчета угла между векторами $\\textbf{u}$ и $\\textbf{v}$ (в радианах):"
      ]
    },
    {
      "metadata": {
        "id": "Rxq4zn4oNTWr",
        "colab_type": "code",
        "colab": {
          "base_uri": "https://localhost:8080/",
          "height": 55
        },
        "outputId": "1c27cbad-40c4-4f11-c0a8-41d9d5c021da"
      },
      "cell_type": "code",
      "source": [
        "def vector_angle(u, v):\n",
        "    cos_theta = u.dot(v) / LA.norm(u) / LA.norm(v)\n",
        "    return np.arccos(np.clip(cos_theta, -1, 1))\n",
        "\n",
        "theta = vector_angle(u, v)\n",
        "print(\"Angle =\", theta, \"radians\")\n",
        "print(\"      =\", theta * 180 / np.pi, \"degrees\")"
      ],
      "execution_count": 0,
      "outputs": [
        {
          "output_type": "stream",
          "text": [
            "Angle = 0.8685393952858895 radians\n",
            "      = 49.76364169072618 degrees\n"
          ],
          "name": "stdout"
        }
      ]
    },
    {
      "metadata": {
        "id": "dvjMrC1LNTWw",
        "colab_type": "text"
      },
      "cell_type": "markdown",
      "source": [
        "### Проецирование точки на ось\n",
        "Скалярное произведение также используют для проецирования точки на ось. Проекция вектора $\\textbf{v}$ на $\\textbf{u}$ ось:\n",
        "\n",
        "$\\textbf{proj}_{\\textbf{u}}{\\textbf{v}} = \\dfrac{\\textbf{u} \\cdot \\textbf{v}}{\\left \\Vert \\textbf{u} \\right \\| ^2} \\times \\textbf{u}$\n",
        "\n",
        "Что эквивалентно:\n",
        "\n",
        "$\\textbf{proj}_{\\textbf{u}}{\\textbf{v}} = (\\textbf{v} \\cdot \\hat{\\textbf{u}}) \\times \\hat{\\textbf{u}}$\n"
      ]
    },
    {
      "metadata": {
        "id": "eQW2894ANTW1",
        "colab_type": "code",
        "colab": {
          "base_uri": "https://localhost:8080/",
          "height": 347
        },
        "outputId": "0d3aee8d-e819-4b26-f3f6-44d29ecbfc97"
      },
      "cell_type": "code",
      "source": [
        "u_normalized = u / LA.norm(u)\n",
        "proj = v.dot(u_normalized) * u_normalized\n",
        "\n",
        "plot_vector2d(u, color=\"r\")\n",
        "plot_vector2d(v, color=\"b\")\n",
        "\n",
        "plot_vector2d(proj, color=\"k\", linestyle=\":\")\n",
        "plt.plot(proj[0], proj[1], \"ko\")\n",
        "\n",
        "plt.plot([proj[0], v[0]], [proj[1], v[1]], \"b:\")\n",
        "\n",
        "plt.text(1, 2, \"$proj_u v$\", color=\"k\", fontsize=18)\n",
        "plt.text(1.8, 0.2, \"$v$\", color=\"b\", fontsize=18)\n",
        "plt.text(0.8, 3, \"$u$\", color=\"r\", fontsize=18)\n",
        "\n",
        "plt.axis([0, 8, 0, 5.5])\n",
        "plt.grid()\n",
        "plt.show()"
      ],
      "execution_count": 0,
      "outputs": [
        {
          "output_type": "display_data",
          "data": {
            "image/png": "[encoded data removed]",
            "text/plain": [
              "<matplotlib.figure.Figure at 0x7f5bc10f0278>"
            ]
          },
          "metadata": {
            "tags": []
          }
        }
      ]
    },
    {
      "metadata": {
        "id": "uADTg27lNTW4",
        "colab_type": "text"
      },
      "cell_type": "markdown",
      "source": [
        "# Матрицы\n",
        "Матрица это прямоугольный массив скаляров (любые числа: целые, комплексные и дробные) расположенные в строках и столбцах, например:\n",
        "\n",
        "\\begin{bmatrix} 10 & 20 & 30 \\\\ 40 & 50 & 60 \\end{bmatrix}\n",
        "\n",
        "Вы также можете думать, что матрица это список векторов, т.е. прошлая матрица содержит 2 трехмерных вектора или 3 вертикальных двухмерных векторов.\n",
        "\n",
        "Матрицы очень удобны и эффективны для операций над многими векторами за один раз. Мы также увидим, что они представляют и выполняют линейные трансформации, такие как поворот, смещение и изменение размерности. \n"
      ]
    },
    {
      "metadata": {
        "id": "9McrkeSzNTW5",
        "colab_type": "text"
      },
      "cell_type": "markdown",
      "source": [
        "## Матрицы в python\n",
        "В python, матрицу можно представить различными способами. Самый простой - списком списков:"
      ]
    },
    {
      "metadata": {
        "id": "ibZwcnduNTW6",
        "colab_type": "code",
        "colab": {
          "base_uri": "https://localhost:8080/",
          "height": 36
        },
        "outputId": "d37260f5-4f14-4834-8642-eef3de68e9a9"
      },
      "cell_type": "code",
      "source": [
        "[\n",
        "    [10, 20, 30],\n",
        "    [40, 50, 60]\n",
        "]"
      ],
      "execution_count": 0,
      "outputs": [
        {
          "output_type": "execute_result",
          "data": {
            "text/plain": [
              "[[10, 20, 30], [40, 50, 60]]"
            ]
          },
          "metadata": {
            "tags": []
          },
          "execution_count": 29
        }
      ]
    },
    {
      "metadata": {
        "id": "98I3OYRNNTW-",
        "colab_type": "text"
      },
      "cell_type": "markdown",
      "source": [
        "Более эффективным будет использование библиотеки NumPy, которая предоставляет оптимизированные имплементации матричных операций:"
      ]
    },
    {
      "metadata": {
        "id": "gPA5Y56_NTW_",
        "colab_type": "code",
        "colab": {
          "base_uri": "https://localhost:8080/",
          "height": 55
        },
        "outputId": "f5e03ff3-6cde-4e45-f94d-351b3fb3b74a"
      },
      "cell_type": "code",
      "source": [
        "A = np.array([\n",
        "    [10,20,30],\n",
        "    [40,50,60]\n",
        "])\n",
        "A"
      ],
      "execution_count": 0,
      "outputs": [
        {
          "output_type": "execute_result",
          "data": {
            "text/plain": [
              "array([[10, 20, 30],\n",
              "       [40, 50, 60]])"
            ]
          },
          "metadata": {
            "tags": []
          },
          "execution_count": 30
        }
      ]
    },
    {
      "metadata": {
        "id": "CgAzaoKeNTXD",
        "colab_type": "text"
      },
      "cell_type": "markdown",
      "source": [
        "Было решено обозначать матрицы заглавными буквами, например $A$.\n",
        "\n",
        "В дальнейшем также будем использовать тип матриц из NumPy (тип `ndarray`) для представления матриц."
      ]
    },
    {
      "metadata": {
        "id": "nAnF0gB6NTXD",
        "colab_type": "text"
      },
      "cell_type": "markdown",
      "source": [
        "## Размерность\n",
        "Размерность матрицы определяет количество строк и столбцов. Обозначается как $строки \\times столбцы$. Например, матрица $A$ с примера выше, пример матрицы $2 \\times 3$: 2 строки, 3 столбца. Внимание: матрица $3 \\times 2$ будет иметь 3 строки и 2 столбца.\n",
        "\n",
        "Чтобы получить размерность матрицы в NumPy:"
      ]
    },
    {
      "metadata": {
        "id": "qEkPXGr7NTXE",
        "colab_type": "code",
        "colab": {
          "base_uri": "https://localhost:8080/",
          "height": 36
        },
        "outputId": "a0b1d28b-e336-45b0-8634-df1cdda0263e"
      },
      "cell_type": "code",
      "source": [
        "A.shape"
      ],
      "execution_count": 0,
      "outputs": [
        {
          "output_type": "execute_result",
          "data": {
            "text/plain": [
              "(2, 3)"
            ]
          },
          "metadata": {
            "tags": []
          },
          "execution_count": 31
        }
      ]
    },
    {
      "metadata": {
        "id": "G2d0GQNPNTXI",
        "colab_type": "text"
      },
      "cell_type": "markdown",
      "source": [
        "**Внимание**: атрибут `size` выводит количество элементов в `ndarray`, а не размер матриц:"
      ]
    },
    {
      "metadata": {
        "id": "pZBIxcK4NTXI",
        "colab_type": "code",
        "colab": {
          "base_uri": "https://localhost:8080/",
          "height": 36
        },
        "outputId": "7c4bac75-08e4-4aab-9a68-a32e471450e7"
      },
      "cell_type": "code",
      "source": [
        "A.size"
      ],
      "execution_count": 0,
      "outputs": [
        {
          "output_type": "execute_result",
          "data": {
            "text/plain": [
              "6"
            ]
          },
          "metadata": {
            "tags": []
          },
          "execution_count": 32
        }
      ]
    },
    {
      "metadata": {
        "id": "Czm1FvV3NTXM",
        "colab_type": "text"
      },
      "cell_type": "markdown",
      "source": [
        "## Индексация элементов\n",
        "Число расположенное в $i^{th}$ строке, и $j^{th}$ колонке матрицы $X$ обозначают $X_{i,j}$ или $X_{ij}$, т.к. нет стандрата обозначения, поэтому люди обычно указывают элементы и размеры матрицы: \"*пусть $X = (x_{i,j})_{1 ≤ i ≤ m, 1 ≤ j ≤ n}$*\". Это означает, что матрица $X$ равна:\n",
        "\n",
        "$X = \\begin{bmatrix}\n",
        "  x_{1,1} & x_{1,2} & x_{1,3} & \\cdots & x_{1,n}\\\\\n",
        "  x_{2,1} & x_{2,2} & x_{2,3} & \\cdots & x_{2,n}\\\\\n",
        "  x_{3,1} & x_{3,2} & x_{3,3} & \\cdots & x_{3,n}\\\\\n",
        "  \\vdots & \\vdots & \\vdots & \\ddots & \\vdots \\\\\n",
        "  x_{m,1} & x_{m,2} & x_{m,3} & \\cdots & x_{m,n}\\\\\n",
        "\\end{bmatrix}$\n",
        "\n",
        "Однако в этом блокноте, мы будет использовать следующий вид индексации $X_{i,j}$. Отметим, что в математике индексация начинается с 1, но в программировании оно идет с 0. Для доступа к элементу $A_{2,3}$ программно, нам нужно написать следующее:"
      ]
    },
    {
      "metadata": {
        "id": "u_vnK3RMNTXN",
        "colab_type": "code",
        "colab": {
          "base_uri": "https://localhost:8080/",
          "height": 36
        },
        "outputId": "c8561da7-cbe6-4607-d510-96411de03b0a"
      },
      "cell_type": "code",
      "source": [
        "A[1,2]  # 2ая строка, 3тий столбец"
      ],
      "execution_count": 0,
      "outputs": [
        {
          "output_type": "execute_result",
          "data": {
            "text/plain": [
              "60"
            ]
          },
          "metadata": {
            "tags": []
          },
          "execution_count": 33
        }
      ]
    },
    {
      "metadata": {
        "id": "r8NZCCrXNTXT",
        "colab_type": "text"
      },
      "cell_type": "markdown",
      "source": [
        "$i^{th}$ строку в виде вектора, обычно обозначают $M_i$ или $M_{i,*}$, но опять же тут нет стандарта обозначения, поэтому люди строго указывают какой вариант они используют: \"*пусть **x**$_{i}$ будет $i^{th}$ строкой в виде вектора матрицы $X$*\". Мы будет использовать такое обозначение: $M_{i,*}$. Например, чтобы получить $A_{2,*}$ (т.е. $A$ вторую строку):"
      ]
    },
    {
      "metadata": {
        "id": "VuONsNmuNTXT",
        "colab_type": "code",
        "colab": {
          "base_uri": "https://localhost:8080/",
          "height": 36
        },
        "outputId": "aa1e5272-d5dc-4885-83a8-4e41868eb771"
      },
      "cell_type": "code",
      "source": [
        "A[1, :]  # 2ая строка в виде вектора (как одномерный массив)"
      ],
      "execution_count": 0,
      "outputs": [
        {
          "output_type": "execute_result",
          "data": {
            "text/plain": [
              "array([40, 50, 60])"
            ]
          },
          "metadata": {
            "tags": []
          },
          "execution_count": 34
        }
      ]
    },
    {
      "metadata": {
        "id": "cFYTZiejNTXW",
        "colab_type": "text"
      },
      "cell_type": "markdown",
      "source": [
        "Аналогично, что $j^{th}$ столбце обозначают $M^j$ или $M_{*,j}$. Мы будем использовать такой вот вариант обозначения: $M_{*,j}$. Например, чтобы получить $A_{*,3}$ (т.е. $A$ третий столбец):"
      ]
    },
    {
      "metadata": {
        "id": "zLc8FQzgNTXX",
        "colab_type": "code",
        "colab": {
          "base_uri": "https://localhost:8080/",
          "height": 36
        },
        "outputId": "70893cd4-7413-4322-a3a6-30a4bcbeefa1"
      },
      "cell_type": "code",
      "source": [
        "A[:, 2]  # 3ий столбец (как одномерный массив)"
      ],
      "execution_count": 0,
      "outputs": [
        {
          "output_type": "execute_result",
          "data": {
            "text/plain": [
              "array([30, 60])"
            ]
          },
          "metadata": {
            "tags": []
          },
          "execution_count": 35
        }
      ]
    },
    {
      "metadata": {
        "id": "0Q8uURV9NTXa",
        "colab_type": "code",
        "colab": {
          "base_uri": "https://localhost:8080/",
          "height": 36
        },
        "outputId": "495f087b-adfa-407b-934c-a6f901af3715"
      },
      "cell_type": "code",
      "source": [
        "A[1:2, :]  # строки 2 по 3 (невключая): это вернет вторую строку в виде однострочной матрицы"
      ],
      "execution_count": 0,
      "outputs": [
        {
          "output_type": "execute_result",
          "data": {
            "text/plain": [
              "array([[40, 50, 60]])"
            ]
          },
          "metadata": {
            "tags": []
          },
          "execution_count": 36
        }
      ]
    },
    {
      "metadata": {
        "id": "0Wqf3xpDNTXd",
        "colab_type": "code",
        "colab": {
          "base_uri": "https://localhost:8080/",
          "height": 55
        },
        "outputId": "3b490429-7155-4c0a-a28a-5e15bcd18f6b"
      },
      "cell_type": "code",
      "source": [
        "A[:, 2:3]  # столбцы 3 по 4 (невключая): это вернет третий столбец в виде одностолбцовой матрицы"
      ],
      "execution_count": 0,
      "outputs": [
        {
          "output_type": "execute_result",
          "data": {
            "text/plain": [
              "array([[30],\n",
              "       [60]])"
            ]
          },
          "metadata": {
            "tags": []
          },
          "execution_count": 37
        }
      ]
    },
    {
      "metadata": {
        "id": "K25CYBlbNTXj",
        "colab_type": "text"
      },
      "cell_type": "markdown",
      "source": [
        "## Квадратная, треугольная, диагональная и единичная матрицы\n",
        "**Квадратная матрицы** это матрица у которой число строк и столбцов совпадает, например, матрица $3 \\times 3$:\n",
        "\n",
        "\\begin{bmatrix}\n",
        "  4 & 9 & 2 \\\\\n",
        "  3 & 5 & 7 \\\\\n",
        "  8 & 1 & 6\n",
        "\\end{bmatrix}"
      ]
    },
    {
      "metadata": {
        "id": "j2vyKJunNTXk",
        "colab_type": "text"
      },
      "cell_type": "markdown",
      "source": [
        "**Верхнетреугольная матрица** это специальный тип квадратных матриц, у которыъх все элементы *ниже* главной диагонали нули, например:\n",
        "\n",
        "\\begin{bmatrix}\n",
        "  4 & 9 & 2 \\\\\n",
        "  0 & 5 & 7 \\\\\n",
        "  0 & 0 & 6\n",
        "\\end{bmatrix}"
      ]
    },
    {
      "metadata": {
        "id": "hsRG-BWgNTXl",
        "colab_type": "text"
      },
      "cell_type": "markdown",
      "source": [
        "Точно также  **нижнетреугольная матрица** это квадратная матрица у которой все элементы *выше* главно диагонали нули, например:\n",
        "\n",
        "\\begin{bmatrix}\n",
        "  4 & 0 & 0 \\\\\n",
        "  3 & 5 & 0 \\\\\n",
        "  8 & 1 & 6\n",
        "\\end{bmatrix}"
      ]
    },
    {
      "metadata": {
        "id": "g3v8-usdNTXm",
        "colab_type": "text"
      },
      "cell_type": "markdown",
      "source": [
        "Матрица, которая одновременно верхне и нижнетреугольная, называется **диагональной матрицей**, например:\n",
        "\n",
        "\\begin{bmatrix}\n",
        "  4 & 0 & 0 \\\\\n",
        "  0 & 5 & 0 \\\\\n",
        "  0 & 0 & 6\n",
        "\\end{bmatrix}\n",
        "\n",
        "Такую матрицу можно построить с помощью NumPy's методом `diag`:"
      ]
    },
    {
      "metadata": {
        "id": "Gvx8MS00NTXo",
        "colab_type": "code",
        "colab": {
          "base_uri": "https://localhost:8080/",
          "height": 74
        },
        "outputId": "f19ac7b9-41eb-442c-fe0b-19b056192cb3"
      },
      "cell_type": "code",
      "source": [
        "np.diag([4, 5, 6])"
      ],
      "execution_count": 0,
      "outputs": [
        {
          "output_type": "execute_result",
          "data": {
            "text/plain": [
              "array([[4, 0, 0],\n",
              "       [0, 5, 0],\n",
              "       [0, 0, 6]])"
            ]
          },
          "metadata": {
            "tags": []
          },
          "execution_count": 38
        }
      ]
    },
    {
      "metadata": {
        "id": "cxz-0ISdNTXr",
        "colab_type": "text"
      },
      "cell_type": "markdown",
      "source": [
        "Если передать матрицу в функцию `diag`, то она вернет диагональные элементы:"
      ]
    },
    {
      "metadata": {
        "id": "IubYIAYDNTXr",
        "colab_type": "code",
        "colab": {
          "base_uri": "https://localhost:8080/",
          "height": 36
        },
        "outputId": "6094416e-a7ac-49f2-c843-08b7f009b297"
      },
      "cell_type": "code",
      "source": [
        "D = np.array([\n",
        "        [1, 2, 3],\n",
        "        [4, 5, 6],\n",
        "        [7, 8, 9],\n",
        "    ])\n",
        "np.diag(D)"
      ],
      "execution_count": 0,
      "outputs": [
        {
          "output_type": "execute_result",
          "data": {
            "text/plain": [
              "array([1, 5, 9])"
            ]
          },
          "metadata": {
            "tags": []
          },
          "execution_count": 39
        }
      ]
    },
    {
      "metadata": {
        "id": "U903ksF1NTXw",
        "colab_type": "text"
      },
      "cell_type": "markdown",
      "source": [
        "**Единичная матрица** размера $n$, обозначается $I_n$, это диагональная матрица размера  $n \\times n$ с $1$ стоящими на главной диагонали, например $I_3$:\n",
        "\n",
        "\\begin{bmatrix}\n",
        "  1 & 0 & 0 \\\\\n",
        "  0 & 1 & 0 \\\\\n",
        "  0 & 0 & 1\n",
        "\\end{bmatrix}\n",
        "\n",
        "Функция `eye` в Numpy  вернет единичную матрицу заданного размера:"
      ]
    },
    {
      "metadata": {
        "id": "VGyjXve9NTXx",
        "colab_type": "code",
        "colab": {
          "base_uri": "https://localhost:8080/",
          "height": 74
        },
        "outputId": "2ac6fb9c-0c79-4dec-ceca-2746f9fb306f"
      },
      "cell_type": "code",
      "source": [
        "np.eye(3)"
      ],
      "execution_count": 0,
      "outputs": [
        {
          "output_type": "execute_result",
          "data": {
            "text/plain": [
              "array([[1., 0., 0.],\n",
              "       [0., 1., 0.],\n",
              "       [0., 0., 1.]])"
            ]
          },
          "metadata": {
            "tags": []
          },
          "execution_count": 40
        }
      ]
    },
    {
      "metadata": {
        "id": "pMlbxWXFNTX1",
        "colab_type": "text"
      },
      "cell_type": "markdown",
      "source": [
        "Единичную матрицу обычно пишут так $I$ (вместо $I_n$) т.к. ее размер понятен в контектсе. Умножение единичной матрицы на другую матрицу оставляетм матрицу незименной и позже мы посмотрим почему."
      ]
    },
    {
      "metadata": {
        "id": "RWsYD1RONTX1",
        "colab_type": "text"
      },
      "cell_type": "markdown",
      "source": [
        "## Сложение матрицы\n",
        "Если две матрицы $Q$ и $R$ имеют туже размерность $m \\times n$, их можно сложить вместе. Сложение идет поэлементно, результатом также является матрица $S$ размера $m \\times n$, где каждый элемент является суммой элементов на соответсвующих позициях: $S_{i,j} = Q_{i,j} + R_{i,j}$\n",
        "\n",
        "$S =\n",
        "\\begin{bmatrix}\n",
        "  Q_{11} + R_{11} & Q_{12} + R_{12} & Q_{13} + R_{13} & \\cdots & Q_{1n} + R_{1n} \\\\\n",
        "  Q_{21} + R_{21} & Q_{22} + R_{22} & Q_{23} + R_{23} & \\cdots & Q_{2n} + R_{2n}  \\\\\n",
        "  Q_{31} + R_{31} & Q_{32} + R_{32} & Q_{33} + R_{33} & \\cdots & Q_{3n} + R_{3n}  \\\\\n",
        "  \\vdots & \\vdots & \\vdots & \\ddots & \\vdots \\\\\n",
        "  Q_{m1} + R_{m1} & Q_{m2} + R_{m2} & Q_{m3} + R_{m3} & \\cdots & Q_{mn} + R_{mn}  \\\\\n",
        "\\end{bmatrix}$\n",
        "\n",
        "Для примера создадим матрицу $B$ размера $2 \\times 3$ и сложим $A + B$:"
      ]
    },
    {
      "metadata": {
        "id": "ATeRKhJxNTX2",
        "colab_type": "code",
        "colab": {
          "base_uri": "https://localhost:8080/",
          "height": 55
        },
        "outputId": "e51206b5-7627-490f-b146-04d33aea5309"
      },
      "cell_type": "code",
      "source": [
        "B = np.array([[1,2,3], [4, 5, 6]])\n",
        "B"
      ],
      "execution_count": 0,
      "outputs": [
        {
          "output_type": "execute_result",
          "data": {
            "text/plain": [
              "array([[1, 2, 3],\n",
              "       [4, 5, 6]])"
            ]
          },
          "metadata": {
            "tags": []
          },
          "execution_count": 41
        }
      ]
    },
    {
      "metadata": {
        "id": "1INSiOZhNTX6",
        "colab_type": "code",
        "colab": {
          "base_uri": "https://localhost:8080/",
          "height": 55
        },
        "outputId": "9d0884fd-100f-4041-f49a-1efc7046e5b6"
      },
      "cell_type": "code",
      "source": [
        "A"
      ],
      "execution_count": 0,
      "outputs": [
        {
          "output_type": "execute_result",
          "data": {
            "text/plain": [
              "array([[10, 20, 30],\n",
              "       [40, 50, 60]])"
            ]
          },
          "metadata": {
            "tags": []
          },
          "execution_count": 42
        }
      ]
    },
    {
      "metadata": {
        "id": "hOw9EayHNTX8",
        "colab_type": "code",
        "colab": {
          "base_uri": "https://localhost:8080/",
          "height": 55
        },
        "outputId": "87248412-2f7f-462b-dcb7-7525bd357382"
      },
      "cell_type": "code",
      "source": [
        "A + B"
      ],
      "execution_count": 0,
      "outputs": [
        {
          "output_type": "execute_result",
          "data": {
            "text/plain": [
              "array([[11, 22, 33],\n",
              "       [44, 55, 66]])"
            ]
          },
          "metadata": {
            "tags": []
          },
          "execution_count": 43
        }
      ]
    },
    {
      "metadata": {
        "id": "yPEjj4taNTX_",
        "colab_type": "text"
      },
      "cell_type": "markdown",
      "source": [
        "**Сложение *коммутативно***, другими словами $A + B = B + A$:"
      ]
    },
    {
      "metadata": {
        "id": "IJddELTzNTX_",
        "colab_type": "code",
        "colab": {
          "base_uri": "https://localhost:8080/",
          "height": 55
        },
        "outputId": "d7509a39-3d14-4e46-fa05-4e8981448697"
      },
      "cell_type": "code",
      "source": [
        "B + A"
      ],
      "execution_count": 0,
      "outputs": [
        {
          "output_type": "execute_result",
          "data": {
            "text/plain": [
              "array([[11, 22, 33],\n",
              "       [44, 55, 66]])"
            ]
          },
          "metadata": {
            "tags": []
          },
          "execution_count": 44
        }
      ]
    },
    {
      "metadata": {
        "id": "nMa4PtJXNTYB",
        "colab_type": "text"
      },
      "cell_type": "markdown",
      "source": [
        "**Оно также *ассоциативно***, т.е. $A + (B + C) = (A + B) + C$:"
      ]
    },
    {
      "metadata": {
        "id": "9pGF2APFNTYC",
        "colab_type": "code",
        "colab": {
          "base_uri": "https://localhost:8080/",
          "height": 55
        },
        "outputId": "d8df92b0-0443-4db2-f448-f516c86f5663"
      },
      "cell_type": "code",
      "source": [
        "C = np.array([[100,200,300], [400, 500, 600]])\n",
        "\n",
        "A + (B + C)"
      ],
      "execution_count": 0,
      "outputs": [
        {
          "output_type": "execute_result",
          "data": {
            "text/plain": [
              "array([[111, 222, 333],\n",
              "       [444, 555, 666]])"
            ]
          },
          "metadata": {
            "tags": []
          },
          "execution_count": 45
        }
      ]
    },
    {
      "metadata": {
        "id": "1r_NshIzNTYF",
        "colab_type": "code",
        "colab": {
          "base_uri": "https://localhost:8080/",
          "height": 55
        },
        "outputId": "fb461785-44b8-45d7-e65e-31164cfe6f13"
      },
      "cell_type": "code",
      "source": [
        "(A + B) + C"
      ],
      "execution_count": 0,
      "outputs": [
        {
          "output_type": "execute_result",
          "data": {
            "text/plain": [
              "array([[111, 222, 333],\n",
              "       [444, 555, 666]])"
            ]
          },
          "metadata": {
            "tags": []
          },
          "execution_count": 46
        }
      ]
    },
    {
      "metadata": {
        "id": "r_MhaF02NTYI",
        "colab_type": "text"
      },
      "cell_type": "markdown",
      "source": [
        "## Умножение на скаляр\n",
        "Матрица $M$ может быть умножена на скаляр $\\lambda$. Результат обозначается как $\\lambda M$, и является матрицей той же размерности как и оргинальная матрица $M$, со всеми элементами умноженными на $\\lambda$:\n",
        "\n",
        "$\\lambda M =\n",
        "\\begin{bmatrix}\n",
        "  \\lambda \\times M_{11} & \\lambda \\times M_{12} & \\lambda \\times M_{13} & \\cdots & \\lambda \\times M_{1n} \\\\\n",
        "  \\lambda \\times M_{21} & \\lambda \\times M_{22} & \\lambda \\times M_{23} & \\cdots & \\lambda \\times M_{2n} \\\\\n",
        "  \\lambda \\times M_{31} & \\lambda \\times M_{32} & \\lambda \\times M_{33} & \\cdots & \\lambda \\times M_{3n} \\\\\n",
        "  \\vdots & \\vdots & \\vdots & \\ddots & \\vdots \\\\\n",
        "  \\lambda \\times M_{m1} & \\lambda \\times M_{m2} & \\lambda \\times M_{m3} & \\cdots & \\lambda \\times M_{mn} \\\\\n",
        "\\end{bmatrix}$\n",
        "\n",
        "Более правильно записывать умножение на скаляр вот так:\n",
        "\n",
        "$(\\lambda M)_{i,j} = \\lambda (M)_{i,j}$\n",
        "\n",
        "В NumPy, просто используйте оператор`*` для умножения матрицы на скаляр. Например:"
      ]
    },
    {
      "metadata": {
        "id": "IRZcTmNBNTYI",
        "colab_type": "code",
        "colab": {
          "base_uri": "https://localhost:8080/",
          "height": 55
        },
        "outputId": "89fbc1df-5cad-476f-de0a-db38d52e44cb"
      },
      "cell_type": "code",
      "source": [
        "2 * A"
      ],
      "execution_count": 0,
      "outputs": [
        {
          "output_type": "execute_result",
          "data": {
            "text/plain": [
              "array([[ 20,  40,  60],\n",
              "       [ 80, 100, 120]])"
            ]
          },
          "metadata": {
            "tags": []
          },
          "execution_count": 47
        }
      ]
    },
    {
      "metadata": {
        "id": "PSpYc4GiNTYL",
        "colab_type": "text"
      },
      "cell_type": "markdown",
      "source": [
        "Умножение на скаляр также определено и с правой стороны, и дает точно такой же результат: $M \\lambda = \\lambda M$. Например:"
      ]
    },
    {
      "metadata": {
        "id": "jdfQ9frLNTYL",
        "colab_type": "code",
        "colab": {
          "base_uri": "https://localhost:8080/",
          "height": 53
        },
        "outputId": "921bfbae-6ec4-413b-e2ed-1811b3a0341b"
      },
      "cell_type": "code",
      "source": [
        "A * 2"
      ],
      "execution_count": 0,
      "outputs": [
        {
          "output_type": "execute_result",
          "data": {
            "text/plain": [
              "array([[ 20,  40,  60],\n",
              "       [ 80, 100, 120]])"
            ]
          },
          "metadata": {
            "tags": []
          },
          "execution_count": 3
        }
      ]
    },
    {
      "metadata": {
        "id": "VG1_aJFdNTYO",
        "colab_type": "text"
      },
      "cell_type": "markdown",
      "source": [
        "Что делает умножение на скаляр **коммутативно**.\n",
        "\n",
        "Оно также **ассоциативно**, что означает $\\alpha (\\beta M) = (\\alpha \\times \\beta) M$, где $\\alpha$ и $\\beta$ скаляры. Например:"
      ]
    },
    {
      "metadata": {
        "id": "7UxN6St7NTYO",
        "colab_type": "code",
        "colab": {
          "base_uri": "https://localhost:8080/",
          "height": 55
        },
        "outputId": "da1f03fc-0e11-4e02-8390-774ecf1cbb22"
      },
      "cell_type": "code",
      "source": [
        "2 * (3 * A)"
      ],
      "execution_count": 0,
      "outputs": [
        {
          "output_type": "execute_result",
          "data": {
            "text/plain": [
              "array([[ 60, 120, 180],\n",
              "       [240, 300, 360]])"
            ]
          },
          "metadata": {
            "tags": []
          },
          "execution_count": 49
        }
      ]
    },
    {
      "metadata": {
        "id": "vIXlDUokNTYS",
        "colab_type": "code",
        "colab": {
          "base_uri": "https://localhost:8080/",
          "height": 55
        },
        "outputId": "1f3d3f8d-c770-43d8-99fc-1fab61d0f02e"
      },
      "cell_type": "code",
      "source": [
        "(2 * 3) * A"
      ],
      "execution_count": 0,
      "outputs": [
        {
          "output_type": "execute_result",
          "data": {
            "text/plain": [
              "array([[ 60, 120, 180],\n",
              "       [240, 300, 360]])"
            ]
          },
          "metadata": {
            "tags": []
          },
          "execution_count": 50
        }
      ]
    },
    {
      "metadata": {
        "id": "wNXJbrk8NTYW",
        "colab_type": "text"
      },
      "cell_type": "markdown",
      "source": [
        "Наконец умножение **дистрибутивно над сложением** матриц, т.е. $\\lambda (Q + R) = \\lambda Q + \\lambda R$:"
      ]
    },
    {
      "metadata": {
        "id": "eghB_zs4NTYW",
        "colab_type": "code",
        "colab": {
          "base_uri": "https://localhost:8080/",
          "height": 55
        },
        "outputId": "a7fbb15b-e3bb-45b6-ed5c-79467e8edafa"
      },
      "cell_type": "code",
      "source": [
        "2 * (A + B)"
      ],
      "execution_count": 0,
      "outputs": [
        {
          "output_type": "execute_result",
          "data": {
            "text/plain": [
              "array([[ 22,  44,  66],\n",
              "       [ 88, 110, 132]])"
            ]
          },
          "metadata": {
            "tags": []
          },
          "execution_count": 51
        }
      ]
    },
    {
      "metadata": {
        "id": "3JaQ-DvDNTYb",
        "colab_type": "code",
        "colab": {
          "base_uri": "https://localhost:8080/",
          "height": 55
        },
        "outputId": "ccb5d1d2-a1e6-4ca2-e867-87c72e98aa28"
      },
      "cell_type": "code",
      "source": [
        "2 * A + 2 * B"
      ],
      "execution_count": 0,
      "outputs": [
        {
          "output_type": "execute_result",
          "data": {
            "text/plain": [
              "array([[ 22,  44,  66],\n",
              "       [ 88, 110, 132]])"
            ]
          },
          "metadata": {
            "tags": []
          },
          "execution_count": 52
        }
      ]
    },
    {
      "metadata": {
        "id": "19i6BmOuNTYe",
        "colab_type": "text"
      },
      "cell_type": "markdown",
      "source": [
        "## Умножение матриц\n",
        "Пока что умножение матриц было интуитивным. Но вот умножение матрицы на матрицу уже сложнее и в нем нужно хорошо разобраться. \n",
        "\n",
        "Матрицу $Q$ размера $m \\times n$ можно умножить на матрицу $R$ размера $n \\times q$. Обозначается умножние просто $QR$ без символов умножения или точек. Результатом является матрица $P$ размера $m \\times q$ в которой каждый элемент высчитывается по данной формуле:\n",
        "\n",
        "$P_{i,j} = \\sum_{k=1}^n{Q_{i,k} \\times R_{k,j}}$\n",
        "\n",
        "Элемент на позиции $i,j$ в результирующей матрице - это сумма произведения элементов строки $i$ матрицы $Q$ на элементы столбца $j$ матрицы $R$.\n",
        "\n",
        "$P =\n",
        "\\begin{bmatrix}\n",
        "Q_{11} R_{11} + Q_{12} R_{21} + \\cdots + Q_{1n} R_{n1} &\n",
        "  Q_{11} R_{12} + Q_{12} R_{22} + \\cdots + Q_{1n} R_{n2} &\n",
        "    \\cdots &\n",
        "      Q_{11} R_{1q} + Q_{12} R_{2q} + \\cdots + Q_{1n} R_{nq} \\\\\n",
        "Q_{21} R_{11} + Q_{22} R_{21} + \\cdots + Q_{2n} R_{n1} &\n",
        "  Q_{21} R_{12} + Q_{22} R_{22} + \\cdots + Q_{2n} R_{n2} &\n",
        "    \\cdots &\n",
        "      Q_{21} R_{1q} + Q_{22} R_{2q} + \\cdots + Q_{2n} R_{nq} \\\\\n",
        "  \\vdots & \\vdots & \\ddots & \\vdots \\\\\n",
        "Q_{m1} R_{11} + Q_{m2} R_{21} + \\cdots + Q_{mn} R_{n1} &\n",
        "  Q_{m1} R_{12} + Q_{m2} R_{22} + \\cdots + Q_{mn} R_{n2} &\n",
        "    \\cdots &\n",
        "      Q_{m1} R_{1q} + Q_{m2} R_{2q} + \\cdots + Q_{mn} R_{nq}\n",
        "\\end{bmatrix}$\n",
        "\n",
        "Можно заметить, что каждый $P_{i,j}$ это скалярное произведение векторной  строки $Q_{i,*}$ и векторного столбца $R_{*,j}$:\n",
        "\n",
        "$P_{i,j} = Q_{i,*} \\cdot R_{*,j}$\n",
        "\n",
        "Мы можем переписать $P$ более правильнее вот так:\n",
        "\n",
        "$P =\n",
        "\\begin{bmatrix}\n",
        "Q_{1,*} \\cdot R_{*,1} & Q_{1,*} \\cdot R_{*,2} & \\cdots & Q_{1,*} \\cdot R_{*,q} \\\\\n",
        "Q_{2,*} \\cdot R_{*,1} & Q_{2,*} \\cdot R_{*,2} & \\cdots & Q_{2,*} \\cdot R_{*,q} \\\\\n",
        "\\vdots & \\vdots & \\ddots & \\vdots \\\\\n",
        "Q_{m,*} \\cdot R_{*,1} & Q_{m,*} \\cdot R_{*,2} & \\cdots & Q_{m,*} \\cdot R_{*,q}\n",
        "\\end{bmatrix}$\n"
      ]
    },
    {
      "metadata": {
        "id": "CPIHHrRaNTYf",
        "colab_type": "text"
      },
      "cell_type": "markdown",
      "source": [
        "Давайте перемножим 2 матрицы в NumPy, используя метод `dot` у `ndarray`:\n",
        "\n",
        "$E = AD = \\begin{bmatrix}\n",
        "  10 & 20 & 30 \\\\\n",
        "  40 & 50 & 60\n",
        "\\end{bmatrix} \n",
        "\\begin{bmatrix}\n",
        "  2 & 3 & 5 & 7 \\\\\n",
        "  11 & 13 & 17 & 19 \\\\\n",
        "  23 & 29 & 31 & 37\n",
        "\\end{bmatrix} = \n",
        "\\begin{bmatrix}\n",
        "  930 & 1160 & 1320 & 1560 \\\\\n",
        "  2010 & 2510 & 2910 & 3450\n",
        "\\end{bmatrix}$"
      ]
    },
    {
      "metadata": {
        "id": "X0Zsss5ONTYg",
        "colab_type": "code",
        "colab": {
          "base_uri": "https://localhost:8080/",
          "height": 55
        },
        "outputId": "baa8a31b-d9dd-403e-acdb-68b8d2f5bdbe"
      },
      "cell_type": "code",
      "source": [
        "D = np.array([\n",
        "        [ 2,  3,  5,  7],\n",
        "        [11, 13, 17, 19],\n",
        "        [23, 29, 31, 37]\n",
        "    ])\n",
        "E = A.dot(D)\n",
        "E"
      ],
      "execution_count": 0,
      "outputs": [
        {
          "output_type": "execute_result",
          "data": {
            "text/plain": [
              "array([[ 930, 1160, 1320, 1560],\n",
              "       [2010, 2510, 2910, 3450]])"
            ]
          },
          "metadata": {
            "tags": []
          },
          "execution_count": 53
        }
      ]
    },
    {
      "metadata": {
        "id": "Kqk469VhNTYj",
        "colab_type": "text"
      },
      "cell_type": "markdown",
      "source": [
        "Давайте проверим результат, внимательно изучив один элемент, чтобы просто быть уверенными: посмотрим на $E_{2,3}$, мы должны умножить элементы во второй строке  $A$ на  элементы третьего столбца $D$, и сложить сумму этих произведений:"
      ]
    },
    {
      "metadata": {
        "id": "IiehL9ByNTYj",
        "colab_type": "code",
        "colab": {
          "base_uri": "https://localhost:8080/",
          "height": 36
        },
        "outputId": "9f87732b-f545-4375-a48a-546aa71a77f2"
      },
      "cell_type": "code",
      "source": [
        "40*5 + 50*17 + 60*31"
      ],
      "execution_count": 0,
      "outputs": [
        {
          "output_type": "execute_result",
          "data": {
            "text/plain": [
              "2910"
            ]
          },
          "metadata": {
            "tags": []
          },
          "execution_count": 54
        }
      ]
    },
    {
      "metadata": {
        "id": "lREexEqJNTYn",
        "colab_type": "code",
        "colab": {
          "base_uri": "https://localhost:8080/",
          "height": 36
        },
        "outputId": "fde32584-2e62-4380-c08d-e9b703581f59"
      },
      "cell_type": "code",
      "source": [
        "E[1,2]  # строка 2, столбец 3"
      ],
      "execution_count": 0,
      "outputs": [
        {
          "output_type": "execute_result",
          "data": {
            "text/plain": [
              "2910"
            ]
          },
          "metadata": {
            "tags": []
          },
          "execution_count": 55
        }
      ]
    },
    {
      "metadata": {
        "id": "pn0YpkRvNTYu",
        "colab_type": "text"
      },
      "cell_type": "markdown",
      "source": [
        "Выглядит верным.\n",
        "\n",
        "Мы умножили матрицу $2 \\times 3$ на матрицу $3 \\times 4$,  поэтому результатом бдует матрица $2 \\times 4$. Количество столбцов первой матрицы, должно равно количество строк второй матрицы. Если бы мы попробовали умножить $D$ на $A$, мы получили бы ошибку, т.к. у D 4 столбца, а у A 2 строки:"
      ]
    },
    {
      "metadata": {
        "id": "2GjCNFQ7NTYv",
        "colab_type": "code",
        "colab": {
          "base_uri": "https://localhost:8080/",
          "height": 36
        },
        "outputId": "76d982da-8047-4ebc-c99e-03073428d9ed"
      },
      "cell_type": "code",
      "source": [
        "try:\n",
        "    D.dot(A)\n",
        "except ValueError as e:\n",
        "    print(\"ValueError:\", e)"
      ],
      "execution_count": 0,
      "outputs": [
        {
          "output_type": "stream",
          "text": [
            "ValueError: shapes (3,4) and (2,3) not aligned: 4 (dim 1) != 2 (dim 0)\n"
          ],
          "name": "stdout"
        }
      ]
    },
    {
      "metadata": {
        "id": "ZPHoy8CBNTYy",
        "colab_type": "text"
      },
      "cell_type": "markdown",
      "source": [
        "Это показывает тот факт, что **умножение матриц *НЕ* коммутативно**: т.е \n",
        "$QR ≠ RQ$\n",
        "\n",
        "В частности, ситуаци $QR$ и $RQ$ возможны только, когда *оба* определены следуюйщим образом: $Q$ имеет размерность $m \\times n$ и $R$ имеет размерность $n \\times m$. Рассмотрим пример выше и покажем что они *НЕ* равны:"
      ]
    },
    {
      "metadata": {
        "id": "mplvzddKNTYy",
        "colab_type": "code",
        "colab": {
          "base_uri": "https://localhost:8080/",
          "height": 55
        },
        "outputId": "0ce63d7d-d31b-40c7-be35-aa86e4e2e8ab"
      },
      "cell_type": "code",
      "source": [
        "F = np.array([\n",
        "        [5,2],\n",
        "        [4,1],\n",
        "        [9,3]\n",
        "    ])\n",
        "A.dot(F)"
      ],
      "execution_count": 0,
      "outputs": [
        {
          "output_type": "execute_result",
          "data": {
            "text/plain": [
              "array([[400, 130],\n",
              "       [940, 310]])"
            ]
          },
          "metadata": {
            "tags": []
          },
          "execution_count": 57
        }
      ]
    },
    {
      "metadata": {
        "id": "ajwPbrt9NTY4",
        "colab_type": "code",
        "colab": {
          "base_uri": "https://localhost:8080/",
          "height": 74
        },
        "outputId": "8da009d4-d45c-4554-d723-fe0f482a0e72"
      },
      "cell_type": "code",
      "source": [
        "F.dot(A)"
      ],
      "execution_count": 0,
      "outputs": [
        {
          "output_type": "execute_result",
          "data": {
            "text/plain": [
              "array([[130, 200, 270],\n",
              "       [ 80, 130, 180],\n",
              "       [210, 330, 450]])"
            ]
          },
          "metadata": {
            "tags": []
          },
          "execution_count": 58
        }
      ]
    },
    {
      "metadata": {
        "id": "7C1zKIFnNTY7",
        "colab_type": "text"
      },
      "cell_type": "markdown",
      "source": [
        "С другой стороны, **матричное умножение *ассоциативно***, т.е. $Q(RS) = (QR)S$. Давайте создадим матрицу $G$ размера $4 \\times 5$ для демонстрации:"
      ]
    },
    {
      "metadata": {
        "id": "IPy-jLUlNTY8",
        "colab_type": "code",
        "colab": {
          "base_uri": "https://localhost:8080/",
          "height": 55
        },
        "outputId": "8b455670-78be-495b-909f-44e2103a1a30"
      },
      "cell_type": "code",
      "source": [
        "G = np.array([\n",
        "        [8,  7,  4,  2,  5],\n",
        "        [2,  5,  1,  0,  5],\n",
        "        [9, 11, 17, 21,  0],\n",
        "        [0,  1,  0,  1,  2]])\n",
        "A.dot(D).dot(G)     # (AB)G"
      ],
      "execution_count": 0,
      "outputs": [
        {
          "output_type": "execute_result",
          "data": {
            "text/plain": [
              "array([[21640, 28390, 27320, 31140, 13570],\n",
              "       [47290, 62080, 60020, 68580, 29500]])"
            ]
          },
          "metadata": {
            "tags": []
          },
          "execution_count": 59
        }
      ]
    },
    {
      "metadata": {
        "id": "Q2tB0R1ONTY-",
        "colab_type": "code",
        "colab": {
          "base_uri": "https://localhost:8080/",
          "height": 55
        },
        "outputId": "6b069cbc-85e7-4f01-fe87-e0dcc8b5a07c"
      },
      "cell_type": "code",
      "source": [
        "A.dot(D.dot(G))     # A(BG)"
      ],
      "execution_count": 0,
      "outputs": [
        {
          "output_type": "execute_result",
          "data": {
            "text/plain": [
              "array([[21640, 28390, 27320, 31140, 13570],\n",
              "       [47290, 62080, 60020, 68580, 29500]])"
            ]
          },
          "metadata": {
            "tags": []
          },
          "execution_count": 60
        }
      ]
    },
    {
      "metadata": {
        "id": "bMdm1NIeNTY_",
        "colab_type": "text"
      },
      "cell_type": "markdown",
      "source": [
        "Оно также ***дистрибутивно* над сложением** матриц, т.е. $(Q + R)S = QS + RS$. Например:"
      ]
    },
    {
      "metadata": {
        "id": "NAYy2ge6NTY_",
        "colab_type": "code",
        "colab": {
          "base_uri": "https://localhost:8080/",
          "height": 55
        },
        "outputId": "9179556d-67bd-40a3-e659-46877d43ee28"
      },
      "cell_type": "code",
      "source": [
        "(A + B).dot(D)"
      ],
      "execution_count": 0,
      "outputs": [
        {
          "output_type": "execute_result",
          "data": {
            "text/plain": [
              "array([[1023, 1276, 1452, 1716],\n",
              "       [2211, 2761, 3201, 3795]])"
            ]
          },
          "metadata": {
            "tags": []
          },
          "execution_count": 61
        }
      ]
    },
    {
      "metadata": {
        "id": "qpPpEAjeNTZA",
        "colab_type": "code",
        "colab": {
          "base_uri": "https://localhost:8080/",
          "height": 55
        },
        "outputId": "071ff275-3d33-43f3-ebba-48d6cc986551"
      },
      "cell_type": "code",
      "source": [
        "A.dot(D) + B.dot(D)"
      ],
      "execution_count": 0,
      "outputs": [
        {
          "output_type": "execute_result",
          "data": {
            "text/plain": [
              "array([[1023, 1276, 1452, 1716],\n",
              "       [2211, 2761, 3201, 3795]])"
            ]
          },
          "metadata": {
            "tags": []
          },
          "execution_count": 62
        }
      ]
    },
    {
      "metadata": {
        "id": "FhxKE6lyNTZB",
        "colab_type": "text"
      },
      "cell_type": "markdown",
      "source": [
        "Произведение матрицы $M$ на Единичную матрицу (того же размера) дает ту же самую матрицу $M$. Если матрица $M$ размера $m \\times n$, то:\n",
        "\n",
        "$M I_n = I_m M = M$\n",
        "\n",
        "Например:"
      ]
    },
    {
      "metadata": {
        "id": "fezlxg6TNTZC",
        "colab_type": "code",
        "colab": {
          "base_uri": "https://localhost:8080/",
          "height": 55
        },
        "outputId": "48b0067e-db13-4ef3-b802-60ed11a599da"
      },
      "cell_type": "code",
      "source": [
        "A.dot(np.eye(3))"
      ],
      "execution_count": 0,
      "outputs": [
        {
          "output_type": "execute_result",
          "data": {
            "text/plain": [
              "array([[10., 20., 30.],\n",
              "       [40., 50., 60.]])"
            ]
          },
          "metadata": {
            "tags": []
          },
          "execution_count": 63
        }
      ]
    },
    {
      "metadata": {
        "id": "y4ge5vMXNTZD",
        "colab_type": "code",
        "colab": {
          "base_uri": "https://localhost:8080/",
          "height": 55
        },
        "outputId": "bb36a63e-5297-461d-9f26-1bb1fe5d0474"
      },
      "cell_type": "code",
      "source": [
        "np.eye(2).dot(A)"
      ],
      "execution_count": 0,
      "outputs": [
        {
          "output_type": "execute_result",
          "data": {
            "text/plain": [
              "array([[10., 20., 30.],\n",
              "       [40., 50., 60.]])"
            ]
          },
          "metadata": {
            "tags": []
          },
          "execution_count": 64
        }
      ]
    },
    {
      "metadata": {
        "id": "MwnyNmDANTZF",
        "colab_type": "text"
      },
      "cell_type": "markdown",
      "source": [
        "**Внимание**: оператор `*` в NumPy выполняет поэлементное умножение, а *НЕ* перемножение матриц:"
      ]
    },
    {
      "metadata": {
        "id": "utk4y2WVNTZF",
        "colab_type": "code",
        "colab": {
          "base_uri": "https://localhost:8080/",
          "height": 55
        },
        "outputId": "6c34326e-0c61-46aa-f7b4-c5aac1fd0869"
      },
      "cell_type": "code",
      "source": [
        "A * B   # Не перемножение матриц"
      ],
      "execution_count": 0,
      "outputs": [
        {
          "output_type": "execute_result",
          "data": {
            "text/plain": [
              "array([[ 10,  40,  90],\n",
              "       [160, 250, 360]])"
            ]
          },
          "metadata": {
            "tags": []
          },
          "execution_count": 65
        }
      ]
    },
    {
      "metadata": {
        "id": "syXLWjJzNTZI",
        "colab_type": "text"
      },
      "cell_type": "markdown",
      "source": [
        "## Транспонирование матриц\n",
        "Транспонированной матрицей, матрицы $M$ называется матрица $M^T$, такая что $i^{th}$ строка матрицы $M^T$ равна $i^{th}$ столбцу в $M$:\n",
        "\n",
        "$ A^T =\n",
        "\\begin{bmatrix}\n",
        "  10 & 20 & 30 \\\\\n",
        "  40 & 50 & 60\n",
        "\\end{bmatrix}^T =\n",
        "\\begin{bmatrix}\n",
        "  10 & 40 \\\\\n",
        "  20 & 50 \\\\\n",
        "  30 & 60\n",
        "\\end{bmatrix}$\n",
        "\n",
        "Другими словами, ($A^T)_{i,j}$ = $A_{j,i}$\n",
        "\n",
        "Логично, что если $M$ размера $m \\times n$ matrix, то $M^T$ будет размера $n \\times m$.\n",
        "\n",
        "Отметим: что  обозначается по-разному: $M^t$, $M′$, or ${^t}M$.\n",
        "\n",
        "В NumPy, транспонированную матрицу можно получить с помощью аттрибута `T`:"
      ]
    },
    {
      "metadata": {
        "id": "ELgBk1uANTZJ",
        "colab_type": "code",
        "colab": {
          "base_uri": "https://localhost:8080/",
          "height": 55
        },
        "outputId": "88586a36-ec2a-46b8-c673-f89530ec42c5"
      },
      "cell_type": "code",
      "source": [
        "A"
      ],
      "execution_count": 0,
      "outputs": [
        {
          "output_type": "execute_result",
          "data": {
            "text/plain": [
              "array([[10, 20, 30],\n",
              "       [40, 50, 60]])"
            ]
          },
          "metadata": {
            "tags": []
          },
          "execution_count": 67
        }
      ]
    },
    {
      "metadata": {
        "id": "tSyMRagWNTZK",
        "colab_type": "code",
        "colab": {
          "base_uri": "https://localhost:8080/",
          "height": 74
        },
        "outputId": "30a5a17d-df70-45c5-f0bf-82652171e9af"
      },
      "cell_type": "code",
      "source": [
        "A.T"
      ],
      "execution_count": 0,
      "outputs": [
        {
          "output_type": "execute_result",
          "data": {
            "text/plain": [
              "array([[10, 40],\n",
              "       [20, 50],\n",
              "       [30, 60]])"
            ]
          },
          "metadata": {
            "tags": []
          },
          "execution_count": 68
        }
      ]
    },
    {
      "metadata": {
        "id": "xK-LVgNbNTZN",
        "colab_type": "text"
      },
      "cell_type": "markdown",
      "source": [
        "Как вы могли догадаться, дважды транспонированная матрица вернется к своему оригинальному виду:"
      ]
    },
    {
      "metadata": {
        "id": "2NtXUg6eNTZN",
        "colab_type": "code",
        "colab": {
          "base_uri": "https://localhost:8080/",
          "height": 55
        },
        "outputId": "a6b95285-bedf-41fc-dc64-ccea8a9d96ed"
      },
      "cell_type": "code",
      "source": [
        "A.T.T"
      ],
      "execution_count": 0,
      "outputs": [
        {
          "output_type": "execute_result",
          "data": {
            "text/plain": [
              "array([[10, 20, 30],\n",
              "       [40, 50, 60]])"
            ]
          },
          "metadata": {
            "tags": []
          },
          "execution_count": 69
        }
      ]
    },
    {
      "metadata": {
        "id": "nclPHObHNTZP",
        "colab_type": "text"
      },
      "cell_type": "markdown",
      "source": [
        "Транспонирование дистрибутивно над сложеним матриц, т.е. $(Q + R)^T = Q^T + R^T$. Например:"
      ]
    },
    {
      "metadata": {
        "id": "e__g0SZ8NTZP",
        "colab_type": "code",
        "colab": {
          "base_uri": "https://localhost:8080/",
          "height": 74
        },
        "outputId": "660cc163-dd65-4a05-f7bb-4d8e277d45ca"
      },
      "cell_type": "code",
      "source": [
        "(A + B).T"
      ],
      "execution_count": 0,
      "outputs": [
        {
          "output_type": "execute_result",
          "data": {
            "text/plain": [
              "array([[11, 44],\n",
              "       [22, 55],\n",
              "       [33, 66]])"
            ]
          },
          "metadata": {
            "tags": []
          },
          "execution_count": 70
        }
      ]
    },
    {
      "metadata": {
        "id": "XOwgqzpTNTZR",
        "colab_type": "code",
        "colab": {
          "base_uri": "https://localhost:8080/",
          "height": 74
        },
        "outputId": "f14901b5-4e07-490b-a3fe-3ddde2d66f0e"
      },
      "cell_type": "code",
      "source": [
        "A.T + B.T"
      ],
      "execution_count": 0,
      "outputs": [
        {
          "output_type": "execute_result",
          "data": {
            "text/plain": [
              "array([[11, 44],\n",
              "       [22, 55],\n",
              "       [33, 66]])"
            ]
          },
          "metadata": {
            "tags": []
          },
          "execution_count": 71
        }
      ]
    },
    {
      "metadata": {
        "id": "3oI_tiYUNTZS",
        "colab_type": "text"
      },
      "cell_type": "markdown",
      "source": [
        "Более того, $(Q \\cdot R)^T = R^T \\cdot Q^T$. Отметим, что порядок обратный. Например:"
      ]
    },
    {
      "metadata": {
        "id": "6wwUcDQJNTZT",
        "colab_type": "code",
        "colab": {
          "base_uri": "https://localhost:8080/",
          "height": 93
        },
        "outputId": "50c1a113-df6e-42a7-a8b9-33a26c3bb6f5"
      },
      "cell_type": "code",
      "source": [
        "(A.dot(D)).T"
      ],
      "execution_count": 0,
      "outputs": [
        {
          "output_type": "execute_result",
          "data": {
            "text/plain": [
              "array([[ 930, 2010],\n",
              "       [1160, 2510],\n",
              "       [1320, 2910],\n",
              "       [1560, 3450]])"
            ]
          },
          "metadata": {
            "tags": []
          },
          "execution_count": 72
        }
      ]
    },
    {
      "metadata": {
        "id": "zt6gta3BNTZU",
        "colab_type": "code",
        "colab": {
          "base_uri": "https://localhost:8080/",
          "height": 93
        },
        "outputId": "61452de3-9385-4adb-9104-54afaba2c2db"
      },
      "cell_type": "code",
      "source": [
        "D.T.dot(A.T)"
      ],
      "execution_count": 0,
      "outputs": [
        {
          "output_type": "execute_result",
          "data": {
            "text/plain": [
              "array([[ 930, 2010],\n",
              "       [1160, 2510],\n",
              "       [1320, 2910],\n",
              "       [1560, 3450]])"
            ]
          },
          "metadata": {
            "tags": []
          },
          "execution_count": 73
        }
      ]
    },
    {
      "metadata": {
        "id": "iPfzP7J9NTZW",
        "colab_type": "text"
      },
      "cell_type": "markdown",
      "source": [
        "**Симметричная матрица** $M$ называется так, если она равняется своей транспонированной матрице: $M^T = M$. По определению эта должна быть квадратная матрица, чьи элементы симметричны относительно главной диагонали, например:\n",
        "\n",
        "\\begin{bmatrix}\n",
        "  17 & 22 & 27 & 49 \\\\\n",
        "  22 & 29 & 36 & 0 \\\\\n",
        "  27 & 36 & 45 & 2 \\\\\n",
        "  49 & 0 & 2 & 99\n",
        "\\end{bmatrix}\n",
        "\n",
        "Произведение матрицы на ее транспонированную матрицу всегда симметричная матрица, например:"
      ]
    },
    {
      "metadata": {
        "id": "LfmDb_q6NTZX",
        "colab_type": "code",
        "colab": {
          "base_uri": "https://localhost:8080/",
          "height": 74
        },
        "outputId": "b9885365-47bc-458a-b715-24339e0e7a5e"
      },
      "cell_type": "code",
      "source": [
        "D.dot(D.T)"
      ],
      "execution_count": 0,
      "outputs": [
        {
          "output_type": "execute_result",
          "data": {
            "text/plain": [
              "array([[  87,  279,  547],\n",
              "       [ 279,  940, 1860],\n",
              "       [ 547, 1860, 3700]])"
            ]
          },
          "metadata": {
            "tags": []
          },
          "execution_count": 74
        }
      ]
    },
    {
      "metadata": {
        "id": "qxjhIVvxNTZ2",
        "colab_type": "text"
      },
      "cell_type": "markdown",
      "source": [
        "## Построение графиков матриц\n",
        "Мы уже видели как вектора могут быть представлены в виде точек или стрелок в N-мерном пространстве. Если ли хорошее графическое представление матриц? Ну можно просто смотреть на матрицу как на список векторов, т.е. графическое представление матрицы это точки или стрелки. Например, давайте создадим матрицу `P` , размера $2 \\times 4$ и нарисуем ее в виде точек:"
      ]
    },
    {
      "metadata": {
        "id": "dOwa9GsWNTZ3",
        "colab_type": "code",
        "colab": {
          "base_uri": "https://localhost:8080/",
          "height": 351
        },
        "outputId": "c33c939b-b6f9-443c-c898-ed08c8a0093c"
      },
      "cell_type": "code",
      "source": [
        "P = np.array([\n",
        "        [3.0, 4.0, 1.0, 4.6],\n",
        "        [0.2, 3.5, 2.0, 0.5]\n",
        "    ])\n",
        "x_coords_P, y_coords_P = P\n",
        "plt.scatter(x_coords_P, y_coords_P)\n",
        "plt.axis([0, 5, 0, 4])\n",
        "plt.show()"
      ],
      "execution_count": 0,
      "outputs": [
        {
          "output_type": "display_data",
          "data": {
            "image/png": "[encoded data removed]",
            "text/plain": [
              "<matplotlib.figure.Figure at 0x7f5bc10874e0>"
            ]
          },
          "metadata": {
            "tags": []
          }
        }
      ]
    },
    {
      "metadata": {
        "id": "iXpL61keNTZ9",
        "colab_type": "text"
      },
      "cell_type": "markdown",
      "source": [
        "Т.к. вектора направленные, мы можем расмотреть матрицы как путь и представить его в виде соединеных точек:"
      ]
    },
    {
      "metadata": {
        "id": "5hWjsnwqNTZ-",
        "colab_type": "code",
        "colab": {
          "base_uri": "https://localhost:8080/",
          "height": 351
        },
        "outputId": "728c4424-da8c-44f8-9255-bf5c30b7e1b7"
      },
      "cell_type": "code",
      "source": [
        "plt.plot(x_coords_P, y_coords_P, \"bo\")\n",
        "plt.plot(x_coords_P, y_coords_P, \"b--\")\n",
        "plt.axis([0, 5, 0, 4])\n",
        "plt.grid()\n",
        "plt.show()"
      ],
      "execution_count": 0,
      "outputs": [
        {
          "output_type": "display_data",
          "data": {
            "image/png": "[encoded data removed]",
            "text/plain": [
              "<matplotlib.figure.Figure at 0x7f5bc1060e10>"
            ]
          },
          "metadata": {
            "tags": []
          }
        }
      ]
    },
    {
      "metadata": {
        "id": "GaNknYbaNTZ_",
        "colab_type": "text"
      },
      "cell_type": "markdown",
      "source": [
        "Или представить ее в виде полигона: класс `Polygon` в библиотеке matplotlib `Polygon`, требует на вход массив NumPy размерности $n \\times 2$, не $2 \\times n$ масив, поэтому нам нужно дать только $P^T$:"
      ]
    },
    {
      "metadata": {
        "id": "AdoJvbu3NTZ_",
        "colab_type": "code",
        "colab": {
          "base_uri": "https://localhost:8080/",
          "height": 351
        },
        "outputId": "6d23b123-85a3-41f3-9632-4780f6fd2710"
      },
      "cell_type": "code",
      "source": [
        "from matplotlib.patches import Polygon\n",
        "plt.gca().add_artist(Polygon(P.T))\n",
        "plt.axis([0, 5, 0, 4])\n",
        "plt.grid()\n",
        "plt.show()"
      ],
      "execution_count": 0,
      "outputs": [
        {
          "output_type": "display_data",
          "data": {
            "image/png": "[encoded data removed]",
            "text/plain": [
              "<matplotlib.figure.Figure at 0x7f5bc1038d68>"
            ]
          },
          "metadata": {
            "tags": []
          }
        }
      ]
    },
    {
      "metadata": {
        "id": "dhQ-tH9DNTaq",
        "colab_type": "text"
      },
      "cell_type": "markdown",
      "source": [
        "## Обратная матрица\n",
        "Для линейных трансформаций над матрицами иногда существуют обратные преобразования. Когда они существуют, их называют **обратными** матрицами и обозначают $F^{-1}$, для матрицы $F$.\n"
      ]
    },
    {
      "metadata": {
        "id": "axUlzk8pL4UO",
        "colab_type": "text"
      },
      "cell_type": "markdown",
      "source": [
        "Обратная матрица — такая матрица $A^{−1}$, при умножении на которую исходная матрица A даёт в результате единичную матрицу E:\n",
        "\n",
        "$AA^{-1}=E$\n",
        "\n",
        "Существует только для квадратной матрицы  \n",
        "\n",
        "**!** Если квадратная матрица $A$ имеет обратную матрицу, то обратная матрица единственная  \n",
        "**!** Для того чтобы квадратная матрица $A$ порядка $n$ имела обратную, необходимо и достаточно, чтобы $detA\\neq0$  \n",
        "**!** Если квадратная матрица матрица $A$ имеет обратную, то $detA^{-1}=(detA)^{-1}$  \n",
        "**!** Если квадратные матрицы $A$ и $B$ порядка $n$ имеют обратные матрицы, то их произведение имеет обратную матрицу, причем $(AB)^{-1}=B^{-1}A^{-1}$  \n",
        "**!** Если матрица $A$ порядка $n$ имеет обратную, то и транспонированная матрица $A^T$ имеет обратную, причем $(A^T)^{-1}=(A^{-1})^T$  \n",
        "\n",
        "\n",
        "Алгебраическим дополнением $A_{ij}$ к элементу $a_{ij}$ определителя $n$-го порядка называется число $A_{ij}=(-1)^{i+j}\\cdot M_{ij}$\n",
        "\n",
        "**Пример**:\n",
        "Найти алгебраическое дополнение $A_{23}$  к элементу $a_{23}$ матрицы $\\begin{bmatrix} 1 & 2 & -1 \\\\ 1 & 0 & 3 \\\\ 7 & 8 & 4 \\end{bmatrix} $\n",
        "\n",
        "\n",
        "\n",
        "$A_{23}=(-1)^{2+3}\\cdot \\bar M_3^2=(-1)^5 \\cdot \\left | \\begin{bmatrix} 1 & 2 \\\\ 7 & 8 \\end{bmatrix} \\right | = -1 (1\\cdot8-7\\cdot2) = -8+14 = 6$\n",
        "\n",
        "Матрица $A*$, транспонированную к матрице $(A_{ij})$ алгебраических дополнений, называют присоединенной. Если $A$ - невырожденная матрица, то обратная к ней имеет вид $$A^{-1}=\\frac{1}{detA}A^*$$\n",
        "\n",
        "**Пример**. Выяснить, есть ли у матрицы $A= \\begin{bmatrix} 1 & 2 \\\\ 3 & 4 \\end{bmatrix} $ обратная. И если есть, найти.\n",
        "\n",
        "$detA=1\\cdot4-3\\cdot2=-2$, поэтому $A$ является невырожденной и имеет обратную\n",
        "\n",
        "${A^*}^T = \\begin{bmatrix} 4 & -3 \\\\ -2 & 1 \\end{bmatrix}, A^* = \\begin{bmatrix} 4 & -2 \\\\ -3 & 1 \\end{bmatrix}$  \n",
        "$A^{-1} = - \\frac{1}{2} \\begin{bmatrix} 4 & -2 \\\\ -3 & 1 \\end{bmatrix}  = \\begin{bmatrix} -2 & 1 \\\\ 1.5 & -0.5 \\end{bmatrix}$\n",
        "\n",
        "Проверим:\n",
        "\n",
        "$AA^{-1} = \\begin{bmatrix} 1 & 2 \\\\ 3 & 4 \\end{bmatrix} \\begin{bmatrix} -2 & 1 \\\\ 1.5 & -0.5 \\end{bmatrix} =  \\begin{bmatrix} 1 & 0 \\\\ 0 & 1 \\end{bmatrix}$\n",
        "\n",
        "$A^{-1}A = \\begin{bmatrix} -2 & 1 \\\\ 1.5 & -0.5 \\end{bmatrix} \\begin{bmatrix} 1 & 2 \\\\ 3 & 4 \\end{bmatrix} =  \\begin{bmatrix} 1 & 0 \\\\ 0 & 1 \\end{bmatrix}$"
      ]
    },
    {
      "metadata": {
        "id": "HOoPyV0NMKMa",
        "colab_type": "code",
        "colab": {}
      },
      "cell_type": "code",
      "source": [
        "LA.inv(np.array([\n",
        "        [1, 2],\n",
        "        [3, 4]\n",
        "    ]))"
      ],
      "execution_count": 0,
      "outputs": []
    },
    {
      "metadata": {
        "id": "4WX30LSANTa9",
        "colab_type": "text"
      },
      "cell_type": "markdown",
      "source": [
        "## Определитель\n",
        "Определитель квадратной матрицы $M$, обозначаемый $\\det(M)$ или $\\det M$ или $|M|$ это значение, которое высчитывается из элементов $(M_{i,j})$, используя различные методы подсчета. Самый простоый из них - рекурсивный подход:\n",
        "\n",
        "$|M| = M_{1,1}\\times|M^{(1,1)}| - M_{2,1}\\times|M^{(2,1)}| + M_{3,1}\\times|M^{(3,1)}| - M_{4,1}\\times|M^{(4,1)}| + \\cdots ± M_{n,1}\\times|M^{(n,1)}|$\n",
        "\n",
        "* Где $M^{(i,j)}$ матрица без строки $i$ и столбца $j$.\n",
        "\n",
        "Например, давайте подсчитаем определитель следующей матрицы $3 \\times 3$ matrix:\n",
        "\n",
        "$M = \\begin{bmatrix}\n",
        "  1 & 2 & 3 \\\\\n",
        "  4 & 5 & 6 \\\\\n",
        "  7 & 8 & 0\n",
        "\\end{bmatrix}$\n",
        "\n",
        "Использумя метод выше, получаем:\n",
        "\n",
        "$|M| = 1 \\times \\left | \\begin{bmatrix} 5 & 6 \\\\ 8 & 0 \\end{bmatrix} \\right |\n",
        "     - 2 \\times \\left | \\begin{bmatrix} 4 & 6 \\\\ 7 & 0 \\end{bmatrix} \\right |\n",
        "     + 3 \\times \\left | \\begin{bmatrix} 4 & 5 \\\\ 7 & 8 \\end{bmatrix} \\right |$\n",
        "\n",
        "Теперь мы должны подсчитать определитель каждой из этих матриц $2 \\times 2$ (которые еще называют **минорами**):\n",
        "\n",
        "$\\left | \\begin{bmatrix} 5 & 6 \\\\ 8 & 0 \\end{bmatrix} \\right | = 5 \\times 0 - 6 \\times 8 = -48$\n",
        "\n",
        "$\\left | \\begin{bmatrix} 4 & 6 \\\\ 7 & 0 \\end{bmatrix} \\right | = 4 \\times 0 - 6 \\times 7 = -42$\n",
        "\n",
        "$\\left | \\begin{bmatrix} 4 & 5 \\\\ 7 & 8 \\end{bmatrix} \\right | = 4 \\times 8 - 5 \\times 7 = -3$\n",
        "\n",
        "Теперь мы можем высчитать окончательный результат:\n",
        "\n",
        "$|M| = 1 \\times (-48) - 2 \\times (-42) + 3 \\times (-3) = 27$"
      ]
    },
    {
      "metadata": {
        "id": "CMYt4qCoNTa9",
        "colab_type": "text"
      },
      "cell_type": "markdown",
      "source": [
        "Для вычисления определителя матрицы можно воспользоваться функцией `det` NumPy в модуле `numpy.linalg`:"
      ]
    },
    {
      "metadata": {
        "id": "thuhz3HRNTa9",
        "colab_type": "code",
        "colab": {
          "base_uri": "https://localhost:8080/",
          "height": 36
        },
        "outputId": "42fa48be-e457-4de2-a723-d591f39f64cc"
      },
      "cell_type": "code",
      "source": [
        "M = np.array([\n",
        "        [1, 2, 3],\n",
        "        [4, 5, 6],\n",
        "        [7, 8, 0]\n",
        "    ])\n",
        "LA.det(M)"
      ],
      "execution_count": 0,
      "outputs": [
        {
          "output_type": "execute_result",
          "data": {
            "text/plain": [
              "27.0"
            ]
          },
          "metadata": {
            "tags": []
          },
          "execution_count": 113
        }
      ]
    },
    {
      "metadata": {
        "id": "9ubvPmkGNTbA",
        "colab_type": "text"
      },
      "cell_type": "markdown",
      "source": [
        "Чаще всего определитель используют для определения существования обратной матрицы: если определитель равен 0, то у матрице *не может быть* обратной, а если он не равен 0, то это матрица имеет обратную.\n",
        "\n",
        "Например, давайте посчитаем определитель у $F_{project}$, $F_{project\\_30}$ и $F_{shear}$ матриц, которые мы определили ранее:"
      ]
    },
    {
      "metadata": {
        "id": "zc6wo40_NTbA",
        "colab_type": "code",
        "colab": {
          "base_uri": "https://localhost:8080/",
          "height": 36
        },
        "outputId": "14f80ef4-07a6-4272-b936-b12fad081dc6"
      },
      "cell_type": "code",
      "source": [
        "LA.det(F_project)"
      ],
      "execution_count": 0,
      "outputs": [
        {
          "output_type": "execute_result",
          "data": {
            "text/plain": [
              "0.0"
            ]
          },
          "metadata": {
            "tags": []
          },
          "execution_count": 114
        }
      ]
    },
    {
      "metadata": {
        "id": "lywhn5IJNTbC",
        "colab_type": "text"
      },
      "cell_type": "markdown",
      "source": [
        "Все верно, матрица $F_{project}$ вырожденная, как мы видели ранее."
      ]
    },
    {
      "metadata": {
        "id": "DOJoCO0ZNTbC",
        "colab_type": "code",
        "colab": {
          "base_uri": "https://localhost:8080/",
          "height": 36
        },
        "outputId": "1f7818c9-c3ef-4a8f-8bd2-14511b5cd228"
      },
      "cell_type": "code",
      "source": [
        "LA.det(F_project_30)"
      ],
      "execution_count": 0,
      "outputs": [
        {
          "output_type": "execute_result",
          "data": {
            "text/plain": [
              "2.0816681711721642e-17"
            ]
          },
          "metadata": {
            "tags": []
          },
          "execution_count": 115
        }
      ]
    },
    {
      "metadata": {
        "id": "I74yRYO2NTbD",
        "colab_type": "text"
      },
      "cell_type": "markdown",
      "source": [
        "Определитель близок к 0: по факту это и должен быть 0, но виной всему малейшие ошибки при вычислениях чисел с плавающей точкой. Это матрица вырожденная."
      ]
    },
    {
      "metadata": {
        "id": "gg0p-rR0NTbE",
        "colab_type": "code",
        "colab": {
          "base_uri": "https://localhost:8080/",
          "height": 36
        },
        "outputId": "5b504251-cd27-4e13-c2d0-488005c49dd2"
      },
      "cell_type": "code",
      "source": [
        "LA.det(F_shear)"
      ],
      "execution_count": 0,
      "outputs": [
        {
          "output_type": "execute_result",
          "data": {
            "text/plain": [
              "1.0"
            ]
          },
          "metadata": {
            "tags": []
          },
          "execution_count": 116
        }
      ]
    },
    {
      "metadata": {
        "id": "WCHS6_xjNTbE",
        "colab_type": "text"
      },
      "cell_type": "markdown",
      "source": [
        "Отлично! У этой матрицы *может* быть обратная матрица. Удивительно, но математика реально работает!"
      ]
    }
  ]
}