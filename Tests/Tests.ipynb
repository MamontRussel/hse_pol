{
  "nbformat": 4,
  "nbformat_minor": 0,
  "metadata": {
    "colab": {
      "name": "Tests.ipynb",
      "version": "0.3.2",
      "provenance": [],
      "collapsed_sections": []
    },
    "kernelspec": {
      "name": "python3",
      "display_name": "Python 3"
    }
  },
  "cells": [
    {
      "metadata": {
        "id": "rnaawGdGAGoG",
        "colab_type": "text"
      },
      "cell_type": "markdown",
      "source": [
        "# Секретный код\n",
        "\n",
        "Напишите функцию, которая будет \"прочитывать\" заданную строку задом наперед (olleh вместо hello) и вставлять слог 'no' после каждой гласной.\n",
        "Hello -> onollenoh"
      ]
    },
    {
      "metadata": {
        "id": "e9A-t-HDAFWn",
        "colab_type": "code",
        "colab": {}
      },
      "cell_type": "code",
      "source": [
        "def secretcode(x):\n",
        "  # ваш код здесь\n",
        "\n",
        "print(secretcode('hello'))\n",
        "print(secretcode('machine learning'))"
      ],
      "execution_count": 0,
      "outputs": []
    },
    {
      "metadata": {
        "id": "UyxxSSjc2fgs",
        "colab_type": "text"
      },
      "cell_type": "markdown",
      "source": [
        "# Угадай число\n",
        "\n",
        "Требуется написать программу, которая будет загадывать число от 1 до 20, а игроку нужно будет его угадать. У игрока есть бесконечное число попыток. При этом, программа должна подсказывать, была ли текущая попыта больше загаданного числа или меньше него. При корректном угадывании программа сообщает об этом и завершается.\n",
        "\n",
        "Используйте циклы и функции. "
      ]
    },
    {
      "metadata": {
        "id": "qpckjbqbafVD",
        "colab_type": "code",
        "colab": {}
      },
      "cell_type": "code",
      "source": [
        "# импортируем модуль для рандомизации\n",
        "import random \n",
        "number = random.randrange (1,20)\n",
        "guessed_number = input(\"Введите вашу догадку: \")\n",
        "   "
      ],
      "execution_count": 0,
      "outputs": []
    },
    {
      "metadata": {
        "id": "Tw0pGWWL3s9a",
        "colab_type": "text"
      },
      "cell_type": "markdown",
      "source": [
        "# Прайс-лист\n",
        "\n",
        "Для магазина нужно написать программу, которая будет выводить список продуктов, хранящихся на складе, вместе с их ценами. Нужно создать два словаря: один с ценами (бананы - 25 руб., яблоки - 13 руб. и т.д.), другой с количеством хранящихся товаров на складе (бананы - 5 штук, яблоки - 0 штук и т.д.).\n",
        "\n",
        "В списке не менее 5 элементов на ваш выбор. После вывода всех элементов нужно вывести стоимость всех продуктов, которые хранятся на складе."
      ]
    },
    {
      "metadata": {
        "id": "o3xw26Q435bi",
        "colab_type": "code",
        "colab": {}
      },
      "cell_type": "code",
      "source": [
        "# Ваш код здесь"
      ],
      "execution_count": 0,
      "outputs": []
    },
    {
      "metadata": {
        "id": "XsNZB1eK5OaE",
        "colab_type": "text"
      },
      "cell_type": "markdown",
      "source": [
        "# Поиск минимума и максимума в одномерном массиве\n",
        "\n",
        "В заданном массиве найти минимальный и максимальный элементы. Пользоваться встроенными в python функциями поиска min\\max в списках нельзя."
      ]
    },
    {
      "metadata": {
        "id": "K3XZmcGU5dym",
        "colab_type": "code",
        "colab": {}
      },
      "cell_type": "code",
      "source": [
        "array = [ 1 , 142, -2, 9023, 123, 867, 52 , -432, 34, -152, 13, 49]\n",
        "\n",
        "# Ваш код здесь"
      ],
      "execution_count": 0,
      "outputs": []
    },
    {
      "metadata": {
        "id": "vnPXACC25ob4",
        "colab_type": "text"
      },
      "cell_type": "markdown",
      "source": [
        "# Успеваемость студентов\n",
        "\n",
        "В системе есть 3 студента и их оценки за домашние работы(homework), тесты(quizzes) и контрольные(tests). Нужно вывести полную информацию по каждому из студентов, помимо имени, оценок за все домашние работы, тесты и контрольны, также вывести оценку по результатам его работы.\n",
        "\n",
        "Оценка выставляется по следующему критерию:\n",
        "\n",
        "Результаты >= 90 - оценка \"A\"<br>\n",
        "Результаты >= 80 - оценка \"B\"<br>\n",
        "Результаты >= 70 - оценка \"C\"<br>\n",
        "Результаты >= 60 - оценка \"D\"<br>\n",
        "Результаты в остальных случаях - оценка \"F\"<br>\n",
        "\n",
        "Результаты считаются по данной формуле:\n",
        "\n",
        "Результаты = (Среднее арифметическое за домашную работу) x 0.1 + (Среднее арифметическое за контрольные) x 0.6 + (Среднее арифметическое за тесты) x 0.3"
      ]
    },
    {
      "metadata": {
        "id": "Z931sjrp5yHn",
        "colab_type": "code",
        "colab": {}
      },
      "cell_type": "code",
      "source": [
        "lloyd = {\n",
        "    \"name\": \"Lloyd\",\n",
        "    \"homework\": [90.0, 97.0, 75.0, 92.0],\n",
        "    \"quizzes\": [88.0, 40.0, 94.0],\n",
        "    \"tests\": [75.0, 90.0]\n",
        "}\n",
        "alice = {\n",
        "    \"name\": \"Alice\",\n",
        "    \"homework\": [100.0, 92.0, 98.0, 100.0],\n",
        "    \"quizzes\": [82.0, 83.0, 91.0],\n",
        "    \"tests\": [89.0, 97.0]\n",
        "}\n",
        "tyler = {\n",
        "    \"name\": \"Tyler\",\n",
        "    \"homework\": [0.0, 87.0, 75.0, 22.0],\n",
        "    \"quizzes\": [0.0, 75.0, 78.0],\n",
        "    \"tests\": [100.0, 100.0]\n",
        "}\n",
        "\n",
        "students = [lloyd, alice, tyler]\n",
        "\n",
        "#Ваш код дальше"
      ],
      "execution_count": 0,
      "outputs": []
    },
    {
      "metadata": {
        "id": "nLOBSlp-8djX",
        "colab_type": "text"
      },
      "cell_type": "markdown",
      "source": [
        "# Шахматная доска\n",
        "\n",
        "С помощью команд print нужно вывести схематичнуюшахматную доску. Белые клетки это 0, черные клетки это X. В итоге должно получиться аналогичный вывод:\n",
        "\n",
        "0X0X0X0X<br>\n",
        "X0X0X0X0<br>\n",
        "0X0X0X0X<br>\n",
        "X0X0X0X0<br>\n",
        "0X0X0X0X<br>\n",
        "X0X0X0X0<br>\n",
        "0X0X0X0X<br>\n",
        "X0X0X0X0<br>\n",
        "\n",
        "Каждая строка должна быть отдельным списком, который выводится при помощи метода .join()"
      ]
    },
    {
      "metadata": {
        "id": "c0w8EItO9neu",
        "colab_type": "code",
        "colab": {}
      },
      "cell_type": "code",
      "source": [
        "#Ваш код здесь"
      ],
      "execution_count": 0,
      "outputs": []
    },
    {
      "metadata": {
        "id": "MYyLsxLn9QQ6",
        "colab_type": "text"
      },
      "cell_type": "markdown",
      "source": [
        "# Палиндром\n",
        "\n",
        "Нужно написать программу, которая будет проверять заданную строку на \"палиндромность\" и сообщать о результате.\n",
        "\n",
        "[Палиндром](https://ru.wikipedia.org/wiki/Палиндром)"
      ]
    },
    {
      "metadata": {
        "id": "M-1xrb-V-AZN",
        "colab_type": "code",
        "colab": {}
      },
      "cell_type": "code",
      "source": [
        "def palindrome(s):\n",
        "  #ваш код здесь\n",
        "  \n",
        "  \n",
        "palindrome(\"топот\")\n",
        "palindrome(\"161\")\n",
        "palindrome(\"конь\")"
      ],
      "execution_count": 0,
      "outputs": []
    },
    {
      "metadata": {
        "id": "cG9-TjRAF70i",
        "colab_type": "text"
      },
      "cell_type": "markdown",
      "source": [
        "# Четное нечетное\n",
        "\n",
        "Написать программу, которая будет определять четное ли ей дали число. На ввод поступают числа, на каждое нужно ответить четное или нечетное оно."
      ]
    },
    {
      "metadata": {
        "id": "VooEDg1QHaDb",
        "colab_type": "code",
        "colab": {}
      },
      "cell_type": "code",
      "source": [
        "def even(n):\n",
        "  #ваш код здесь\n",
        "  \n",
        "  \n",
        "even(2)\n",
        "even(3)\n",
        "even(132)\n",
        "even(977)\n",
        "even(11)\n",
        "even(4)"
      ],
      "execution_count": 0,
      "outputs": []
    },
    {
      "metadata": {
        "id": "8azJhPs6H_Ws",
        "colab_type": "text"
      },
      "cell_type": "markdown",
      "source": [
        "# Аэропорты\n",
        "\n",
        "Мальчик Денис очень любит самолеты. Он следил за ними с помощью радара и рации. Часто в эфире пилоты и диспетчеры называли кодовые слова аэропортов, но Денис не мог определить полное название аэропорта и где он находятся. Помогите ему в этом деле. \n",
        "Напишите программу, которая по коду аэропорта будет выдавать его полное название и местоположение со страной (info). А также сделайте функцию, которая будет по заданным кодам аэропортов говорить маршрут с начальной и конечной точкой следования (flight)."
      ]
    },
    {
      "metadata": {
        "id": "6RxclHqAABjg",
        "colab_type": "text"
      },
      "cell_type": "markdown",
      "source": [
        ""
      ]
    },
    {
      "metadata": {
        "id": "DALNX6HvI-3s",
        "colab_type": "code",
        "colab": {}
      },
      "cell_type": "code",
      "source": [
        "airports = [\n",
        "    {\"kgd\" : \"Kaliningrad Khrabrovo Airport\"},\n",
        "    {\"led\" : \"St. Petersburg Pulkovo Airport\"},\n",
        "    {\"lax\" : \"Los Angeles International Airport\"},\n",
        "    {\"dme\" : \"Moscow Domodedovo International Airport\"},\n",
        "    {\"tof\" : \"Tomsk Bogashevo Airport\"},\n",
        "    {\"txl\" : \"Berlin Tegel Airport\"},\n",
        "    {\"vko\" : \"Moscow Vnukovo International Airport\"}]\n",
        "\n",
        "countries = []\n",
        "\n",
        "\n",
        "def info():\n",
        "  \n",
        "  \n",
        "  \n",
        "def flight():  \n",
        "\n",
        "\n",
        "\n",
        "info(\"kgd\")\n",
        "info(\"lax\")\n",
        "\n",
        "flight(\"vko\",\"txl\")\n",
        "flight(\"kgd\",\"vko\")\n",
        "flight(\"tof\",\"dme\")\n",
        "flight(\"led\",\"tof\")\n",
        "\n",
        "\n",
        "\n",
        "\n"
      ],
      "execution_count": 0,
      "outputs": []
    }
  ]
}