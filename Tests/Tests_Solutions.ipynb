{
  "nbformat": 4,
  "nbformat_minor": 0,
  "metadata": {
    "colab": {
      "name": "Tests Done.ipynb",
      "version": "0.3.2",
      "provenance": [],
      "collapsed_sections": []
    },
    "kernelspec": {
      "name": "python3",
      "display_name": "Python 3"
    }
  },
  "cells": [
    {
      "metadata": {
        "id": "rnaawGdGAGoG",
        "colab_type": "text"
      },
      "cell_type": "markdown",
      "source": [
        "# Секретный код\n",
        "\n",
        "Напишите функцию, которая будет \"прочитывать\" заданную строку задом наперед (olleh вместо hello) и вставлять слог 'no' после каждой гласной.\n",
        "Hello -> onollenoh"
      ]
    },
    {
      "metadata": {
        "id": "e9A-t-HDAFWn",
        "colab_type": "code",
        "colab": {
          "base_uri": "https://localhost:8080/",
          "height": 53
        },
        "outputId": "e5f47650-59dc-4219-e3bc-f502b560bf78"
      },
      "cell_type": "code",
      "source": [
        "vowels = ['e','u','i','o','a']\n",
        "\n",
        "def secretcode(x):\n",
        "  resultStr = ''\n",
        "  for c in x[::-1]:\n",
        "    resultStr += c\n",
        "    if c in vowels:\n",
        "      resultStr += 'no'\n",
        "  return resultStr\n",
        "  \n",
        "print(secretcode('hello'))\n",
        "print(secretcode('machine learning'))"
      ],
      "execution_count": 0,
      "outputs": [
        {
          "output_type": "stream",
          "text": [
            "onollenoh\n",
            "gninonranoenol enoninohcanom\n"
          ],
          "name": "stdout"
        }
      ]
    },
    {
      "metadata": {
        "id": "UyxxSSjc2fgs",
        "colab_type": "text"
      },
      "cell_type": "markdown",
      "source": [
        "# Угадай число\n",
        "\n",
        "Требуется написать программу, которая будет загадывать число от 1 до 20, а игроку нужно будет его угадать. У игрока есть бесконечное число попыток. При этом, программа должна подсказывать, была ли текущая попыта больше загаданного числа или меньше него. При корректном угадывании программа сообщает об этом и завершается.\n",
        "\n",
        "Используйте циклы и функции. "
      ]
    },
    {
      "metadata": {
        "id": "qpckjbqbafVD",
        "colab_type": "code",
        "colab": {
          "base_uri": "https://localhost:8080/",
          "height": 169
        },
        "outputId": "d042b348-55e2-49e6-e8e3-8e296a1fee9f"
      },
      "cell_type": "code",
      "source": [
        "# импортируем модуль для рандомизации\n",
        "import random \n",
        "number = random.randrange (1,20)\n",
        "\n",
        "while True:\n",
        "  guessed_number = int(input(\"Введите вашу догадку: \"))\n",
        "  if guessed_number > number:\n",
        "    print(\"Ваше число больше загаданного\")\n",
        "  elif guessed_number < number:\n",
        "    print(\"Ваше число меньше загаданного\")\n",
        "  elif guessed_number == number:\n",
        "    print(\"Вы угадали, поздравляем!\")\n",
        "    break\n",
        "   "
      ],
      "execution_count": 0,
      "outputs": [
        {
          "output_type": "stream",
          "text": [
            "Введите вашу догадку: 10\n",
            "Ваше число больше загаданного\n",
            "Введите вашу догадку: 11\n",
            "Ваше число больше загаданного\n",
            "Введите вашу догадку: 6\n",
            "Ваше число меньше загаданного\n",
            "Введите вашу догадку: 8\n",
            "Вы угадали, поздравляем!\n"
          ],
          "name": "stdout"
        }
      ]
    },
    {
      "metadata": {
        "id": "Tw0pGWWL3s9a",
        "colab_type": "text"
      },
      "cell_type": "markdown",
      "source": [
        "# Прайс-лист\n",
        "\n",
        "Для магазина нужно написать программу, которая будет выводить список продуктов, хранящихся на складе, вместе с их ценами. Нужно создать два словаря: один с ценами (бананы - 25 руб., яблоки - 13 руб. и т.д.), другой с количеством хранящихся товаров на складе (бананы - 5 штук, яблоки - 0 штук и т.д.).\n",
        "\n",
        "В списке не менее 5 элементов на ваш выбор. После вывода всех элементов нужно вывести стоимость всех продуктов, которые хранятся на складе."
      ]
    },
    {
      "metadata": {
        "id": "o3xw26Q435bi",
        "colab_type": "code",
        "colab": {
          "base_uri": "https://localhost:8080/",
          "height": 321
        },
        "outputId": "e04c212d-dc16-4dc7-ddbe-b06699803753"
      },
      "cell_type": "code",
      "source": [
        "prices = {\n",
        "    'banana': 25,\n",
        "    'apple' : 13,\n",
        "    'orange' : 1.5,\n",
        "    'pear' : 3,\n",
        "    'watermelon': 21\n",
        "}\n",
        "\n",
        "stock = {\n",
        "    'banana': 5,\n",
        "    'apple' : 0,\n",
        "    'orange' : 32,\n",
        "    'pear' : 15,\n",
        "    'watermelon': 2\n",
        "}\n",
        "\n",
        "for key in prices:\n",
        "    print (key)\n",
        "    print ('Цена: %s' % prices[key])\n",
        "    print ('Наличие на складе: %s' % stock[key])\n",
        "    \n",
        "total = 0\n",
        "for key in prices:\n",
        "    x = prices[key]*stock[key]\n",
        "    total = total + x\n",
        "print ('Общая стоимость товаров на складе: %s' % total)"
      ],
      "execution_count": 0,
      "outputs": [
        {
          "output_type": "stream",
          "text": [
            "banana\n",
            "Цена: 25\n",
            "Наличие на складе: 5\n",
            "apple\n",
            "Цена: 13\n",
            "Наличие на складе: 0\n",
            "orange\n",
            "Цена: 1.5\n",
            "Наличие на складе: 32\n",
            "pear\n",
            "Цена: 3\n",
            "Наличие на складе: 15\n",
            "watermelon\n",
            "Цена: 21\n",
            "Наличие на складе: 2\n",
            "Общая стоимость товаров на складе: 260.0\n"
          ],
          "name": "stdout"
        }
      ]
    },
    {
      "metadata": {
        "id": "XsNZB1eK5OaE",
        "colab_type": "text"
      },
      "cell_type": "markdown",
      "source": [
        "# Поиск минимума и максимума в одномерном массиве\n",
        "\n",
        "В заданном массиве найти минимальный и максимальный элементы. Пользоваться встроенными в python функциями поиска min\\max в списках нельзя."
      ]
    },
    {
      "metadata": {
        "id": "K3XZmcGU5dym",
        "colab_type": "code",
        "colab": {
          "base_uri": "https://localhost:8080/",
          "height": 53
        },
        "outputId": "755c8a80-cdcb-4700-8a1f-66499ae6c115"
      },
      "cell_type": "code",
      "source": [
        "array = [ 1 , 142, -2, 9023, 123, 867, 52 , -432, 34, -152, 13, 49]\n",
        "\n",
        "min = None\n",
        "max = None\n",
        "\n",
        "for x in array:\n",
        "  if min == None or x < min:\n",
        "    min = x   \n",
        "  if max == None or x > max:\n",
        "    max = x\n",
        "    \n",
        "print(\"Max: \" + str(max))\n",
        "print(\"Min: \" + str(min))"
      ],
      "execution_count": 0,
      "outputs": [
        {
          "output_type": "stream",
          "text": [
            "Max: 9023\n",
            "Min: -432\n"
          ],
          "name": "stdout"
        }
      ]
    },
    {
      "metadata": {
        "id": "vnPXACC25ob4",
        "colab_type": "text"
      },
      "cell_type": "markdown",
      "source": [
        "# Успеваемость студентов\n",
        "\n",
        "В системе есть 3 студента и их оценки за домашние работы(homework), тесты(quizzes) и контрольные(tests). Нужно вывести полную информацию по каждому из студентов, помимо имени, оценок за все домашние работы, тесты и контрольные, также вывести оценку по результатам его работы.\n",
        "\n",
        "Оценка выставляется по следующему критерию:\n",
        "\n",
        "Результаты >= 90 - оценка \"A\"<br>\n",
        "Результаты >= 80 - оценка \"B\"<br>\n",
        "Результаты >= 70 - оценка \"C\"<br>\n",
        "Результаты >= 60 - оценка \"D\"<br>\n",
        "Результаты в остальных случаях - оценка \"F\"<br>\n",
        "\n",
        "Результаты считаются по данной формуле:\n",
        "\n",
        "Результаты = (Среднее арифметическое за домашную работу) x 0.1 + (Среднее арифметическое за контрольные) x 0.6 + (Среднее арифметическое за тесты) x 0.3"
      ]
    },
    {
      "metadata": {
        "id": "Z931sjrp5yHn",
        "colab_type": "code",
        "colab": {
          "base_uri": "https://localhost:8080/",
          "height": 611
        },
        "outputId": "59b1be16-a2a9-4537-9749-0aec5c905a63"
      },
      "cell_type": "code",
      "source": [
        "lloyd = {\n",
        "    \"name\": \"Lloyd\",\n",
        "    \"homework\": [90.0, 97.0, 75.0, 92.0],\n",
        "    \"quizzes\": [88.0, 40.0, 94.0],\n",
        "    \"tests\": [75.0, 90.0]\n",
        "}\n",
        "alice = {\n",
        "    \"name\": \"Alice\",\n",
        "    \"homework\": [100.0, 92.0, 98.0, 100.0],\n",
        "    \"quizzes\": [82.0, 83.0, 91.0],\n",
        "    \"tests\": [89.0, 97.0]\n",
        "}\n",
        "tyler = {\n",
        "    \"name\": \"Tyler\",\n",
        "    \"homework\": [0.0, 87.0, 75.0, 22.0],\n",
        "    \"quizzes\": [0.0, 75.0, 78.0],\n",
        "    \"tests\": [100.0, 100.0]\n",
        "}\n",
        "\n",
        "def average(numbers):\n",
        "    return sum(numbers) / len(numbers)\n",
        "\n",
        "def get_grade(student):\n",
        "    homework = average(student[\"homework\"])\n",
        "    tests = average(student[\"tests\"])\n",
        "    quizzes = average(student[\"quizzes\"])\n",
        "    grade = homework*0.1 + tests*0.6 + quizzes*0.3\n",
        "    return grade\n",
        "\n",
        "def get_letter_grade(score):\n",
        "    if score >= 90:\n",
        "        return \"A\"\n",
        "    elif score >= 80:\n",
        "        return \"B\"\n",
        "    elif score >= 70:\n",
        "        return \"C\"\n",
        "    elif score >= 60:\n",
        "        return \"D\"\n",
        "    else:\n",
        "        return \"F\"\n",
        "\n",
        "students = [lloyd, alice, tyler]\n",
        "\n",
        "for student in students:\n",
        "    print (student['name'])\n",
        "    print (\"Домашниe работы\")\n",
        "    print (student['homework'])\n",
        "    print (\"Тесты\")\n",
        "    print (student['quizzes'])\n",
        "    print (\"Контрольные\")\n",
        "    print (student['tests'])\n",
        "    print (\"Средняя оценка\")\n",
        "    print (get_letter_grade(get_grade(student)))\n",
        "    print (\"\\n\")"
      ],
      "execution_count": 0,
      "outputs": [
        {
          "output_type": "stream",
          "text": [
            "Lloyd\n",
            "Домашниe работы\n",
            "[90.0, 97.0, 75.0, 92.0]\n",
            "Тесты\n",
            "[88.0, 40.0, 94.0]\n",
            "Контрольные\n",
            "[75.0, 90.0]\n",
            "Средняя оценка\n",
            "B\n",
            "\n",
            "\n",
            "Alice\n",
            "Домашниe работы\n",
            "[100.0, 92.0, 98.0, 100.0]\n",
            "Тесты\n",
            "[82.0, 83.0, 91.0]\n",
            "Контрольные\n",
            "[89.0, 97.0]\n",
            "Средняя оценка\n",
            "A\n",
            "\n",
            "\n",
            "Tyler\n",
            "Домашниe работы\n",
            "[0.0, 87.0, 75.0, 22.0]\n",
            "Тесты\n",
            "[0.0, 75.0, 78.0]\n",
            "Контрольные\n",
            "[100.0, 100.0]\n",
            "Средняя оценка\n",
            "C\n",
            "\n",
            "\n"
          ],
          "name": "stdout"
        }
      ]
    },
    {
      "metadata": {
        "id": "nLOBSlp-8djX",
        "colab_type": "text"
      },
      "cell_type": "markdown",
      "source": [
        "# Шахматная доска\n",
        "\n",
        "С помощью команд print нужно вывести схематичнуюшахматную доску. Белые клетки это 0, черные клетки это X. В итоге должно получиться аналогичный вывод:\n",
        "\n",
        "0X0X0X0X<br>\n",
        "X0X0X0X0<br>\n",
        "0X0X0X0X<br>\n",
        "X0X0X0X0<br>\n",
        "0X0X0X0X<br>\n",
        "X0X0X0X0<br>\n",
        "0X0X0X0X<br>\n",
        "X0X0X0X0<br>\n",
        "\n",
        "Каждая строка должна быть отдельным списком, который выводится при помощи метода .join()"
      ]
    },
    {
      "metadata": {
        "id": "c0w8EItO9neu",
        "colab_type": "code",
        "colab": {
          "base_uri": "https://localhost:8080/",
          "height": 169
        },
        "outputId": "3c4d427e-0749-4c4b-bec6-e37d7815eec9"
      },
      "cell_type": "code",
      "source": [
        "def desk(dim):\n",
        "  X = \"X\"\n",
        "  O = \"O\"\n",
        "  rowX = []\n",
        "  rowO = []\n",
        "  for i in range(0, int(dim / 2)):\n",
        "    rowX += X\n",
        "    rowO += O  \n",
        "  for i in range(0, int(dim / 2)):\n",
        "    print(X.join(rowO) + X)\n",
        "    print(O.join(rowX) + O)\n",
        "    \n",
        "  \n",
        "desk(8)  "
      ],
      "execution_count": 0,
      "outputs": [
        {
          "output_type": "stream",
          "text": [
            "OXOXOXOX\n",
            "XOXOXOXO\n",
            "OXOXOXOX\n",
            "XOXOXOXO\n",
            "OXOXOXOX\n",
            "XOXOXOXO\n",
            "OXOXOXOX\n",
            "XOXOXOXO\n"
          ],
          "name": "stdout"
        }
      ]
    },
    {
      "metadata": {
        "id": "MYyLsxLn9QQ6",
        "colab_type": "text"
      },
      "cell_type": "markdown",
      "source": [
        "# Палиндром\n",
        "\n",
        "Нужно написать программу, которая будет проверять заданную строку на \"палиндромность\" и сообщать о результате.\n",
        "\n",
        "[Палиндром](https://ru.wikipedia.org/wiki/Палиндром)"
      ]
    },
    {
      "metadata": {
        "id": "M-1xrb-V-AZN",
        "colab_type": "code",
        "colab": {
          "base_uri": "https://localhost:8080/",
          "height": 74
        },
        "outputId": "40b9590d-52d9-4283-9236-2961401c3cdf"
      },
      "cell_type": "code",
      "source": [
        "def palindrome(string):\n",
        "  if string == string[::-1]:\n",
        "    print(string, '- Палиндром')\n",
        "  else:\n",
        "    print(string, ' - Не палиндром')\n",
        "  \n",
        "palindrome(\"топот\")\n",
        "palindrome(\"161\")\n",
        "palindrome(\"конь\")"
      ],
      "execution_count": 0,
      "outputs": [
        {
          "output_type": "stream",
          "text": [
            "топот - Палиндром\n",
            "161 - Палиндром\n",
            "конь  - Не палиндром\n"
          ],
          "name": "stdout"
        }
      ]
    },
    {
      "metadata": {
        "id": "cG9-TjRAF70i",
        "colab_type": "text"
      },
      "cell_type": "markdown",
      "source": [
        "# Четное нечетное\n",
        "\n",
        "Написать программу, которая будет определять четное ли ей дали число. На ввод поступают числа, на каждое нужно ответить четное или нечетное оно."
      ]
    },
    {
      "metadata": {
        "id": "VooEDg1QHaDb",
        "colab_type": "code",
        "colab": {
          "base_uri": "https://localhost:8080/",
          "height": 131
        },
        "outputId": "7c40f7b0-3f44-4c55-fff9-29b6aa8dd8a2"
      },
      "cell_type": "code",
      "source": [
        "def even(n):\n",
        "  if n % 2 == 0:\n",
        "    print(\"Число \" + str(n) + \" четное\")\n",
        "  else:\n",
        "    print(\"Число \" + str(n) + \" нечетное\")\n",
        "  \n",
        "  \n",
        "even(2)\n",
        "even(3)\n",
        "even(132)\n",
        "even(977)\n",
        "even(11)\n",
        "even(4)"
      ],
      "execution_count": 0,
      "outputs": [
        {
          "output_type": "stream",
          "text": [
            "Число 2 четное\n",
            "Число 3 нечетное\n",
            "Число 132 четное\n",
            "Число 977 нечетное\n",
            "Число 11 нечетное\n",
            "Число 4 четное\n"
          ],
          "name": "stdout"
        }
      ]
    },
    {
      "metadata": {
        "id": "8azJhPs6H_Ws",
        "colab_type": "text"
      },
      "cell_type": "markdown",
      "source": [
        "# Аэропорты\n",
        "\n",
        "Мальчик Денис очень любит самолеты. Он следил за ними с помощью радара и рации. Часто в эфире пилоты и диспетчеры называли кодовые слова аэропортов, но Денис не мог определить полное название аэропорта и где он находятся. Помогите ему в этом деле. \n",
        "Напишите программу, которая по коду аэропорта будет выдавать его полное название и местоположение со страной (info). А также сделайте функцию, которая будет по заданным кодам аэропортов говорить маршрут с начальной и конечной точкой следования (flight)."
      ]
    },
    {
      "metadata": {
        "id": "DALNX6HvI-3s",
        "colab_type": "code",
        "colab": {
          "base_uri": "https://localhost:8080/",
          "height": 131
        },
        "outputId": "e6ded384-2016-44ba-9be8-ea3c5eef3348"
      },
      "cell_type": "code",
      "source": [
        "airports = {\n",
        "    \"kgd\" : \"Kaliningrad Khrabrovo Airport\",\n",
        "    \"led\" : \"St. Petersburg Pulkovo Airport\",\n",
        "    \"lax\" : \"Los Angeles International Airport\",\n",
        "    \"dme\" : \"Moscow Domodedovo International Airport\",\n",
        "    \"tof\" : \"Tomsk Bogashevo Airport\",\n",
        "    \"txl\" : \"Berlin Tegel Airport\",\n",
        "    \"vko\" : \"Moscow Vnukovo International Airport\"}\n",
        "\n",
        "countries = {\n",
        "    \"kgd\" : \"Russia\",\n",
        "    \"led\" : \"Russia\",\n",
        "    \"lax\" : \"USA\",\n",
        "    \"dme\" : \"Russia\",\n",
        "    \"tof\" : \"Russia\",\n",
        "    \"txl\" : \"Germany\",\n",
        "    \"vko\" : \"Russia\"}\n",
        "\n",
        "\n",
        "def info(code):\n",
        "  print(code.upper() + \" - \" + airports[code] + \" in \" + countries[code])\n",
        "  \n",
        "  \n",
        "  \n",
        "def flight(codeIn, codeOut):  \n",
        "  print(\"Flight from \" + airports[codeIn] + \" to \" + airports[codeOut])\n",
        "\n",
        "\n",
        "info(\"kgd\")\n",
        "info(\"lax\")\n",
        "\n",
        "flight(\"vko\",\"txl\")\n",
        "flight(\"kgd\",\"vko\")\n",
        "flight(\"tof\",\"dme\")\n",
        "flight(\"led\",\"tof\")\n",
        "\n",
        "\n",
        "\n",
        "\n"
      ],
      "execution_count": 0,
      "outputs": [
        {
          "output_type": "stream",
          "text": [
            "KGD - Kaliningrad Khrabrovo Airport in Russia\n",
            "LAX - Los Angeles International Airport in USA\n",
            "Flight from Moscow Vnukovo International Airport to Berlin Tegel Airport\n",
            "Flight from Kaliningrad Khrabrovo Airport to Moscow Vnukovo International Airport\n",
            "Flight from Tomsk Bogashevo Airport to Moscow Domodedovo International Airport\n",
            "Flight from St. Petersburg Pulkovo Airport to Tomsk Bogashevo Airport\n"
          ],
          "name": "stdout"
        }
      ]
    }
  ]
}