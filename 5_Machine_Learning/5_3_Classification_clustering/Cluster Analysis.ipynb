{
 "cells": [
  {
   "cell_type": "markdown",
   "metadata": {},
   "source": [
    "# Анализ кластеров"
   ]
  },
  {
   "cell_type": "markdown",
   "metadata": {},
   "source": [
    "### Классификация политических режимов\n",
    "\n",
    "У нас имеется датасет, содержащий данные о странах и теория, что все страны можно отнести к одному из четырех видов, так называемая теория Даля. Сегодня мы попробуем применить ее на практике и постараться выделить 4 кластера в данных по политическому устройству стран. Подробнее прочитать про датасет можно по [ссылке](https://www3.nd.edu/~mcoppedg/crd/Codebook.doc).\n",
    "\n",
    "Импортируем модуль pandas."
   ]
  },
  {
   "cell_type": "code",
   "execution_count": 1,
   "metadata": {},
   "outputs": [],
   "source": [
    "import pandas as pd"
   ]
  },
  {
   "cell_type": "markdown",
   "metadata": {},
   "source": [
    "Загрузим наш датасет и посмотрим что находится внутри."
   ]
  },
  {
   "cell_type": "code",
   "execution_count": 2,
   "metadata": {},
   "outputs": [
    {
     "data": {
      "text/html": [
       "<div>\n",
       "<style scoped>\n",
       "    .dataframe tbody tr th:only-of-type {\n",
       "        vertical-align: middle;\n",
       "    }\n",
       "\n",
       "    .dataframe tbody tr th {\n",
       "        vertical-align: top;\n",
       "    }\n",
       "\n",
       "    .dataframe thead th {\n",
       "        text-align: right;\n",
       "    }\n",
       "</style>\n",
       "<table border=\"1\" class=\"dataframe\">\n",
       "  <thead>\n",
       "    <tr style=\"text-align: right;\">\n",
       "      <th></th>\n",
       "      <th>cname</th>\n",
       "      <th>abbr</th>\n",
       "      <th>year</th>\n",
       "      <th>yr</th>\n",
       "      <th>CONTEST</th>\n",
       "      <th>INCLUS</th>\n",
       "      <th>CONTESTstd</th>\n",
       "      <th>INCLUSstd</th>\n",
       "      <th>ContestationA</th>\n",
       "      <th>INCLUSA</th>\n",
       "      <th>...</th>\n",
       "      <th>ALTINF</th>\n",
       "      <th>POLY</th>\n",
       "      <th>ccode</th>\n",
       "      <th>ccodecow</th>\n",
       "      <th>ccodealp</th>\n",
       "      <th>ccodewb</th>\n",
       "      <th>f1mean</th>\n",
       "      <th>f2mean</th>\n",
       "      <th>f1sd</th>\n",
       "      <th>f2sd</th>\n",
       "    </tr>\n",
       "  </thead>\n",
       "  <tbody>\n",
       "    <tr>\n",
       "      <th>0</th>\n",
       "      <td>Afghanistan</td>\n",
       "      <td>AFGN</td>\n",
       "      <td>1950</td>\n",
       "      <td>50</td>\n",
       "      <td>-1.150339342</td>\n",
       "      <td>-1.013598554</td>\n",
       "      <td>-1.011842735</td>\n",
       "      <td>-0.741150814</td>\n",
       "      <td>-1.150339342</td>\n",
       "      <td>-1.013598554</td>\n",
       "      <td>...</td>\n",
       "      <td></td>\n",
       "      <td></td>\n",
       "      <td>4</td>\n",
       "      <td>700</td>\n",
       "      <td>AFG</td>\n",
       "      <td>AFG</td>\n",
       "      <td>0.15</td>\n",
       "      <td>0.09</td>\n",
       "      <td>1.01</td>\n",
       "      <td>0.82</td>\n",
       "    </tr>\n",
       "    <tr>\n",
       "      <th>1</th>\n",
       "      <td>Afghanistan</td>\n",
       "      <td>AFGN</td>\n",
       "      <td>1951</td>\n",
       "      <td>51</td>\n",
       "      <td>-1.109144219</td>\n",
       "      <td>-0.956002727</td>\n",
       "      <td>-0.990235662</td>\n",
       "      <td>-0.790842427</td>\n",
       "      <td>-1.109144219</td>\n",
       "      <td>-0.956002727</td>\n",
       "      <td>...</td>\n",
       "      <td></td>\n",
       "      <td></td>\n",
       "      <td>4</td>\n",
       "      <td>700</td>\n",
       "      <td>AFG</td>\n",
       "      <td>AFG</td>\n",
       "      <td>0.13</td>\n",
       "      <td>0.06</td>\n",
       "      <td>1.01</td>\n",
       "      <td>0.89</td>\n",
       "    </tr>\n",
       "    <tr>\n",
       "      <th>2</th>\n",
       "      <td>Afghanistan</td>\n",
       "      <td>AFGN</td>\n",
       "      <td>1952</td>\n",
       "      <td>52</td>\n",
       "      <td>-1.106897206</td>\n",
       "      <td>-0.839698187</td>\n",
       "      <td>-1.011173094</td>\n",
       "      <td>-0.804507241</td>\n",
       "      <td>-1.106897206</td>\n",
       "      <td>-0.839698187</td>\n",
       "      <td>...</td>\n",
       "      <td></td>\n",
       "      <td></td>\n",
       "      <td>4</td>\n",
       "      <td>700</td>\n",
       "      <td>AFG</td>\n",
       "      <td>AFG</td>\n",
       "      <td>0.14</td>\n",
       "      <td>0.01</td>\n",
       "      <td>1.04</td>\n",
       "      <td>0.97</td>\n",
       "    </tr>\n",
       "    <tr>\n",
       "      <th>3</th>\n",
       "      <td>Afghanistan</td>\n",
       "      <td>AFGN</td>\n",
       "      <td>1953</td>\n",
       "      <td>53</td>\n",
       "      <td>-1.104317508</td>\n",
       "      <td>-0.675316224</td>\n",
       "      <td>-1.018490208</td>\n",
       "      <td>-0.547784602</td>\n",
       "      <td>-1.104317508</td>\n",
       "      <td>-0.675316224</td>\n",
       "      <td>...</td>\n",
       "      <td></td>\n",
       "      <td></td>\n",
       "      <td>4</td>\n",
       "      <td>700</td>\n",
       "      <td>AFG</td>\n",
       "      <td>AFG</td>\n",
       "      <td>0.13</td>\n",
       "      <td>0.06</td>\n",
       "      <td>1.04</td>\n",
       "      <td>0.90</td>\n",
       "    </tr>\n",
       "    <tr>\n",
       "      <th>4</th>\n",
       "      <td>Afghanistan</td>\n",
       "      <td>AFGN</td>\n",
       "      <td>1954</td>\n",
       "      <td>54</td>\n",
       "      <td>-1.107440167</td>\n",
       "      <td>-0.497937884</td>\n",
       "      <td>-1.061737774</td>\n",
       "      <td>-0.453082232</td>\n",
       "      <td>-1.107440167</td>\n",
       "      <td>-0.497937884</td>\n",
       "      <td>...</td>\n",
       "      <td></td>\n",
       "      <td></td>\n",
       "      <td>4</td>\n",
       "      <td>700</td>\n",
       "      <td>AFG</td>\n",
       "      <td>AFG</td>\n",
       "      <td>0.09</td>\n",
       "      <td>0.01</td>\n",
       "      <td>1.04</td>\n",
       "      <td>0.93</td>\n",
       "    </tr>\n",
       "  </tbody>\n",
       "</table>\n",
       "<p>5 rows × 28 columns</p>\n",
       "</div>"
      ],
      "text/plain": [
       "         cname  abbr  year  yr       CONTEST        INCLUS    CONTESTstd  \\\n",
       "0  Afghanistan  AFGN  1950  50  -1.150339342  -1.013598554  -1.011842735   \n",
       "1  Afghanistan  AFGN  1951  51  -1.109144219  -0.956002727  -0.990235662   \n",
       "2  Afghanistan  AFGN  1952  52  -1.106897206  -0.839698187  -1.011173094   \n",
       "3  Afghanistan  AFGN  1953  53  -1.104317508  -0.675316224  -1.018490208   \n",
       "4  Afghanistan  AFGN  1954  54  -1.107440167  -0.497937884  -1.061737774   \n",
       "\n",
       "      INCLUSstd ContestationA       INCLUSA  ...  ALTINF POLY ccode ccodecow  \\\n",
       "0  -0.741150814  -1.150339342  -1.013598554  ...                  4      700   \n",
       "1  -0.790842427  -1.109144219  -0.956002727  ...                  4      700   \n",
       "2  -0.804507241  -1.106897206  -0.839698187  ...                  4      700   \n",
       "3  -0.547784602  -1.104317508  -0.675316224  ...                  4      700   \n",
       "4  -0.453082232  -1.107440167  -0.497937884  ...                  4      700   \n",
       "\n",
       "  ccodealp ccodewb f1mean f2mean  f1sd  f2sd  \n",
       "0      AFG     AFG   0.15   0.09  1.01  0.82  \n",
       "1      AFG     AFG   0.13   0.06  1.01  0.89  \n",
       "2      AFG     AFG   0.14   0.01  1.04  0.97  \n",
       "3      AFG     AFG   0.13   0.06  1.04  0.90  \n",
       "4      AFG     AFG   0.09   0.01  1.04  0.93  \n",
       "\n",
       "[5 rows x 28 columns]"
      ]
     },
     "execution_count": 2,
     "metadata": {},
     "output_type": "execute_result"
    }
   ],
   "source": [
    "data = pd.read_csv('DahlDims.csv')\n",
    "data.head()"
   ]
  },
  {
   "cell_type": "markdown",
   "metadata": {},
   "source": [
    "В нашем датасете есть 28 колонок, но работать мы будем с 2 из них. Это колонки CONTEST и INCLUS.\n",
    "Строить мы будем распределение стран по этим параметрам за определенные год, например за 2000.\n",
    "\n",
    "Сохраним отдельно данные по странам за 2000 год."
   ]
  },
  {
   "cell_type": "code",
   "execution_count": 3,
   "metadata": {},
   "outputs": [],
   "source": [
    "year_2000_data = data[data.year == 2000]"
   ]
  },
  {
   "cell_type": "markdown",
   "metadata": {},
   "source": [
    "Проверим данные."
   ]
  },
  {
   "cell_type": "code",
   "execution_count": 4,
   "metadata": {},
   "outputs": [
    {
     "data": {
      "text/html": [
       "<div>\n",
       "<style scoped>\n",
       "    .dataframe tbody tr th:only-of-type {\n",
       "        vertical-align: middle;\n",
       "    }\n",
       "\n",
       "    .dataframe tbody tr th {\n",
       "        vertical-align: top;\n",
       "    }\n",
       "\n",
       "    .dataframe thead th {\n",
       "        text-align: right;\n",
       "    }\n",
       "</style>\n",
       "<table border=\"1\" class=\"dataframe\">\n",
       "  <thead>\n",
       "    <tr style=\"text-align: right;\">\n",
       "      <th></th>\n",
       "      <th>cname</th>\n",
       "      <th>abbr</th>\n",
       "      <th>year</th>\n",
       "      <th>yr</th>\n",
       "      <th>CONTEST</th>\n",
       "      <th>INCLUS</th>\n",
       "      <th>CONTESTstd</th>\n",
       "      <th>INCLUSstd</th>\n",
       "      <th>ContestationA</th>\n",
       "      <th>INCLUSA</th>\n",
       "      <th>...</th>\n",
       "      <th>ALTINF</th>\n",
       "      <th>POLY</th>\n",
       "      <th>ccode</th>\n",
       "      <th>ccodecow</th>\n",
       "      <th>ccodealp</th>\n",
       "      <th>ccodewb</th>\n",
       "      <th>f1mean</th>\n",
       "      <th>f2mean</th>\n",
       "      <th>f1sd</th>\n",
       "      <th>f2sd</th>\n",
       "    </tr>\n",
       "  </thead>\n",
       "  <tbody>\n",
       "    <tr>\n",
       "      <th>50</th>\n",
       "      <td>Afghanistan</td>\n",
       "      <td>AFGN</td>\n",
       "      <td>2000</td>\n",
       "      <td>2000</td>\n",
       "      <td>-1.860250763</td>\n",
       "      <td>-3.632547535</td>\n",
       "      <td>-1.177129448</td>\n",
       "      <td>-1.956969586</td>\n",
       "      <td></td>\n",
       "      <td></td>\n",
       "      <td>...</td>\n",
       "      <td></td>\n",
       "      <td></td>\n",
       "      <td>4</td>\n",
       "      <td>700</td>\n",
       "      <td>AFG</td>\n",
       "      <td>AFG</td>\n",
       "      <td>0.525</td>\n",
       "      <td>0.495</td>\n",
       "      <td>0.915</td>\n",
       "      <td>0.675</td>\n",
       "    </tr>\n",
       "    <tr>\n",
       "      <th>101</th>\n",
       "      <td>Albania</td>\n",
       "      <td>ALBN</td>\n",
       "      <td>2000</td>\n",
       "      <td>2000</td>\n",
       "      <td>-0.055792334</td>\n",
       "      <td>0.529475222</td>\n",
       "      <td>0.473950014</td>\n",
       "      <td>0.852395775</td>\n",
       "      <td></td>\n",
       "      <td></td>\n",
       "      <td>...</td>\n",
       "      <td></td>\n",
       "      <td></td>\n",
       "      <td>8</td>\n",
       "      <td>339</td>\n",
       "      <td>ALB</td>\n",
       "      <td>ALB</td>\n",
       "      <td>0.525</td>\n",
       "      <td>0.495</td>\n",
       "      <td>0.915</td>\n",
       "      <td>0.675</td>\n",
       "    </tr>\n",
       "    <tr>\n",
       "      <th>140</th>\n",
       "      <td>Algeria</td>\n",
       "      <td>ALGR</td>\n",
       "      <td>2000</td>\n",
       "      <td>2000</td>\n",
       "      <td>-1.021945168</td>\n",
       "      <td>0.513831312</td>\n",
       "      <td>-0.410079829</td>\n",
       "      <td>0.841836136</td>\n",
       "      <td></td>\n",
       "      <td></td>\n",
       "      <td>...</td>\n",
       "      <td></td>\n",
       "      <td></td>\n",
       "      <td>12</td>\n",
       "      <td>615</td>\n",
       "      <td>DZA</td>\n",
       "      <td>DZA</td>\n",
       "      <td>0.525</td>\n",
       "      <td>0.495</td>\n",
       "      <td>0.915</td>\n",
       "      <td>0.675</td>\n",
       "    </tr>\n",
       "    <tr>\n",
       "      <th>191</th>\n",
       "      <td>Andorra</td>\n",
       "      <td>ANDO</td>\n",
       "      <td>2000</td>\n",
       "      <td>2000</td>\n",
       "      <td>0.400964891</td>\n",
       "      <td>-0.173187886</td>\n",
       "      <td>0.891882876</td>\n",
       "      <td>0.378098177</td>\n",
       "      <td></td>\n",
       "      <td></td>\n",
       "      <td>...</td>\n",
       "      <td></td>\n",
       "      <td></td>\n",
       "      <td>20</td>\n",
       "      <td>232</td>\n",
       "      <td>AND</td>\n",
       "      <td>ADO</td>\n",
       "      <td>0.525</td>\n",
       "      <td>0.495</td>\n",
       "      <td>0.915</td>\n",
       "      <td>0.675</td>\n",
       "    </tr>\n",
       "    <tr>\n",
       "      <th>217</th>\n",
       "      <td>Angola</td>\n",
       "      <td>ANGL</td>\n",
       "      <td>2000</td>\n",
       "      <td>2000</td>\n",
       "      <td>-1.36415187</td>\n",
       "      <td>-0.021909254</td>\n",
       "      <td>-0.723198961</td>\n",
       "      <td>0.480211254</td>\n",
       "      <td></td>\n",
       "      <td></td>\n",
       "      <td>...</td>\n",
       "      <td></td>\n",
       "      <td></td>\n",
       "      <td>24</td>\n",
       "      <td>540</td>\n",
       "      <td>AGO</td>\n",
       "      <td>AGO</td>\n",
       "      <td>0.525</td>\n",
       "      <td>0.495</td>\n",
       "      <td>0.915</td>\n",
       "      <td>0.675</td>\n",
       "    </tr>\n",
       "  </tbody>\n",
       "</table>\n",
       "<p>5 rows × 28 columns</p>\n",
       "</div>"
      ],
      "text/plain": [
       "           cname  abbr  year    yr       CONTEST        INCLUS    CONTESTstd  \\\n",
       "50   Afghanistan  AFGN  2000  2000  -1.860250763  -3.632547535  -1.177129448   \n",
       "101      Albania  ALBN  2000  2000  -0.055792334   0.529475222   0.473950014   \n",
       "140      Algeria  ALGR  2000  2000  -1.021945168   0.513831312  -0.410079829   \n",
       "191      Andorra  ANDO  2000  2000   0.400964891  -0.173187886   0.891882876   \n",
       "217       Angola  ANGL  2000  2000   -1.36415187  -0.021909254  -0.723198961   \n",
       "\n",
       "        INCLUSstd ContestationA INCLUSA  ...   ALTINF POLY ccode ccodecow  \\\n",
       "50   -1.956969586                        ...                   4      700   \n",
       "101   0.852395775                        ...                   8      339   \n",
       "140   0.841836136                        ...                  12      615   \n",
       "191   0.378098177                        ...                  20      232   \n",
       "217   0.480211254                        ...                  24      540   \n",
       "\n",
       "    ccodealp ccodewb f1mean f2mean   f1sd   f2sd  \n",
       "50       AFG     AFG  0.525  0.495  0.915  0.675  \n",
       "101      ALB     ALB  0.525  0.495  0.915  0.675  \n",
       "140      DZA     DZA  0.525  0.495  0.915  0.675  \n",
       "191      AND     ADO  0.525  0.495  0.915  0.675  \n",
       "217      AGO     AGO  0.525  0.495  0.915  0.675  \n",
       "\n",
       "[5 rows x 28 columns]"
      ]
     },
     "execution_count": 4,
     "metadata": {},
     "output_type": "execute_result"
    }
   ],
   "source": [
    "year_2000_data.head()"
   ]
  },
  {
   "cell_type": "markdown",
   "metadata": {},
   "source": [
    "Все верно, у нас данные по странам только за 2000 год. Теперь узнаем сколько в нашей выборке стран."
   ]
  },
  {
   "cell_type": "code",
   "execution_count": 5,
   "metadata": {},
   "outputs": [
    {
     "data": {
      "text/plain": [
       "192"
      ]
     },
     "execution_count": 5,
     "metadata": {},
     "output_type": "execute_result"
    }
   ],
   "source": [
    "len(year_2000_data)"
   ]
  },
  {
   "cell_type": "markdown",
   "metadata": {},
   "source": [
    "Всего 192 страны. Построим график наших стран за 2000 год.\n",
    "Переведем из строкового типа в численный"
   ]
  },
  {
   "cell_type": "code",
   "execution_count": 6,
   "metadata": {},
   "outputs": [],
   "source": [
    "x = pd.to_numeric(year_2000_data[\"INCLUS\"]).values\n",
    "y = pd.to_numeric(year_2000_data[\"CONTEST\"]).values"
   ]
  },
  {
   "cell_type": "markdown",
   "metadata": {},
   "source": [
    "Импортируем модуль рисования и построим график, где на оси X у нас колонка INCLUS, а по y - CONTEST. Дополнительно проведенем линии через начало координат."
   ]
  },
  {
   "cell_type": "code",
   "execution_count": 7,
   "metadata": {},
   "outputs": [
    {
     "data": {
      "image/png": "[encoded data removed]",
      "text/plain": [
       "<Figure size 864x576 with 1 Axes>"
      ]
     },
     "metadata": {
      "needs_background": "light"
     },
     "output_type": "display_data"
    }
   ],
   "source": [
    "import matplotlib.pyplot as plt\n",
    "%matplotlib inline\n",
    "\n",
    "\n",
    "plt.figure(figsize=(12, 8))\n",
    "plt.scatter(x,y, s =7)\n",
    "plt.title('Year 2000')\n",
    "plt.xlabel('Inclusiveness')\n",
    "plt.ylabel('Contestation')\n",
    "plt.yticks((-3,-2,-1,0,1,2), (\"-3\",\"-2\",\"-1\",\"0\",\"1\",\"2\"))\n",
    "plt.xticks((-4,-2,0,2,4), (\"-4\",\"-2\",\"0\",\"2\",\"4\"))\n",
    "plt.axvline(x=0, linestyle='--', color = 'black', linewidth = 0.7)\n",
    "plt.axhline(y=0, linestyle='--', color = 'black', linewidth = 0.7)\n",
    "plt.show()"
   ]
  },
  {
   "cell_type": "markdown",
   "metadata": {},
   "source": [
    "### Кластеризация с помощью KMeans\n",
    "\n",
    "Кластеризатор KMeans разбивает множество элементов векторного пространства на заранее известное число кластеров k. Он стремится минимизировать суммарное квадратичное отклонение точек кластеров от центров этих кластеров. Основная идея заключается в том, что на каждой итерации перевычисляется центр масс для каждого кластера, полученного на предыдущем шаге, затем векторы разбиваются на кластеры вновь в соответствии с тем, какой из новых центров оказался ближе по выбранной метрике.\n",
    "\n",
    "Алгоритм завершается, когда на какой-то итерации не происходит изменения внутрикластерного расстояния. Это происходит за конечное число итераций, так как количество возможных разбиений конечного множества конечно, а на каждом шаге суммарное квадратичное отклонение V уменьшается, поэтому зацикливание невозможно.\n",
    "\n",
    "Импортируем модуль KMeans из sklearn."
   ]
  },
  {
   "cell_type": "code",
   "execution_count": 8,
   "metadata": {},
   "outputs": [],
   "source": [
    "from sklearn.cluster import KMeans"
   ]
  },
  {
   "cell_type": "markdown",
   "metadata": {},
   "source": [
    "Вытащим данные для обучения, это только столбцы INCLUS и CONTEST."
   ]
  },
  {
   "cell_type": "code",
   "execution_count": 9,
   "metadata": {},
   "outputs": [],
   "source": [
    "X = year_2000_data[['INCLUS','CONTEST']]"
   ]
  },
  {
   "cell_type": "markdown",
   "metadata": {},
   "source": [
    "Изначально теоритически мы знаем, что в наших данных 4 кластера. Поэтому инициализируем KMeans с таким количеством кластеров, передав их в параметр n_clusters"
   ]
  },
  {
   "cell_type": "code",
   "execution_count": 10,
   "metadata": {},
   "outputs": [],
   "source": [
    "kmeans = KMeans(n_clusters = 4, random_state = 0)"
   ]
  },
  {
   "cell_type": "markdown",
   "metadata": {},
   "source": [
    "Теперь обучим кластерезатор на всех данных"
   ]
  },
  {
   "cell_type": "code",
   "execution_count": 11,
   "metadata": {},
   "outputs": [
    {
     "data": {
      "text/plain": [
       "KMeans(algorithm='auto', copy_x=True, init='k-means++', max_iter=300,\n",
       "    n_clusters=4, n_init=10, n_jobs=1, precompute_distances='auto',\n",
       "    random_state=0, tol=0.0001, verbose=0)"
      ]
     },
     "execution_count": 11,
     "metadata": {},
     "output_type": "execute_result"
    }
   ],
   "source": [
    "kmeans.fit(X)"
   ]
  },
  {
   "cell_type": "markdown",
   "metadata": {},
   "source": [
    "Посмотрим как наши данные пометились."
   ]
  },
  {
   "cell_type": "code",
   "execution_count": 12,
   "metadata": {},
   "outputs": [
    {
     "data": {
      "text/plain": [
       "array([2, 1, 0, 1, 0, 1, 3, 1, 3, 3, 0, 1, 2, 1, 1, 0, 3, 1, 3, 0, 3, 1,\n",
       "       3, 3, 2, 1, 0, 2, 0, 0, 3, 1, 1, 0, 3, 0, 1, 2, 2, 0, 3, 1, 1, 0,\n",
       "       3, 3, 3, 1, 1, 3, 1, 0, 3, 0, 0, 3, 1, 0, 3, 3, 0, 0, 1, 3, 1, 3,\n",
       "       1, 1, 1, 0, 3, 1, 3, 3, 3, 1, 1, 0, 0, 3, 3, 3, 3, 3, 0, 0, 0, 1,\n",
       "       0, 3, 2, 0, 0, 3, 1, 1, 0, 2, 1, 3, 3, 1, 1, 1, 1, 1, 1, 1, 1, 0,\n",
       "       3, 3, 1, 3, 1, 3, 0, 1, 2, 1, 1, 1, 3, 3, 3, 1, 1, 3, 2, 2, 1, 3,\n",
       "       3, 1, 1, 1, 3, 3, 2, 3, 1, 2, 1, 1, 1, 2, 1, 1, 1, 1, 0, 3, 3, 1,\n",
       "       2, 3, 3, 1, 1, 1, 1, 0, 1, 0, 3, 3, 0, 3, 0, 1, 1, 1, 0, 2, 3, 0,\n",
       "       1, 0, 1, 0, 1, 2, 3, 3, 3, 0, 1, 1, 0, 0, 1, 0], dtype=int32)"
      ]
     },
     "execution_count": 12,
     "metadata": {},
     "output_type": "execute_result"
    }
   ],
   "source": [
    "kmeans.labels_"
   ]
  },
  {
   "cell_type": "markdown",
   "metadata": {},
   "source": [
    "Всем нашим данным были присвоены лейблы от 0 до 3.\n",
    "\n",
    "Создадим новый Датафрейм, в который поместим столбцы INCLUS, CONTEST и новый столбец Labels в котором мы будем хранить помеченные кластерезатором данные."
   ]
  },
  {
   "cell_type": "code",
   "execution_count": 13,
   "metadata": {},
   "outputs": [],
   "source": [
    "draw = pd.DataFrame({'INCLUS': x,\n",
    "                   'CONTEST': y,\n",
    "                   'Labels': kmeans.labels_})"
   ]
  },
  {
   "cell_type": "markdown",
   "metadata": {},
   "source": [
    "Теперь давайте построим тот же график что и в начале, но уже с окраской кластеров. Для этого используем seaborn."
   ]
  },
  {
   "cell_type": "code",
   "execution_count": 14,
   "metadata": {},
   "outputs": [
    {
     "data": {
      "image/png": "[encoded data removed]",
      "text/plain": [
       "<Figure size 474.375x432 with 1 Axes>"
      ]
     },
     "metadata": {
      "needs_background": "light"
     },
     "output_type": "display_data"
    }
   ],
   "source": [
    "import seaborn as sns\n",
    "\n",
    "sns.FacetGrid(draw, hue=\"Labels\", height=6) \\\n",
    "   .map(plt.scatter, \"INCLUS\", \"CONTEST\") \\\n",
    "   .add_legend()\n",
    "\n",
    "plt.title('K Means. Country Data Year 2000')\n",
    "plt.xlabel('Inclusiveness')\n",
    "plt.ylabel('Contestation')\n",
    "plt.yticks((-3,-2,-1,0,1,2), (\"-3\",\"-2\",\"-1\",\"0\",\"1\",\"2\"))\n",
    "plt.xticks((-4,-2,0,2,4), (\"-4\",\"-2\",\"0\",\"2\",\"4\"))\n",
    "plt.axvline(x=0, linestyle='--', color = 'black', linewidth = 0.7)\n",
    "plt.axhline(y=0, linestyle='--', color = 'black', linewidth = 0.7)\n",
    "plt.show()"
   ]
  },
  {
   "cell_type": "markdown",
   "metadata": {},
   "source": [
    "На рисунке отчетливо видно 4 кластера.\n",
    "\n",
    "### Как узнать количество кластеров?\n",
    "\n",
    "В нашем датасете, благодаря теории, которая стояла за ним, мы знали что у нас 4 кластера. Но что если количество кластеров нам не известно? Мы все же можем определить \"оптимальное\" количество кластеров и в этом нам опять поможет кластерезатор KMeans.\n",
    "\n",
    "Импортируем модуль для рисования"
   ]
  },
  {
   "cell_type": "code",
   "execution_count": 15,
   "metadata": {},
   "outputs": [],
   "source": [
    "import pylab as pl"
   ]
  },
  {
   "cell_type": "markdown",
   "metadata": {},
   "source": [
    "Будем пробовать брать разнное количество кластеров и смотреть как это будет влиять на score модели. Количество кластеров будет варьироваться от 1 до 20."
   ]
  },
  {
   "cell_type": "code",
   "execution_count": 16,
   "metadata": {},
   "outputs": [],
   "source": [
    "Nc = range(1, 20)"
   ]
  },
  {
   "cell_type": "markdown",
   "metadata": {},
   "source": [
    "Создадим список кластеризаторов Kmeans, с разным количеством предполагаемых кластеров"
   ]
  },
  {
   "cell_type": "code",
   "execution_count": 17,
   "metadata": {},
   "outputs": [],
   "source": [
    "kmeans = [KMeans(n_clusters=i) for i in Nc]"
   ]
  },
  {
   "cell_type": "markdown",
   "metadata": {},
   "source": [
    "Посчитаем теперь для каждого из них score."
   ]
  },
  {
   "cell_type": "code",
   "execution_count": 18,
   "metadata": {},
   "outputs": [],
   "source": [
    "score = [kmeans[i].fit(X).score(X) for i in range(len(kmeans))]"
   ]
  },
  {
   "cell_type": "markdown",
   "metadata": {},
   "source": [
    "А теперь посстроим график, так называемой Elbow curve"
   ]
  },
  {
   "cell_type": "code",
   "execution_count": 19,
   "metadata": {},
   "outputs": [
    {
     "data": {
      "image/png": "[encoded data removed]",
      "text/plain": [
       "<Figure size 432x288 with 1 Axes>"
      ]
     },
     "metadata": {
      "needs_background": "light"
     },
     "output_type": "display_data"
    }
   ],
   "source": [
    "pl.plot(Nc,score)\n",
    "pl.xlabel('Number of Clusters')\n",
    "pl.ylabel('Score')\n",
    "pl.title('Elbow Curve')\n",
    "pl.show()"
   ]
  },
  {
   "cell_type": "markdown",
   "metadata": {},
   "source": [
    "Оптимальное количество кластеров находится в месте перелома графика. У нас это происходит где-то в районе 3х кластеров. Давайте построим график для 2000 года уже с 3-я кластерами и посмотрим как будет выглядеть график."
   ]
  },
  {
   "cell_type": "code",
   "execution_count": 20,
   "metadata": {},
   "outputs": [
    {
     "data": {
      "image/png": "[encoded data removed]",
      "text/plain": [
       "<Figure size 474.375x432 with 1 Axes>"
      ]
     },
     "metadata": {
      "needs_background": "light"
     },
     "output_type": "display_data"
    }
   ],
   "source": [
    "kmeans_3 = KMeans(n_clusters=3, random_state=0).fit(X)\n",
    "\n",
    "draw_3 = pd.DataFrame({'INCLUS': x,\n",
    "                   'CONTEST': y,\n",
    "                   'Labels': kmeans_3.labels_})\n",
    "\n",
    "sns.FacetGrid(draw_3, hue=\"Labels\", height=6) \\\n",
    "   .map(plt.scatter, \"INCLUS\", \"CONTEST\") \\\n",
    "   .add_legend()\n",
    "\n",
    "plt.title('K Means 3. Country Data Year 2000')\n",
    "plt.xlabel('Inclusiveness')\n",
    "plt.ylabel('Contestation')\n",
    "plt.yticks((-3,-2,-1,0,1,2), (\"-3\",\"-2\",\"-1\",\"0\",\"1\",\"2\"))\n",
    "plt.xticks((-4,-2,0,2,4), (\"-4\",\"-2\",\"0\",\"2\",\"4\"))\n",
    "plt.axvline(x=0, linestyle='--', color = 'black', linewidth = 0.7)\n",
    "plt.axhline(y=0, linestyle='--', color = 'black', linewidth = 0.7)\n",
    "plt.show()"
   ]
  },
  {
   "cell_type": "markdown",
   "metadata": {},
   "source": [
    "Посмотрим как выглядели данные в 1950 году ( когда было записано первое наблюдение из нашего датасета). Проделаем все операции как и для данных 2000 года."
   ]
  },
  {
   "cell_type": "code",
   "execution_count": 21,
   "metadata": {},
   "outputs": [
    {
     "data": {
      "image/png": "[encoded data removed]",
      "text/plain": [
       "<Figure size 474.375x432 with 1 Axes>"
      ]
     },
     "metadata": {
      "needs_background": "light"
     },
     "output_type": "display_data"
    }
   ],
   "source": [
    "year_1950_data = data[data.year == 1950]\n",
    "x = pd.to_numeric(year_1950_data[\"INCLUS\"]).values\n",
    "y = pd.to_numeric(year_1950_data[\"CONTEST\"]).values\n",
    "X = year_1950_data[['INCLUS','CONTEST']]\n",
    "\n",
    "kmeans_1950 = KMeans(n_clusters=4, random_state=0).fit(X)\n",
    "\n",
    "draw_1950 = pd.DataFrame({'INCLUS': x,\n",
    "                   'CONTEST': y,\n",
    "                   'Labels': kmeans_1950.labels_})\n",
    "\n",
    "sns.FacetGrid(draw_1950, hue=\"Labels\", height=6) \\\n",
    "   .map(plt.scatter, \"INCLUS\", \"CONTEST\") \\\n",
    "   .add_legend()\n",
    "\n",
    "plt.title('K Means. Country Data Year 1950')\n",
    "plt.xlabel('Inclusiveness')\n",
    "plt.ylabel('Contestation')\n",
    "plt.yticks((-3,-2,-1,0,1,2), (\"-3\",\"-2\",\"-1\",\"0\",\"1\",\"2\"))\n",
    "plt.xticks((-4,-2,0,2,4), (\"-4\",\"-2\",\"0\",\"2\",\"4\"))\n",
    "plt.axvline(x=0, linestyle='--', color = 'black', linewidth = 0.7)\n",
    "plt.axhline(y=0, linestyle='--', color = 'black', linewidth = 0.7)\n",
    "plt.show()"
   ]
  }
 ],
 "metadata": {
  "kernelspec": {
   "display_name": "Python 3",
   "language": "python",
   "name": "python3"
  },
  "language_info": {
   "codemirror_mode": {
    "name": "ipython",
    "version": 3
   },
   "file_extension": ".py",
   "mimetype": "text/x-python",
   "name": "python",
   "nbconvert_exporter": "python",
   "pygments_lexer": "ipython3",
   "version": "3.6.6"
  }
 },
 "nbformat": 4,
 "nbformat_minor": 2
}
