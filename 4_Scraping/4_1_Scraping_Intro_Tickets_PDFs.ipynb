{
 "cells": [
  {
   "cell_type": "markdown",
   "metadata": {
    "colab_type": "text",
    "id": "XXbvlWGuFQgL"
   },
   "source": [
    "# Scraping 101"
   ]
  },
  {
   "cell_type": "markdown",
   "metadata": {
    "colab_type": "text",
    "id": "TXTlYgvASMRO"
   },
   "source": [
    "# Kittens"
   ]
  },
  {
   "cell_type": "code",
   "execution_count": 1,
   "metadata": {
    "colab": {
     "base_uri": "https://localhost:8080/",
     "height": 251
    },
    "colab_type": "code",
    "id": "mMiuZCumSRpn",
    "outputId": "ba2e6570-cc56-4838-cc1e-5051b0f51a40"
   },
   "outputs": [
    {
     "name": "stdout",
     "output_type": "stream",
     "text": [
      "                      __     __,\n",
      "                      \\,`~\"~` /\n",
      "      .-=-.           /    . .\\\n",
      "     / .-. \\          {  =    Y}=\n",
      "    (_/   \\ \\          \\      / \n",
      "           \\ \\        _/`'`'`b\n",
      "            \\ `.__.-'`        \\-._\n",
      "             |            '.__ `'-;_\n",
      "             |            _.' `'-.__)\n",
      "              \\    ;_..-`'/     //  \\\n",
      "              |   /  /   |     //    |\n",
      "              \\  \\ \\__)   \\   //    /\n",
      "               \\__)  \n"
     ]
    }
   ],
   "source": [
    "import requests \n",
    "\n",
    "try:\n",
    "    request = requests.get(\"http://placekitten.com/\")\n",
    "    kittens = request.text\n",
    "    print (kittens[559:1000])\n",
    "except requests.exceptions.RequestException as e:\n",
    "    print (\"No kittenz. Got an error code:\", e)"
   ]
  },
  {
   "cell_type": "markdown",
   "metadata": {
    "colab_type": "text",
    "id": "2MZR16BcFQie"
   },
   "source": [
    "# Budapest Tickets\n",
    "Мы попробуем аггрегировать информацию с разных страниц одного сайта. Здесь пример немного игрушечный, но у сайта общественного транспорта будапешта очень удобная структура, и он хорошо подходит для разогрева."
   ]
  },
  {
   "cell_type": "markdown",
   "metadata": {
    "colab_type": "text",
    "id": "29RTOWzUFQif"
   },
   "source": [
    "Самый простой способ собрать информацию в интернете - изъять ее из html кода страницы. Давайте попробуем провернуть эту историю с http://www.bkk.hu/en/tickets-and-passes/prices/. "
   ]
  },
  {
   "cell_type": "code",
   "execution_count": null,
   "metadata": {
    "colab": {},
    "colab_type": "code",
    "id": "SfnNIEiLFQif"
   },
   "outputs": [],
   "source": [
    "import requests\n",
    "web = requests.get(\"http://www.bkk.hu/en/tickets-and-passes/prices/\")\n",
    "text = web.text"
   ]
  },
  {
   "cell_type": "markdown",
   "metadata": {
    "colab_type": "text",
    "id": "ATTiUjExFQii"
   },
   "source": [
    "Весь html код страницы содержится в строковой переменной. По сути этот тот же самый код, который вы видите в page source, если вы кликните правой кнопкой мыши в вашем браузере. О-о-о-очень длинная строка.\n"
   ]
  },
  {
   "cell_type": "code",
   "execution_count": 55,
   "metadata": {
    "colab": {
     "base_uri": "https://localhost:8080/",
     "height": 55
    },
    "colab_type": "code",
    "id": "NYGSPBSjW8tK",
    "outputId": "3b631c81-4f76-43a2-9a00-4a1fd842d8bc"
   },
   "outputs": [
    {
     "data": {
      "text/plain": [
       "'<!DOCTYPE html>\\n<html lang=\"en-US\" prefix=\"og: http://ogp.me/ns#\">\\n<head>\\n<meta charset=\"UTF-8\" />\\n<meta http-equiv=\"X-UA-Compatible\" content=\"IE=edge\" />\\n<title>Types and prices - Budapesti K\\xc3\\xb6zleked\\xc3\\xa9si K\\xc3\\xb6zpontBudapesti K\\xc3\\xb6zleked\\xc3\\xa9si K\\xc3\\xb6zpont</title>\\n\\n<link rel=\"stylesheet\" href=\"https://bkk.hu/wp-content/plugins/sitepress-multilingual-cms/res/css/language-selector.css?v=200.0.4\" type=\"text/css\" media=\"all\" />\\n<link rel=\"profile\" href=\"//gmpg.org/xfn/11\" />\\n<link rel=\"stylesheet\" type=\"text/css\" media=\"all\" href=\"https://bkk.hu/wp-content/themes/bkk/style.css.php?v=28065928\" />\\n<link rel=\"pingback\" href=\"https://bkk.hu/xmlrpc.php\" />\\n<link id=\"page_favicon\" href=\"https://bkk.hu/favicon.ico\" rel=\"icon\" type=\"image/x-icon\" />\\n<script src=\"https://bkk.hu/wp-content/themes/bkk/js/slide.js?v=29201333\" type=\"text/javascript\"></script>\\n\\n<!-- This site is optimized with the Yoast SEO plugin v5.3.3 - https://yoast.com/wordpress/plugins/seo/ -->\\n<link rel=\"canonical\" href=\"https://bkk.hu/en/tickets-and-passes/prices/\" />\\n<meta property=\"og:locale\" content=\"en_US\" />\\n<meta property=\"og:type\" content=\"article\" />\\n<meta property=\"og:title\" content=\"Types and prices - Budapesti K\\xc3\\xb6zleked\\xc3\\xa9si K\\xc3\\xb6zpont\" />\\n<meta property=\"og:description\" content=\"Are you planning a trip to Budapest and this will be your first visit ever? Do you need up-to-date information about public transport?\\nThen look for the Customer Service Points of BKK Centre for Budapest Transport at Liszt Ferenc International Airport\\xe2\\x80\\x99s Terminal 2A (daily 8:00-22:00) and Terminal 2B (daily 9:00-21:00). English-speaking attendants will be at your [...]\" />\\n<meta property=\"og:url\" content=\"https://bkk.hu/en/tickets-and-passes/prices/\" />\\n<meta property=\"og:site_name\" content=\"Budapesti K\\xc3\\xb6zleked\\xc3\\xa9si K\\xc3\\xb6zpont\" />\\n<meta property=\"article:publisher\" content=\"https://www.facebook.com/bkkbudapest/\" />\\n<meta property=\"og:image\" content=\"https://bkk.hu/wp-content/uploads/2016/03/bkk-logo.png\" />\\n<meta property=\"og:image:secure_url\" content=\"https://bkk.hu/wp-content/uploads/2016/03/bkk-logo.png\" />\\n<meta name=\"twitter:card\" content=\"summary\" />\\n<meta name=\"twitter:description\" content=\"Are you planning a trip to Budapest and this will be your first visit ever? Do you need up-to-date information about public transport?\\nThen look for the Customer Service Points of BKK Centre for Budapest Transport at Liszt Ferenc International Airport\\xe2\\x80\\x99s Terminal 2A (daily 8:00-22:00) and Terminal 2B (daily 9:00-21:00). English-speaking attendants will be at your [...]\" />\\n<meta name=\"twitter:title\" content=\"Types and prices - Budapesti K\\xc3\\xb6zleked\\xc3\\xa9si K\\xc3\\xb6zpont\" />\\n<meta name=\"twitter:image\" content=\"https://bkk.hu/wp-content/uploads/2016/03/bkk-logo.png\" />\\n<script type=\\'application/ld+json\\'>{\"@context\":\"http:\\\\/\\\\/schema.org\",\"@type\":\"WebSite\",\"@id\":\"#website\",\"url\":\"https:\\\\/\\\\/bkk.hu\\\\/en\\\\/\",\"name\":\"Budapesti K\\\\u00f6zleked\\\\u00e9si K\\\\u00f6zpont\",\"potentialAction\":{\"@type\":\"SearchAction\",\"target\":\"https:\\\\/\\\\/bkk.hu\\\\/en\\\\/?s={search_term_string}\",\"query-input\":\"required name=search_term_string\"}}</script>\\n<!-- / Yoast SEO plugin. -->\\n\\n<link rel=\\'dns-prefetch\\' href=\\'//s.w.org\\' />\\n<link rel=\"alternate\" type=\"application/rss+xml\" title=\"Budapesti K\\xc3\\xb6zleked\\xc3\\xa9si K\\xc3\\xb6zpont &raquo; Feed\" href=\"https://bkk.hu/en/feed/\" />\\n<link rel=\"alternate\" type=\"application/rss+xml\" title=\"Budapesti K\\xc3\\xb6zleked\\xc3\\xa9si K\\xc3\\xb6zpont &raquo; Comments Feed\" href=\"https://bkk.hu/en/comments/feed/\" />\\n\\t\\t<script type=\"text/javascript\">\\n\\t\\t\\twindow._wpemojiSettings = {\"baseUrl\":\"https:\\\\/\\\\/s.w.org\\\\/images\\\\/core\\\\/emoji\\\\/2.2.1\\\\/72x72\\\\/\",\"ext\":\".png\",\"svgUrl\":\"https:\\\\/\\\\/s.w.org\\\\/images\\\\/core\\\\/emoji\\\\/2.2.1\\\\/svg\\\\/\",\"svgExt\":\".svg\",\"source\":{\"concatemoji\":\"https:\\\\/\\\\/bkk.hu\\\\/wp-includes\\\\/js\\\\/wp-emoji-release.min.js?ver=4.7.11\"}};\\n\\t\\t\\t!function(a,b,c){function d(a){var b,c,d,e,f=String.fromCharCode;if(!k||!k.fillText)return!1;switch(k.clearRect(0,0,j.width,j.height),k.textBaseline=\"top\",k.font=\"600 32px Arial\",a){case\"flag\":return k.fillText(f(55356,56826,55356,56819),0,0),!(j.toDataURL().length<3e3)&&(k.clearRect(0,0,j.width,j.height),k.fillText(f(55356,57331,65039,8205,55356,57096),0,0),b=j.toDataURL(),k.clearRect(0,0,j.width,j.height),k.fillText(f(55356,57331,55356,57096),0,0),c=j.toDataURL(),b!==c);case\"emoji4\":return k.fillText(f(55357,56425,55356,57341,8205,55357,56507),0,0),d=j.toDataURL(),k.clearRect(0,0,j.width,j.height),k.fillText(f(55357,56425,55356,57341,55357,56507),0,0),e=j.toDataURL(),d!==e}return!1}function e(a){var c=b.createElement(\"script\");c.src=a,c.defer=c.type=\"text/javascript\",b.getElementsByTagName(\"head\")[0].appendChild(c)}var f,g,h,i,j=b.createElement(\"canvas\"),k=j.getContext&&j.getContext(\"2d\");for(i=Array(\"flag\",\"emoji4\"),c.supports={everything:!0,everythingExceptFlag:!0},h=0;h<i.length;h++)c.supports[i[h]]=d(i[h]),c.supports.everything=c.supports.everything&&c.supports[i[h]],\"flag\"!==i[h]&&(c.supports.everythingExceptFlag=c.supports.everythingExceptFlag&&c.supports[i[h]]);c.supports.everythingExceptFlag=c.supports.everythingExceptFlag&&!c.supports.flag,c.DOMReady=!1,c.readyCallback=function(){c.DOMReady=!0},c.supports.everything||(g=function(){c.readyCallback()},b.addEventListener?(b.addEventListener(\"DOMContentLoaded\",g,!1),a.addEventListener(\"load\",g,!1)):(a.attachEvent(\"onload\",g),b.attachEvent(\"onreadystatechange\",function(){\"complete\"===b.readyState&&c.readyCallback()})),f=c.source||{},f.concatemoji?e(f.concatemoji):f.wpemoji&&f.twemoji&&(e(f.twemoji),e(f.wpemoji)))}(window,document,window._wpemojiSettings);\\n\\t\\t</script>\\n\\t\\t<style type=\"text/css\">\\nimg.wp-smiley,\\nimg.emoji {\\n\\tdisplay: inline !important;\\n\\tborder: none !important;\\n\\tbox-shadow: none !important;\\n\\theight: 1em !important;\\n\\twidth: 1em !important;\\n\\tmargin: 0 .07em !important;\\n\\tvertical-align: -0.1em !important;\\n\\tbackground: none !important;\\n\\tpadding: 0 !important;\\n}\\n</style>\\n<link rel=\\'stylesheet\\' id=\\'nivo-css\\'  href=\\'https://bkk.hu/wp-content/plugins/header-image-slider/slider.css?ver=2.6\\' type=\\'text/css\\' media=\\'all\\' />\\n<link rel=\\'stylesheet\\' id=\\'contact-form-7-css\\'  href=\\'https://bkk.hu/wp-content/plugins/contact-form-7/includes/css/styles.css?ver=4.4.2\\' type=\\'text/css\\' media=\\'all\\' />\\n<link rel=\\'stylesheet\\' id=\\'wp-email-css\\'  href=\\'https://bkk.hu/wp-content/plugins/wp-email/email-css.css?ver=2.67.2\\' type=\\'text/css\\' media=\\'all\\' />\\n<link rel=\\'stylesheet\\' id=\\'featured-widget-css-css\\'  href=\\'https://bkk.hu/wp-content/plugins/featured-page-widget/templates/featured-page-widget.css?ver=4.7.11\\' type=\\'text/css\\' media=\\'all\\' />\\n<!-- This site uses the Google Analytics by MonsterInsights plugin v5.5 - Universal enabled - https://www.monsterinsights.com/ -->\\n<script type=\"text/javascript\">\\n\\t(function(i,s,o,g,r,a,m){i[\\'GoogleAnalyticsObject\\']=r;i[r]=i[r]||function(){\\n\\t\\t(i[r].q=i[r].q||[]).push(arguments)},i[r].l=1*new Date();a=s.createElement(o),\\n\\t\\tm=s.getElementsByTagName(o)[0];a.async=1;a.src=g;m.parentNode.insertBefore(a,m)\\n\\t})(window,document,\\'script\\',\\'//www.google-analytics.com/analytics.js\\',\\'__gaTracker\\');\\n\\n\\t__gaTracker(\\'create\\', \\'UA-20859616-1\\', \\'auto\\');\\n\\t__gaTracker(\\'set\\', \\'forceSSL\\', true);\\n\\t__gaTracker(\\'send\\',\\'pageview\\');\\n\\n</script>\\n<!-- / Google Analytics by MonsterInsights -->\\n<script type=\\'text/javascript\\' src=\\'https://bkk.hu/wp-includes/js/jquery/jquery.js?ver=1.12.4\\'></script>\\n<script type=\\'text/javascript\\' src=\\'https://bkk.hu/wp-includes/js/jquery/jquery-migrate.min.js?ver=1.4.1\\'></script>\\n<script type=\\'text/javascript\\' src=\\'https://bkk.hu/wp-content/plugins/header-image-slider/nivo-slider/jquery.nivo.slider.pack.js?ver=2.6\\'></script>\\n<link rel=\\'https://api.w.org/\\' href=\\'https://bkk.hu/wp-json/\\' />\\n<link rel=\"EditURI\" type=\"application/rsd+xml\" title=\"RSD\" href=\"https://bkk.hu/xmlrpc.php?rsd\" />\\n<meta name=\"generator\" content=\"WordPress 4.7.11\" />\\n<link rel=\\'shortlink\\' href=\\'https://bkk.hu/?p=18707\\' />\\n<link rel=\"alternate\" type=\"application/json+oembed\" href=\"https://bkk.hu/wp-json/oembed/1.0/embed?url=https%3A%2F%2Fbkk.hu%2Fen%2Ftickets-and-passes%2Fprices%2F\" />\\n<link rel=\"alternate\" type=\"text/xml+oembed\" href=\"https://bkk.hu/wp-json/oembed/1.0/embed?url=https%3A%2F%2Fbkk.hu%2Fen%2Ftickets-and-passes%2Fprices%2F&#038;format=xml\" />\\n\\t<!-- BKK GOOGLE MAPS WIDGET -->\\n\\t<script src=\"//maps.google.hu/maps/api/js?sensor=false&libraries=places&language=en&region=EN\" type=\"text/javascript\" charset=\"utf-8\"></script>\\n\\t<!-- scr ipt type=\\'text/javascript\\' src=\"//ajax.googleapis.com/ajax/libs/jqueryui/1.7.2/i18n/jquery-ui-i18n.min.js\"></scr ipt> -->\\n\\t<script type=\\'text/javascript\\'>\\n\\t  var tmap_SADDR = \\'Departure address\\';\\n\\t  var tmap_DADDR = \\'Arrival address\\';\\n\\t</script>\\n\\t<script type=\\'text/javascript\\' src=\"//ajax.googleapis.com/ajax/libs/jqueryui/1.10.1/jquery-ui.min.js\"></script>\\n\\t<script type=\\'text/javascript\\' src=\"https://bkk.hu/wp-content/themes/bkk/js/transit.form.js\" type=\"text/javascript\" charset=\"utf-8\"></script>\\n\\t<script type=\\'text/javascript\\' src=\"https://bkk.hu/wp-content/themes/bkk/js/gmaps.js?v=29201333\"></script>\\n\\t<!-- <li nk href=\"//ajax.googleapis.com/ajax/libs/jqueryui/1.7/themes/base/jquery-ui.css\" rel=\"stylesheet\" type=\"text/css\"/>-->\\n\\t<link href=\"//ajax.googleapis.com/ajax/libs/jqueryui/1.10.1/themes/base/jquery-ui.css\" rel=\"stylesheet\" type=\"text/css\"/>\\n\\t \\n\\t<link rel=\"stylesheet\" href=\"https://bkk.hu/wp-content/themes/bkk/js/css/gmaps.css\" type=\"text/css\" />\\n\\n\\t<!-- Added by EventCalendar plugin. Version 3.1.4 -->\\n\\t<script type=\\'text/javascript\\' src=\\'https://bkk.hu/wp-content/plugins/event-calendar/xmlhttprequest.js\\'></script>\\n\\t<script type=\\'text/javascript\\' src=\\'https://bkk.hu/wp-content/plugins/event-calendar/ec3.js\\'></script>\\n\\t<script type=\\'text/javascript\\'><!--\\n\\tec3.start_of_week=1;\\n\\tec3.month_of_year=new Array(\\'January\\',\\'February\\',\\'March\\',\\'April\\',\\'May\\',\\'June\\',\\'July\\',\\'August\\',\\'September\\',\\'October\\',\\'November\\',\\'December\\');\\n\\tec3.month_abbrev=new Array(\\'Jan\\',\\'Feb\\',\\'Mar\\',\\'Apr\\',\\'May\\',\\'Jun\\',\\'Jul\\',\\'Aug\\',\\'Sep\\',\\'Oct\\',\\'Nov\\',\\'Dec\\');\\n\\tec3.myfiles=\\'https://bkk.hu/wp-content/plugins/event-calendar\\';\\n\\tec3.home=\\'https://bkk.hu\\';\\n\\tec3.hide_logo=1;\\n\\tec3.viewpostsfor=\"View posts for %1$s %2$s\";\\n\\tec3.datestr=\"%1$s %2$d\";\\n\\t// --></script>\\n\\n<style type=\\'text/css\\' media=\\'screen\\'>\\n@import url(https://bkk.hu/wp-content/plugins/event-calendar/ec3.css);\\n.ec3_ec {\\n background-image:url(https://bkk.hu/wp-content/plugins/event-calendar/ec.png) !IMPORTANT;\\n background-image:none;\\n filter:progid:DXImageTransform.Microsoft.AlphaImageLoader(src=\\'https://bkk.hu/wp-content/plugins/event-calendar/ec.png\\');\\n}\\n#ec3_shadow0 {\\n background-image:url(https://bkk.hu/wp-content/plugins/event-calendar/shadow0.png) !IMPORTANT;\\n background-image:none;\\n}\\n#ec3_shadow0 div {\\n filter:progid:DXImageTransform.Microsoft.AlphaImageLoader(src=\\'https://bkk.hu/wp-content/plugins/event-calendar/shadow0.png\\',sizingMethod=\\'scale\\');\\n}\\n#ec3_shadow1 {\\n background-image:url(https://bkk.hu/wp-content/plugins/event-calendar/shadow1.png) !IMPORTANT;\\n background-image:none;\\n filter:progid:DXImageTransform.Microsoft.AlphaImageLoader(src=\\'https://bkk.hu/wp-content/plugins/event-calendar/shadow1.png\\',sizingMethod=\\'crop\\');\\n}\\n#ec3_shadow2 {\\n background-image:url(https://bkk.hu/wp-content/plugins/event-calendar/shadow2.png) !IMPORTANT;\\n background-image:none;\\n}\\n#ec3_shadow2 div {\\n filter:progid:DXImageTransform.Microsoft.AlphaImageLoader(src=\\'https://bkk.hu/wp-content/plugins/event-calendar/shadow2.png\\',sizingMethod=\\'scale\\');\\n}\\n</style>\\n\\n<script type=\"text/javascript\">var icl_lang = \\'en\\';var icl_home = \\'https://bkk.hu/en/\\';</script>\\n<script type=\"text/javascript\" src=\"https://bkk.hu/wp-content/plugins/sitepress-multilingual-cms/res/js/sitepress.js\"></script>\\n<meta name=\"generator\" content=\"WPML ver:200.0.4 stt:1,23;0;0;0\" />\\n<meta name=\"TagPages\" content=\"1.63\"/>\\n</head>\\n\\n<body class=\"page-template-default page page-id-18707 page-parent page-child parent-pageid-50382\">\\n<div id=\"wrapper\" class=\"hfeed\">\\n\\t<div id=\"header\">\\n\\t\\t<div id=\"topStatus\">\\n\\t\\t\\t<div id=\"positionLine\">\\n\\t\\t\\t<div class=\"main\"><a class=\"main\" title=\"Main page\" href=\"https://bkk.hu/en/\"><span>Main page</span></a></div>\\t\\t\\t</div>\\n\\t\\t\\t<div id=\"basicLinks\">\\n\\n<form role=\"search\" method=\"get\" id=\"searchform\" class=\"searchform\" action=\"https://bkk.hu/en/\">\\n\\t\\t\\t\\t<div>\\n\\t\\t\\t\\t\\t<label class=\"screen-reader-text\" for=\"s\">Search for:</label>\\n\\t\\t\\t\\t\\t<input type=\"text\" value=\"Search...\" name=\"s\" id=\"s\" />\\n\\t\\t\\t\\t\\t<input type=\"image\" alt=\"Search...\" src=\"https://bkk.hu/wp-content/themes/bkk/images/search_submit.png\" id=\"searchsubmit\" value=\"Search\" />\\n\\t\\t\\t\\t</div>\\n\\t\\t\\t</form><script type=\"text/javascript\">//<![CDATA[\\n\\t\\tvar searchform = function() {\\n\\t\\t\\tvar s = document.getElementById(\\'s\\');\\n\\t\\t\\ts.onfocus = function() {\\n\\t\\t\\t\\tvar s = document.getElementById(\\'s\\');\\n\\t\\t\\t\\tif (s.value==\"Search...\") {\\n\\t\\t\\t\\t\\ts.value = \"\";\\n\\t\\t\\t\\t} else if (s.value==\"\") {\\n\\t\\t\\t\\t\\ts.value = \"Search...\";\\n\\t\\t\\t\\t}\\n\\t\\t\\t};\\n\\t\\t\\ts.onblur = function() {\\n\\t\\t\\t\\tvar s = document.getElementById(\\'s\\');\\n\\t\\t\\t\\tif (s.value==\"\") {\\n\\t\\t\\t\\t\\ts.value = \"Search...\";\\n\\t\\t\\t\\t}\\n\\t\\t\\t};\\n\\t\\t};\\n\\t\\tmakeDoubleDelegate = function (f1, f2) {return function() {if (f1)f1();if (f2)f2();}}\\n\\t\\twindow.onload = makeDoubleDelegate(window.onload, searchform );\\n\\t\\t//]]></script>\\t\\t\\t</div>\\n\\t\\t</div>\\n\\t\\t<div id=\"masthead\">\\n\\t\\t\\t<div id=\"branding\" role=\"banner\">\\n\\t\\t\\t\\t\\t\\t\\t\\t<div id=\"site-title\">\\n\\t\\t\\t\\t\\t<span>\\n\\t\\t\\t\\t\\t\\t<a href=\"https://bkk.hu/en/\" id=\"homelink\" title=\"Budapesti K\\xc3\\xb6zleked\\xc3\\xa9si K\\xc3\\xb6zpont\" rel=\"home\">Budapesti K\\xc3\\xb6zleked\\xc3\\xa9si K\\xc3\\xb6zpont</a>\\n\\t\\t\\t\\t\\t</span>\\n\\t\\t\\t\\t\\t<div class=\"header_links\">\\n\\t\\t\\t\\t<div id=\"Share_Logos_Widget\"><a href=\"//www.facebook.com/pages/BKK-Budapesti-K%C3%B6zleked%C3%A9si-K%C3%B6zpont/124585274266636\" target=\"_blank\" title=\"FACEBOOK\"><img alt=\"FACEBOOK\" src=\"https://bkk.hu/wp-content/themes/bkk/images/share_fb.png\"/></a><a href=\"//instagram.com/bkkbudapest\" target=\"_blank\" title=\"INSTAGRAM\"><img alt=\"INSTAGRAM\" src=\"https://bkk.hu/wp-content/themes/bkk/images/share_instagram.png\"/></a></div><div id=\"contact\"><a href=\"https://bkk.hu/en/main-page/contact/\" title=\"Contact\">Contact</a></div>\\n\\t<div id=\\'lang_sel_list\\'>\\n\\t            <ul>\\n\\t                <li class=\\'icl-hu\\'>\\n\\t                    <a href=\\'https://bkk.hu/tomegkozlekedes/jegyek-es-berletek/jegy-es-berletarak/\\' class=\"lang_sel_other\">\\n\\t                    \\t                    Magyar\\t                    </a>\\n\\t                </li>\\n\\t                \\t            </ul>\\n\\t</div>\\n                            <!--div id=\"lang_sel_list\">\\n                                <ul>\\n                                    <li class=\"icl-en\"> <a class=\"lang_sel_other\" href=\"https://bkk.hu/en//english-content/\"> English </a> </li>\\n                                </ul>\\n                            </div-->\\n\\t\\t\\t\\t\\t</div>\\n\\t\\t\\t\\t</div>\\n\\t\\t\\t\\t<div id=\"site-description\"></div>\\n\\n\\n\\t\\t\\t</div><!-- #branding -->\\n\\n\\n\\t\\t</div><!-- #masthead -->\\n\\t</div><!-- #header -->\\n\\n\\t<div id=\"main\">\\n\\t\\t\\t\\n\\n\\t\\t<div id=\"primary\" class=\"widget-area\" role=\"navigation\">\\n\\t\\t\\t<ul class=\"xoxo\">\\n\\n<li id=\"nav_menu-3\" class=\"widget-container widget_nav_menu\"><div class=\"menu-main-menu-container\"><ul id=\"menu-main-menu\" class=\"menu\"><li id=\"menu-item-1772\" class=\"menu-item menu-item-type-custom menu-item-object-custom menu-item-has-children menu-item-1772\"><span class=\"a\">About us</span>\\n<ul class=\"sub-menu\">\\n\\t<li id=\"menu-item-1690\" class=\"menu-item menu-item-type-post_type menu-item-object-page menu-item-1690\"><a href=\"https://bkk.hu/en/main-page/bkk-in-brief/\">BKK in brief</a></li>\\n\\t<li id=\"menu-item-2726\" class=\"menu-item menu-item-type-post_type menu-item-object-page menu-item-2726\"><a href=\"https://bkk.hu/en/main-page/our-progress/\">Our progress</a></li>\\n\\t<li id=\"menu-item-1691\" class=\"menu-item menu-item-type-post_type menu-item-object-page menu-item-1691\"><a href=\"https://bkk.hu/en/main-page/tasks-responsibilities/\">Tasks &#038; Responsibilities</a></li>\\n\\t<li id=\"menu-item-5277\" class=\"menu-item menu-item-type-post_type menu-item-object-page menu-item-5277\"><a href=\"https://bkk.hu/en/news/\">News</a></li>\\n\\t<li id=\"menu-item-2836\" class=\"menu-item menu-item-type-post_type menu-item-object-page menu-item-2836\"><a href=\"https://bkk.hu/en/main-page/board-members/\">Board Members</a></li>\\n\\t<li id=\"menu-item-2835\" class=\"menu-item menu-item-type-post_type menu-item-object-page menu-item-2835\"><a href=\"https://bkk.hu/en/main-page/supervisory-board/\">Supervisory Board</a></li>\\n\\t<li id=\"menu-item-1695\" class=\"menu-item menu-item-type-post_type menu-item-object-page menu-item-1695\"><a href=\"https://bkk.hu/en/main-page/contact/\">Contact</a></li>\\n\\t<li id=\"menu-item-32029\" class=\"menu-item menu-item-type-post_type menu-item-object-page menu-item-32029\"><a href=\"https://bkk.hu/en/design/\">Design and signage</a></li>\\n</ul>\\n</li>\\n</ul></div></li><li id=\"facebooklikebox-5\" class=\"widget-container widget_FacebookLikeBox\"><iframe src=\"https://www.facebook.com/plugins/likebox.php?href=http://www.facebook.com/pages/BKK-Budapesti-K%C3%B6zleked%C3%A9si-K%C3%B6zpont/124585274266636&amp;width=166&amp;colorscheme=light&amp;border_color=AAAAAA&amp;show_faces=true&amp;connections=10&amp;stream=false&amp;header=true&amp;height=552\" scrolling=\"no\" frameborder=\"0\" style=\"border:none; overflow:hidden; width:166px; height:552px;\" allowTransparency=\"true\"></iframe></li>\\t\\t\\t<script type=\"text/javascript\">//<![CDATA[\\t\\t\\t\\n\\t\\t\\t\\tfunction menuSlideClick(e){\\n\\t\\t\\t\\t\\tvar a = getTarget(e);\\n\\t\\t\\t\\t\\t//console.log(a);\\n\\t\\t\\t\\t\\tif (jQuery(a).attr(\"over\")==\"true\") {\\n\\t\\t\\t\\t\\t\\t//console.log(jQuery(a).attr(\"over\")+\"1\");\\n\\t\\t\\t\\t\\t\\tslideUp(a.slide);\\n\\t\\t\\t\\t\\t} else {\\n\\t\\t\\t\\t\\t\\t//console.log(jQuery(a).attr(\"over\")+\"12\");\\n\\t\\t\\t\\t\\t\\tslideDown(a.slide);\\n\\t\\t\\t\\t\\t} \\n\\t\\t\\t\\t\\t//console.log(jQuery(a).attr(\"over\")==\"true\");\\n\\t\\t\\t\\t\\tjQuery(a).attr(\"over\",(jQuery(a).attr(\"over\")==\"true\"?false:true)); \\n\\t\\t\\t\\t\\treturn true;\\n\\t\\t\\t\\t}\\n\\t\\t\\t\\tfunction balMenuSlideInit() {\\n\\t\\t\\t\\t\\tif (baloldali = document.getElementById(\"menu-fomenu\")) {\\t\\t\\t\\t\\t\\n\\t\\t\\t\\t\\t\\tvar lis = baloldali.getElementsByTagName(\"li\");\\n\\t\\t\\t\\t\\t\\t\\n\\t\\t\\t\\t\\t\\tfor (var i in lis) {\\n\\t\\t\\t\\t\\t\\t\\tif (typeof(lis[i].getElementsByTagName) != \"undefined\") {\\n\\t\\t\\t\\t\\t\\t\\t\\tvar uls = lis[i].getElementsByTagName(\"ul\");\\n\\t\\t\\t\\t\\t\\t\\t\\tif (uls.length) {\\n\\t\\t\\t\\t\\t\\t\\t\\t\\n\\t\\t\\t\\t\\t\\t\\t\\t\\tvar ul = uls[0];\\n\\t\\t\\t\\t\\t\\t\\t\\t\\tif (ul) {\\n\\t\\t\\t\\t\\t\\t\\t\\t\\t\\tvar a = lis[i].getElementsByTagName(\"a\");\\n\\t\\t\\t\\t\\t\\t\\t\\t\\t\\tif (a.length) {\\n\\t\\t\\t\\t\\t\\t\\t\\t\\t\\t\\ta = a[0];\\n\\t\\t\\t\\t\\t\\t\\t\\t\\t\\t\\tif (ul.parentNode!=a.parentNode) {\\n\\t\\t\\t\\t\\t\\t\\t\\t\\t\\t\\t\\tvar a = lis[i].getElementsByTagName(\"span\");\\n\\t\\t\\t\\t\\t\\t\\t\\t\\t\\t\\t\\ta = a[0];\\n\\t\\t\\t\\t\\t\\t\\t\\t\\t\\t\\t}\\n\\t\\t\\t\\t\\t\\t\\t\\t\\t\\t\\t\\n\\t\\t\\t\\t\\t\\t\\t\\t\\t\\t\\ta.slide = ul;\\n\\t\\t\\t\\t\\t\\t\\t\\t\\t\\t\\ta.over = false;\\n\\t\\t\\t\\t\\t\\t\\t\\t\\t\\t\\tul.slide = a;\\n\\t\\t\\t\\t\\t\\t\\t\\t\\t\\t\\ta.style.cursor = \"pointer\";\\n\\t\\t\\t\\t\\t\\t\\t\\t\\t\\t\\tunbindEvent(a,\"click\",null,true);\\n\\t\\t\\t\\t\\t\\t\\t\\t\\t\\t\\tbindEvent(a,\"click\",menuSlideClick);\\n\\t\\t\\t\\t\\t\\t\\t\\t\\t\\t\\tunbindEvent(a,\"click\",null,true);\\n\\t\\t\\t\\t\\t\\t\\t\\t\\t\\t\\t/*bindEvent(a,\"mouseover\",function(e){var a = getTarget(e);a.over = true;setTimeout(function(){a.over = true;},10);slideDown(a.slide);});\\n\\t\\t\\t\\t\\t\\t\\t\\t\\t\\t\\tbindEvent(a,\"mouseout\",function(e){var a = getTarget(e);a.over = false;setTimeout(function(){var a = getTarget(e); if (a.over!=true) {slideUp(a.slide);}},1000)});\\n\\t\\t\\t\\t\\t\\t\\t\\t\\t\\t\\tbindEvent(ul,\"mouseover\",function(e){var ul = getTarget(e);if (typeof(ul.slide) != \"undefined\") {var p = ul;} else if (typeof(ul.parentNode.slide) != \"undefined\") {var p = ul.parentNode;} else if (typeof(ul.parentNode.parentNode.slide) != \"undefined\") {var p = ul.parentNode.parentNode;} if (typeof(p.slide) != \"undefined\") {p.slide.over = true;setTimeout(function(){p.slide.over = true;},10);}return true;});\\t\\t\\t\\t\\t\\t\\t\\t\\t\\t\\t\\n\\t\\t\\t\\t\\t\\t\\t\\t\\t\\t\\tbindEvent(ul,\"mouseout\",function(e){var ul = getTarget(e);if (typeof(ul.slide) != \"undefined\") {var p = ul;} else if (typeof(ul.parentNode.slide) != \"undefined\") {var p = ul.parentNode;} else if (typeof(ul.parentNode.parentNode.slide) != \"undefined\") {var p = ul.parentNode.parentNode;} if (typeof(p.slide) != \"undefined\") {p.slide.over = false;setTimeout(function(){var ul = getTarget(e); if (!p.slide.over) slideUp(p);},1000)}});*/\\n\\t\\t\\t\\t\\t\\t\\t\\t\\t\\t} else {\\n\\t\\t\\t\\t\\t\\t\\t\\t\\t\\t\\tvar a = lis[i].getElementsByTagName(\"span\");\\n\\t\\t\\t\\t\\t\\t\\t\\t\\t\\t\\ta = a[0];\\n\\t\\t\\t\\t\\t\\t\\t\\t\\t\\t\\tif (a.className == \"a\") {\\n\\t\\t\\t\\t\\t\\t\\t\\t\\t\\t\\t\\ta.slide = ul;\\n\\t\\t\\t\\t\\t\\t\\t\\t\\t\\t\\t\\ta.over = false;\\n\\t\\t\\t\\t\\t\\t\\t\\t\\t\\t\\t\\ta.style.cursor = \"pointer\";\\n\\t\\t\\t\\t\\t\\t\\t\\t\\t\\t\\t\\tunbindEvent(a,\"mouseover\",null,true);\\n\\t\\t\\t\\t\\t\\t\\t\\t\\t\\t\\t\\tbindEvent(a,\"mouseover\",menuSlideClick);//function(e){var a = getTarget(e);console.log(a);console.log(this);if (jQuery(a).attr(\"over\")) {console.log(jQuery(a).attr(\"over\")+\"2\");slideUp(a.slide);} else {console.log(jQuery(a).attr(\"over\"));slideDown(a.slide);} jQuery(a).attr(\"over\",(jQuery(a).attr(\"over\")==\"true\"?false:true)); return true;} );\\n\\t\\t\\t\\t\\t\\t\\t\\t\\t\\t\\t\\t/*bindEvent(a,\"mouseover\",function(e){var a = getTarget(e);slideDown(a.slide);});\\n\\t\\t\\t\\t\\t\\t\\t\\t\\t\\t\\t\\tbindEvent(a,\"mouseout\",function(e){setTimeout(function(){var a = getTarget(e); if (a.over!=true) {slideUp(a.slide);}},1000)});\\n\\t\\t\\t\\t\\t\\t\\t\\t\\t\\t\\t\\tbindEvent(ul,\"mouseover\",function(){over = true;});\\n\\t\\t\\t\\t\\t\\t\\t\\t\\t\\t\\t\\tbindEvent(ul,\"mouseout\",function(){over = false;setTimeout(function(){if (!over) slideUp(ul);},1000)});*/\\n\\t\\t\\t\\t\\t\\t\\t\\t\\t\\t\\t}\\n\\t\\t\\t\\t\\t\\t\\t\\t\\t\\t}\\n\\t\\t\\t\\t\\t\\t\\t\\t\\t}\\n\\t\\t\\t\\t\\t\\t\\t\\t}\\n\\t\\t\\t\\t\\t\\t\\t}\\n\\t\\t\\t\\t\\t\\t}\\n\\t\\t\\t\\t\\t}\\n\\t\\t\\t\\t}\\n\\t\\t\\t\\tif (typeof makeDoubleDelegate == \"undefined\") {\\n\\t\\t\\t\\t\\tmakeDoubleDelegate = function (f1, f2) {return function() {if (f1)f1();if (f2)f2();}}\\n\\t\\t\\t\\t}\\n\\t\\t\\t\\twindow.onload = makeDoubleDelegate(window.onload, balMenuSlideInit );\\n\\n\\t\\t\\t\\t//]]></script>\\t\\t\\n\\t\\t\\t\\t\\t</ul>\\n\\t\\t</div><!-- #primary .widget-area -->\\n\\n\\t\\t<div id=\"secondary\" class=\"widget-area\" role=\"complementary\">\\n\\t\\t\\t<ul class=\"xoxo\">\\n\\t\\t\\t\\t<li id=\"nav_menu-11\" class=\"widget-container widget_nav_menu\"><div class=\"menu-right-side-menu-container\"><ul id=\"menu-right-side-menu\" class=\"menu\"><li id=\"menu-item-69119\" class=\"menu-item menu-item-type-custom menu-item-object-custom menu-item-69119\"><a href=\"http://bkk.hu/m3felujitas/?l=en\">M3 metro closure</a></li>\\n<li id=\"menu-item-31130\" class=\"menu-item menu-item-type-custom menu-item-object-custom menu-item-has-children menu-item-31130\"><span class=\"a\">Public transport</span>\\n<ul class=\"sub-menu\">\\n\\t<li id=\"menu-item-49788\" class=\"menu-item menu-item-type-custom menu-item-object-custom menu-item-49788\"><a href=\"http://futar.bkk.hu/?layers=SVB&#038;lang=en\">Trip planner</a></li>\\n\\t<li id=\"menu-item-31131\" class=\"menu-item menu-item-type-post_type menu-item-object-page menu-item-31131\"><a href=\"https://bkk.hu/en/timetables/\">Timetables</a></li>\\n\\t<li id=\"menu-item-31132\" class=\"menu-item menu-item-type-post_type menu-item-object-page menu-item-31132\"><a href=\"https://bkk.hu/en/maps/\">Maps</a></li>\\n\\t<li id=\"menu-item-50401\" class=\"menu-item menu-item-type-custom menu-item-object-custom menu-item-50401\"><a href=\"http://www.bkk.hu/en/tickets-and-passes/\">Tickets and passes</a></li>\\n\\t<li id=\"menu-item-60206\" class=\"menu-item menu-item-type-custom menu-item-object-custom menu-item-60206\"><a href=\"http://www.bkk.hu/en/tickets-and-passes/fines/\">Penalty fares</a></li>\\n\\t<li id=\"menu-item-42208\" class=\"menu-item menu-item-type-custom menu-item-object-custom menu-item-42208\"><a href=\"http://www.bkk.hu/automata?l=en\">Ticket vending machines</a></li>\\n\\t<li id=\"menu-item-46815\" class=\"menu-item menu-item-type-custom menu-item-object-custom menu-item-46815\"><a href=\"http://www.bkk.hu/en/transporting-bicycles-on-bkk-lines/\">Transporting bicycles</a></li>\\n\\t<li id=\"menu-item-46945\" class=\"menu-item menu-item-type-custom menu-item-object-custom menu-item-46945\"><a href=\"http://www.bkk.hu/en/accessible-public-transport-in-budapest/\">Accessible transport</a></li>\\n\\t<li id=\"menu-item-31134\" class=\"menu-item menu-item-type-post_type menu-item-object-page menu-item-31134\"><a href=\"https://bkk.hu/en/developers/\">For developers</a></li>\\n\\t<li id=\"menu-item-48919\" class=\"menu-item menu-item-type-custom menu-item-object-custom menu-item-48919\"><a href=\"http://www.bkk.hu/nosztalgia/?l=en\">Heritage public transport</a></li>\\n</ul>\\n</li>\\n<li id=\"menu-item-72938\" class=\"menu-item menu-item-type-custom menu-item-object-custom menu-item-72938\"><a href=\"https://bkk.hu/en/ticket-validation/\">Ticket validation</a></li>\\n<li id=\"menu-item-66527\" class=\"menu-item menu-item-type-custom menu-item-object-custom menu-item-66527\"><a href=\"http://bkk.hu/en/airport-shuttle/\">Airport shuttle</a></li>\\n<li id=\"menu-item-52953\" class=\"menu-item menu-item-type-custom menu-item-object-custom menu-item-52953\"><a href=\"http://www.bkk.hu/en/tourist-information-about-budapest-public-transport/\">Tourist guide</a></li>\\n</ul></div></li>\\t\\t\\t</ul>\\n\\t\\t</div><!-- #secondary .widget-area -->\\n\\n<div id=\"container\">\\n\\t\\t\\t<div id=\"content\" role=\"main\">\\n\\n\\n\\t\\t\\t\\t<div id=\"post-18707\" class=\"post-18707 page type-page status-publish hentry\">\\n\\t\\t\\t\\t\\t\\t\\t\\t\\t\\t\\t<h1 class=\"entry-title\">Types and prices</h1>\\n\\t\\t\\t\\t\\t\\n\\t\\t\\t\\t\\t<div class=\"entry-content\">\\n\\t\\t\\t\\t\\t\\t<p>Are you planning a trip to Budapest and this will be your first visit ever? Do you need up-to-date information about public transport?<br />\\nThen look for the Customer Service Points of BKK Centre for Budapest Transport at Liszt Ferenc International Airport\\xe2\\x80\\x99s Terminal 2A (daily 8:00-22:00) and Terminal 2B (daily 9:00-21:00). English-speaking attendants will be at your service with useful information on transport and tourism. Almost all types of tickets and passes are available for purchase at the airport including the practical 24- or 72-hour travelcards especially designed for tourists. <a href=\"http://www.bkk.hu/en/2013/09/bkk%E2%80%99s-customer-service-points-help-arriving-visitors-with-information-on-how-to-get-around-by-public-transport/\">Further information about the hours and operation of the Customer Service Point</a>\\n</p>\\n<p>Please note that <b>front-door boarding only policy</b> is now in place on bus 200E serving Liszt Ferenc International Airport. Single tickets are on sale at the following locations:</p>\\n<ul>\\n<li>BKK Customer Service Points at the arrivals level of airport terminals 2A and 2B</li>\\n<li>ticket offices at the bus terminus next to K\\xc5\\x91b\\xc3\\xa1nya-Kispest metro station:</li>\\n<ul>\\n<li>near the exit of metro line M3, in the corridor leading to the M\\xc3\\x81V Hungarian State Railways station</li>\\n<li>near the passenger drop-off site of bus 85</li>\\n</ul>\\n</ul>\\n<p>Additionally, single tickets are available from the driver onboard the bus at the price of 450 HUF.</p>\\n<h3><a target=\"_blank\" href=\"http://www.bkk.hu/pontkereso?l=en\">For Ticket offices click here</a></h3>\\n<table border=\"1\" cellspacing=\"0\" cellpadding=\"5\" width=\"100%\" align=\"center\" bgcolor=\"#FFFFFF\">\\n<tbody>\\n<tr>\\n<td colspan=\"100\">\\n<h3 style=\"text-align: left;\">Tickets</h3>\\n</td>\\n</tr>\\n<tr>\\n<td width=\"70%\" align=\"left\">\\n<div><span><a href=\"http://www.bkk.hu/en/prices/single-ticket/\">Single ticket</a></span></div>\\n</td>\\n<td width=\"30%\" align=\"left\">\\n<div><span>HUF 350</span></div>\\n</td>\\n</tr>\\n<tr>\\n<td width=\"70%\" align=\"left\">\\n<div><span><a href=\"http://www.bkk.hu/en/prices/single-ticket-bought-on-the-spot/\">Single ticket bought on the spot</a></span></div>\\n</td>\\n<td width=\"30%\" align=\"left\">\\n<div><span>HUF 450</span></div>\\n</td>\\n</tr>\\n<tr>\\n<td width=\"70%\" align=\"left\">\\n<div><span><a href=\"http://www.bkk.hu/en/block-of-10-tickets/\">Block of 10 tickets</a></span></div>\\n</td>\\n<td width=\"30%\" align=\"left\">\\n<div><span>HUF 3 000</span></div>\\n</td>\\n</tr>\\n<tr>\\n<td width=\"70%\" align=\"left\">\\n<div><span><a href=\"http://bkk.hu/en/airport-shuttle-bus-single-ticket/\">Airport shuttle bus single ticket </a>(100E)</span></div>\\n</td>\\n<td width=\"30%\" align=\"left\">\\n<div><span>HUF 900</span></div>\\n</td>\\n</tr>\\n<tr>\\n<td width=\"70%\" align=\"left\">\\n<div><span><a href=\"http://www.bkk.hu/en/prices/transfer-ticket-2/\">Transfer ticket</a></span></div>\\n</td>\\n<td width=\"30%\" align=\"left\">\\n<div><span>HUF 530</span></div>\\n</td>\\n</tr>\\n<tr>\\n<td width=\"70%\" align=\"left\">\\n<div><span><a href=\"http://www.bkk.hu/en/prices/short-section-metro-ticket/\">Short section metro ticket for up to 3 stops</a></span></div>\\n</td>\\n<td width=\"30%\" align=\"left\">\\n<div><span>HUF 300</span></div>\\n</td>\\n</tr>\\n<tr>\\n<td width=\"70%\" align=\"left\">\\n<div><span><a href=\"http://www.bkk.hu/en/prices/single-ticket-for-public-transport-boat/\">Single ticket for public transport boat</a></span></div>\\n</td>\\n<td width=\"30%\" align=\"left\">\\n<div><span>HUF 750</span></div>\\n</td>\\n</tr>\\n<tr>\\n<td width=\"70%\" align=\"left\">\\n<div><span><a href=\"http://www.bkk.hu/en/prices/single-ticket-for-public-transport-boat-children-under-15/\">Single ticket for public transport boat Children (under 15)</a></span></div>\\n</td>\\n<td width=\"30%\" align=\"left\">\\n<div><span>HUF 550</span></div>\\n</td>\\n</tr>\\n<tr>\\n<td width=\"70%\" align=\"left\">\\n<div><span><a href=\"http://www.bkk.hu/en/prices/metropolitan-are-single-ticket/\">Metropolitan area ticket</a></span></div>\\n</td>\\n<td width=\"30%\" align=\"left\">\\n<div><span>HUF 250</span></div>\\n</td>\\n</tr>\\n<tr>\\n<td width=\"70%\" align=\"left\">\\n<div><span><a href=\"http://www.bkk.hu/en/prices/metropolitan-area-single-ticket-with-50-price-discount/\">Metropolitan area single ticket (50 % price discount)</a></span></div>\\n</td>\\n<td width=\"30%\" align=\"left\">\\n<div><span>HUF 125</span></div>\\n</td>\\n</tr>\\n<tr>\\n<td width=\"70%\" align=\"left\">\\n<div><span><a href=\"http://www.bkk.hu/en/prices/metropolitan-area-single-ticket-with-90-price-discount/\">Metropolitan area single ticket (90 % price discount)</a></span></div>\\n</td>\\n<td width=\"30%\" align=\"left\">\\n<div><span>HUF 25</span></div>\\n</td>\\n</tr>\\n<tr>\\n<td colspan=\"2\"><a href=\"http://www.bkk.hu/en/prices/supplementary-hev-suburban-railway-ticket-10-15-20-25-30-km/\">Suburban railway extension ticket</a></td>\\n</tr>\\n<tr>\\n<td width=\"70%\" align=\"right\">10 km<br />15 km<br />20 km<br />25 km<br />30 km</td>\\n<td width=\"30%\" align=\"left\">HUF 250<br />HUF 310<br />HUF 370<br />HUF 465<br />HUF 560</td>\\n</tr>\\n<tr>\\n<td colspan=\"2\"><a href=\"http://www.bkk.hu/en/prices/hev-suburban-railway-ticket-with-50-price-discount-10-15-20-25-30-km/\">H\\xc3\\x89V suburban railway ticket with 50% price reduction</a></td>\\n</tr>\\n<tr>\\n<td width=\"70%\" align=\"right\">10 km<br />15 km<br />20 km<br />25 km<br />30 km</td>\\n<td width=\"30%\" align=\"left\">HUF 125<br />HUF 155<br />HUF 185<br />HUF 235<br />HUF 280</td>\\n</tr>\\n<tr>\\n<td colspan=\"2\"><a href=\"http://www.bkk.hu/en/prices/hev-suburban-railway-ticket-with-90-price-reduction-10-15-20-25-30-km/\">H\\xc3\\x89V suburban railway ticket with 90% price reduction</a></td>\\n</tr>\\n<tr>\\n<td width=\"70%\" align=\"right\">10 km<br />15 km<br />20 km<br />25 km<br />30 km</td>\\n<td width=\"30%\" align=\"left\">HUF 25<br />HUF 30<br />HUF 35<br />HUF 45<br />HUF 55</td>\\n</tr>\\n<tr>\\n<td width=\"70%\" align=\"left\">\\n<div><span><a href=\"http://bkk.hu/en/tickets-and-passes/prices/airport-bus-extension-ticket/\">Airport bus extension ticket</a></span></div>\\n</td>\\n<td width=\"30%\" align=\"left\">\\n<div><span>HUF 300</span></div>\\n</td>\\n</tr>\\n<tr>\\n<td colspan=\"100\">\\n<h3>Daily tickets</h3>\\n</td>\\n</tr>\\n<tr>\\n<td width=\"70%\" align=\"left\">\\n<div><span><a href=\"http://www.bkk.hu/en/pupil-group-travelcard/\">Pupil group travelcard</a></span></div>\\n</td>\\n<td width=\"30%\" align=\"left\">\\n<div><span>HUF 650/person</span></div>\\n</td>\\n</tr>\\n<tr>\\n<td width=\"70%\" align=\"left\">\\n<div><span><a href=\"http://www.bkk.hu/en/budapest-24-hour-travel-card/\">Budapest 24-hour travelcard</a></span></div>\\n</td>\\n<td width=\"30%\" align=\"left\">\\n<div><span>HUF 1 650</span></div>\\n</td>\\n</tr>\\n<tr>\\n<td width=\"70%\" align=\"left\">\\n<div><span><a href=\"http://www.bkk.hu/en/prices/budapest-24-hour-group-travel-card/\">Budapest 24-hour group travelcard (for 1-5 passengers traveling together)</a></span></div>\\n</td>\\n<td width=\"30%\" align=\"left\">\\n<div><span>HUF 3 300</span></div>\\n</td>\\n</tr>\\n<tr>\\n<td width=\"70%\" align=\"left\">\\n<div><span><a href=\"http://www.bkk.hu/en/prices/530-bkk-24-hour-travelcard/\">5/30 BKK 24-hour travelcard</a></span></div>\\n</td>\\n<td width=\"30%\" align=\"left\">\\n<div><span>HUF 4 550</span></div>\\n</td>\\n</tr>\\n<tr>\\n<td width=\"70%\" align=\"left\">\\n<div><span><a href=\"http://www.bkk.hu/en/prices/budapest-72-hour-travel-card/\">Budapest 72-hour travelcard</a></span></div>\\n</td>\\n<td width=\"30%\" align=\"left\">\\n<div><span>HUF 4,150</span></div>\\n</td>\\n</tr>\\n<tr>\\n<td width=\"70%\" align=\"left\">\\n<div><span><a href=\"http://www.bkk.hu/en/budapest-7-day-travel-card/\">Budapest 7-day travelcard</a></span></div>\\n</td>\\n<td width=\"30%\" align=\"left\">\\n<div><span>HUF 4 950</span></div>\\n</td>\\n</tr>\\n<tr>\\n<td width=\"70%\" align=\"left\">\\n<div><span><a href=\"http://www.bkk.hu/en/budapest-card-for-24-hours/\">Budapest Card for 24 hours</a></span></div>\\n</td>\\n<td width=\"30%\" align=\"left\">\\n<div><span>HUF 6,490</span></div>\\n</td>\\n</tr>\\n<tr>\\n<td width=\"70%\" align=\"left\">\\n<div><span><a href=\"http://www.bkk.hu/en/prices/budapest-card-for-48-hours/\">Budapest Card for 48 hours</a></span></div>\\n</td>\\n<td width=\"30%\" align=\"left\">\\n<div><span>HUF 9,990</span></div>\\n</td>\\n</tr>\\n<tr>\\n<td width=\"70%\" align=\"left\">\\n<div><span><a href=\"http://www.bkk.hu/en/budapest-card-for-72-hours/\">Budapest Card for 72 hours</a></span></div>\\n</td>\\n<td width=\"30%\" align=\"left\">\\n<div><span>HUF 12,990</span></div>\\n</td>\\n</tr>\\n<tr>\\n<td width=\"70%\" align=\"left\">\\n<div><span><a href=\"http://www.bkk.hu/en/budapest-card-for-96-hours/\">Budapest Card for 96 hours</a></span></div>\\n</td>\\n<td width=\"30%\" align=\"left\">\\n<div><span>HUF 15,990</span></div>\\n</td>\\n</tr>\\n<tr>\\n<td width=\"70%\" align=\"left\">\\n<div><span><a href=\"http://www.bkk.hu/en/budapest-card-for-120-hours/\">Budapest Card for 120 hours</a></span></div>\\n</td>\\n<td width=\"30%\" align=\"left\">\\n<div><span>HUF 18,990</span></div>\\n</td>\\n</tr>\\n<tr>\\n<td width=\"70%\" align=\"left\">\\n<div><span><a href=\"http://bkk.hu/en/budapest-card-for-juniors-for-72-hours/\">Budapest Card for Juniors for 72 hours</a></span></div>\\n</td>\\n<td width=\"30%\" align=\"left\">\\n<div><span>HUF 9,990</span></div>\\n</td>\\n</tr>\\n<tr>\\n<td colspan=\"100\">\\n<h3 id=\"szigetszentmiklos\">Tickets and passes valid in Szigetszentmikl\\xc3\\xb3s</h3>\\n</td>\\n</tr>\\n<tr>\\n<td colspan=\"2\">In the summer of 2014, the public transport network of the area was modified and at the same time a special tariff system was introduced. Please read detailed information <a href=\"http://www.bkk.hu/en/public-transport-services-in-szigetszentmiklos/\">here</a>.</td>\\n</tr>\\n<tr>\\n<td colspan=\"100\">\\n<h3 id=\"nosztalgia\">Heritage service tickets and passes</h3>\\n</td>\\n</tr>\\n<tr>\\n<td><a href=\"http://www.bkk.hu/en/prices/heritage-service-single-ticket/\">Heritage service single ticket</a></td>\\n<td width=\"90\">HUF 500</td>\\n</tr>\\n<tr>\\n<td><a href=\"http://www.bkk.hu/en/prices/heritage-service-single-ticket-for-children/\">Heritage service single ticket for children</a></td>\\n<td width=\"90\">HUF 300</td>\\n</tr>\\n<tr>\\n<td><a href=\"http://www.bkk.hu/en/prices/heritage-service-metropolitan-area-single-ticket/\">Heritage service metropolitan area single ticket</a></td>\\n<td width=\"90\">HUF 500</td>\\n</tr>\\n<tr>\\n<td><a href=\"http://www.bkk.hu/en/prices/heritage-service-metropolitan-area-single-ticket-for-children/\">Heritage service metropolitan area single ticket for children</a></td>\\n<td width=\"90\">HUF 300</td>\\n</tr>\\n<tr>\\n<td><a href=\"http://www.bkk.hu/en/prices/heritage-service-travelcard/\">Heritage service travelcard</a></td>\\n<td width=\"90\">HUF 2 000</td>\\n</tr>\\n<tr>\\n<td><a href=\"http://www.bkk.hu/en/prices/heritage-service-travelcard-for-children/\">Heritage service travelcard for children</a></td>\\n<td width=\"90\">HUF 1 200</td>\\n</tr>\\n<tr>\\n<td><a href=\"http://www.bkk.hu/en/prices/annual-heritage-service-pass/\">Annual heritage service pass</a></td>\\n<td width=\"90\">HUF 15 000</td>\\n</tr>\\n<tr>\\n<tr>\\n<td colspan=\"100\">\\n<h3>Monthly passes</h3>\\n</td>\\n</tr>\\n<tr>\\n<td width=\"70%\" align=\"left\">\\n<div><span><a href=\"http://www.bkk.hu/en/prices/budapest-pass-one-week-supplement/\">Budapest-pass 1-week supplement</a></span></div>\\n</td>\\n<td width=\"30%\" align=\"left\">\\n<div><span>HUF 2 450</span></div>\\n</td>\\n</tr>\\n<tr>\\n<td width=\"70%\" align=\"left\">\\n<div><span><a href=\"http://www.bkk.hu/en/prices/budapest-pass-1-week-supplement-business/\">Budapest-pass 1-week supplement (business)</a></span></div>\\n</td>\\n<td width=\"30%\" align=\"left\">\\n<div><span>HUF 2 700</span></div>\\n</td>\\n</tr>\\n<tr>\\n<td width=\"70%\" align=\"left\">\\n<div><span><a href=\"http://www.bkk.hu/en/14-day-budapest-pass/\">15-day Budapest-pass</a></span></div>\\n</td>\\n<td width=\"30%\" align=\"left\">\\n<div><span>HUF 6 300</span></div>\\n</td>\\n</tr>\\n<tr>\\n<td width=\"70%\" align=\"left\">\\n<div><span><a href=\"http://www.bkk.hu/en/tickets-and-passes/prices/15-day-budapest-pass-business/\">15-day Budapest-pass (business)</a></span></div>\\n</td>\\n<td width=\"30%\" align=\"left\">\\n<div><span>HUF 7 000</span></div>\\n</td>\\n</tr>\\n<tr>\\n<td width=\"70%\" align=\"left\">\\n<div><span><a href=\"http://www.bkk.hu/en/tickets-and-passes/prices/15-day-budapest-pass-for-pupils/\">15-day Budapest-pass for pupils</a></span></div>\\n</td>\\n<td width=\"30%\" align=\"left\">\\n<div><span>HUF 2 300</span></div>\\n</td>\\n</tr>\\n<tr>\\n<td width=\"70%\" align=\"left\">\\n<div><span><a href=\"http://www.bkk.hu/en/tickets-and-passes/prices/monthly-budapest-pass/\">Monthly Budapest-pass</a></span></div>\\n</td>\\n<td width=\"30%\" align=\"left\">\\n<div><span>HUF 9 500</span></div>\\n</td>\\n</tr>\\n<tr>\\n<td width=\"70%\" align=\"left\">\\n<div><span><a href=\"http://www.bkk.hu/en/tickets-and-passes/prices/monthly-budapest-pass-business/\">Monthly Budapest-pass (business)</a></span></div>\\n</td>\\n<td width=\"30%\" align=\"left\">\\n<div><span>HUF 10 500</span></div>\\n</td>\\n</tr>\\n<tr>\\n<td width=\"70%\" align=\"left\">\\n<div><span><a href=\"http://www.bkk.hu/en/prices/monthly-budapest-pass-for-pupilstudents/\">Monthly Budapest-pass for pupils</a></span></div>\\n</td>\\n<td width=\"30%\" align=\"left\">\\n<div><span>HUF 3 450</span></div>\\n</td>\\n</tr>\\n<tr>\\n<td width=\"70%\" align=\"left\">\\n<div><span><a href=\"http://www.bkk.hu/en/prices/monthly-budapest-pass-for-students-2/\">Monthly Budapest-pass for students</a></span></div>\\n</td>\\n<td width=\"30%\" align=\"left\">\\n<div><span>HUF 3 450</span></div>\\n</td>\\n</tr>\\n<tr>\\n<td width=\"70%\" align=\"left\">\\n<div><span><a href=\"http://www.bkk.hu/en/monthly-budapest-pass-for-pensioners/\">Monthly Budapest-pass for pensioners</a></span></div>\\n</td>\\n<td width=\"30%\" align=\"left\">\\n<div><span>HUF 3 330</span></div>\\n</td>\\n</tr>\\n<tr>\\n<td width=\"70%\" align=\"left\">\\n<div><span><a href=\"http://www.bkk.hu/en/monthly-budapest-pass-for-parents-with-small-children/\">Monthly Budapest-pass for parents with small children</a></span></div>\\n</td>\\n<td width=\"30%\" align=\"left\">\\n<div><span>HUF 3 450</span></div>\\n</td>\\n</tr>\\n<tr>\\n<td width=\"70%\" align=\"left\">\\n<div><span><a href=\"http://www.bkk.hu/en/tickets-and-passes/prices/transferable-monthly-budapest-pass/\">Transferable monthly Budapest-pass</a></span></div>\\n</td>\\n<td width=\"30%\" align=\"left\">\\n<div><span>HUF 4 125</span></div>\\n</td>\\n</tr>\\n<tr>\\n<td width=\"70%\" align=\"left\">\\n<div><span><a href=\"http://www.bkk.hu/en/prices/monthly-dog-pass/\">Monthly dog pass</a></span></div>\\n</td>\\n<td width=\"30%\" align=\"left\">\\n<div><span>HUF 5 250</span></div>\\n</td>\\n</tr>\\n<tr>\\n<td width=\"70%\" align=\"left\">\\n<div><span><a href=\"http://www.bkk.hu/en/prices/conurbation-pass-5-km/\">Metropolitan area pass (5 km)</a></span></div>\\n</td>\\n<td width=\"30%\" align=\"left\">\\n<div><span>HUF 5 940</span></div>\\n</td>\\n</tr>\\n<tr>\\n<td width=\"70%\" align=\"left\">\\n<div><span><a href=\"http://www.bkk.hu/en/conurbation-pass-10-km/\">Metropolitan area pass (10 km)</a></span></div>\\n</td>\\n<td width=\"30%\" align=\"left\">\\n<div><span>HUF 9 580</span></div>\\n</td>\\n</tr>\\n<tr>\\n<td width=\"70%\" align=\"left\">\\n<div><span><a href=\"http://www.bkk.hu/en/conurbation-pass-5-km-with-90-price-reduction/\">Metropolitan area pass (5 km) with 90% price reduction</a></span></div>\\n</td>\\n<td width=\"30%\" align=\"left\">\\n<div><span>HUF 595</span></div>\\n</td>\\n</tr>\\n<tr>\\n<td width=\"70%\" align=\"left\">\\n<div><span><a href=\"http://www.bkk.hu/en/conurbation-pass-10-km-with-90-price-reduction/\">Metropolitan area pass (10km) with 90% price reduction</a></span></div>\\n</td>\\n<td width=\"30%\" align=\"left\">\\n<div><span>HUF 960</span></div>\\n</td>\\n</tr>\\n<tr>\\n<td width=\"70%\" align=\"left\">\\n<div><span><a href=\"http://www.bkk.hu/en/conurbation-local-pass/\">Metropolitan area local pass</a></span></div>\\n</td>\\n<td width=\"30%\" align=\"left\">\\n<div><span>HUF 5 200</span></div>\\n</td>\\n</tr>\\n<tr>\\n<td width=\"70%\" align=\"left\">\\n<div><span><a href=\"http://www.bkk.hu/en/conurbation-local-pass-for-students/\">Metropolitan area local pass for students</a></span></div>\\n</td>\\n<td width=\"30%\" align=\"left\">\\n<div><span>HUF 2 600</span></div>\\n</td>\\n</tr>\\n<tr>\\n<td width=\"70%\" align=\"left\">\\n<div><span><a href=\"http://www.bkk.hu/en/conurbation-local-pass-for-pensioners/\">Metropolitan area local pass for pensioners</a></span></div>\\n</td>\\n<td width=\"30%\" align=\"left\">\\n<div><span>HUF 2 600</span></div>\\n</td>\\n</tr>\\n<tr>\\n<td colspan=\"2\"><a href=\"http://www.bkk.hu/en/prices/hev-suburban-railway-passes-5-10-15-20-25-30-km/\">Suburban railway pass (5, 10, 15, 20, 25, 30 km)</a></td>\\n</tr>\\n<tr>\\n<td width=\"70%\" align=\"right\">5 km<br />10 km<br />15 km<br />20 km<br />25 km<br />30 km</td>\\n<td width=\"30%\" align=\"left\">HUF 5 940<br />HUF 9 580<br />HUF 11 900<br />HUF 14 200<br />HUF 17 800<br />HUF 21 400</td>\\n</tr>\\n<tr>\\n<td colspan=\"2\"><a href=\"http://www.bkk.hu/en/prices/hev-suburban-railway-passes-with-90-price-reduction-5-10-15-20-25-30-km/\">Suburban railway pass with 90% price reduction</a></td>\\n</tr>\\n<tr>\\n<td width=\"70%\" align=\"right\">5 km<br />10 km<br />15 km<br />20 km<br />25 km<br />30 km</td>\\n<td width=\"30%\" align=\"left\">HUF 595<br />HUF 960<br />HUF 1 190<br />HUF 1 420<br />HUF 1 780<br />HUF 2 140</td>\\n</tr>\\n<tr>\\n<td width=\"70%\" align=\"left\">\\n<div><span><a href=\"http://www.bkk.hu/en/bicycle-pass/\">Bicycle pass</a></span></div>\\n</td>\\n<td width=\"30%\" align=\"left\">\\n<div><span>HUF 540</span></div>\\n</td>\\n</tr>\\n<tr>\\n<td colspan=\"100\">\\n<h3>Quarterly passes</h3>\\n</td>\\n</tr>\\n<tr>\\n<td width=\"70%\" align=\"left\">\\n<div><span><a href=\"http://www.bkk.hu/en/prices/quarterly-budapest-pass/\">Quarterly Budapest-pass</a></span></div>\\n</td>\\n<td width=\"30%\" align=\"left\">\\n<div><span>HUF 28 500</span></div>\\n</td>\\n</tr>\\n<tr>\\n<td width=\"70%\" align=\"left\">\\n<div><span><a href=\"http://www.bkk.hu/en/tickets-and-passes/prices/quarterly-budapest-pass-business/\">Quarterly Budapest-pass (business)</a></span></div>\\n</td>\\n<td width=\"30%\" align=\"left\">\\n<div><span>HUF 31 500</span></div>\\n</td>\\n</tr>\\n<tr>\\n<td width=\"70%\" align=\"left\">\\n<div><span><a href=\"http://www.bkk.hu/en/prices/quarterly-budapest-pass-for-pupils/\">Quarterly Budapest-pass for pupils</a></span></div>\\n</td>\\n<td width=\"30%\" align=\"left\">\\n<div><span>HUF 10 350</span></div>\\n</td>\\n</tr>\\n<tr>\\n<td width=\"70%\" align=\"left\">\\n<div><span><a href=\"http://www.bkk.hu/en/prices/18672-2/\">Quarterly Budapest-pass for students</a></span></div>\\n</td>\\n<td width=\"30%\" align=\"left\">\\n<div><span>HUF 10 350</span></div>\\n</td>\\n</tr>\\n<tr>\\n<td width=\"70%\" align=\"left\">\\n<div><span><a href=\"http://www.bkk.hu/en/prices/quarterly-budapest-pass-for-pensioners/\">Quarterly Budapest-pass for pensioners</a></span></div>\\n</td>\\n<td width=\"30%\" align=\"left\">\\n<div><span>HUF 9 990</span></div>\\n</td>\\n</tr>\\n<tr>\\n<td colspan=\"100\">\\n<h3>Semester passes</h3>\\n</td>\\n</tr>\\n<tr>\\n<td width=\"70%\" align=\"left\">\\n<div><span><a href=\"http://www.bkk.hu/en/prices/semester-pass/\">Semester pass for pupils</a></span></div>\\n</td>\\n<td width=\"30%\" align=\"left\">\\n<div><span>HUF 16 200</span></div>\\n</td>\\n</tr>\\n<tr>\\n<td width=\"70%\" align=\"left\">\\n<div><span><a href=\"http://www.bkk.hu/en/semester-budapest-pass-for-students\">Semester pass for students</a></span></div>\\n</td>\\n<td width=\"30%\" align=\"left\">\\n<div><span>HUF 16 200</span></div>\\n</td>\\n</tr>\\n<tr>\\n<td colspan=\"100\">\\n<h3>Annual Passes</h3>\\n</td>\\n</tr>\\n<tr>\\n<td width=\"70%\" align=\"left\">\\n<div><span><a href=\"http://www.bkk.hu/en/annual-all-line-budapest-pass/\">Annual all-line Budapest-pass</a></span></div>\\n</td>\\n<td width=\"30%\" align=\"left\">\\n<div><span>HUF 217 960</span></div>\\n</td>\\n</tr>\\n<tr>\\n<td width=\"70%\" align=\"left\">\\n<div><span><a href=\"http://www.bkk.hu/en/tickets-and-passes/prices/annual-all-line-budapest-pass-business/\">Annual all-line Budapest-pass (business)</a></span></div>\\n</td>\\n<td width=\"30%\" align=\"left\">\\n<div><span>HUF 219 860</span></div>\\n</td>\\n</tr>\\n<tr>\\n<td width=\"70%\" align=\"left\">\\n<div><span><a href=\"http://www.bkk.hu/en/transferable-annual-budapest-pass/\">Transferable annual Budapest-pass</a></span></div>\\n</td>\\n<td width=\"30%\" align=\"left\">\\n<div><span>HUF 189 000</span></div>\\n</td>\\n</tr>\\n<tr>\\n<td width=\"70%\" align=\"left\">\\n<div><span><a href=\"http://www.bkk.hu/en/annual-budapest-pass/\">Annual Budapest-pass</a> (monthly price)</span></div>\\n</td>\\n<td width=\"30%\" align=\"left\">\\n<div><span>HUF 9 500/month</span></div>\\n</td>\\n</tr>\\n<tr>\\n<td width=\"70%\" align=\"left\">\\n<div><span><a href=\"http://bkk.hu/en/tickets-and-passes/prices/annual-budapest-pass-business/\">Annual Budapest-pass (business)</a> (monthly price)</span></div>\\n</td>\\n<td width=\"30%\" align=\"left\">\\n<div><span>HUF 10 500/month</span></div>\\n</td>\\n</tr>\\n<tr>\\n<td width=\"70%\" align=\"left\">\\n<div><span><a href=\"http://www.bkk.hu/en/discounted-annual-budapest-pass/\">Discounted annual BP-pass</a></span></div>\\n</td>\\n<td width=\"30%\" align=\"left\">\\n<div><span>HUF 103 000</span></div>\\n</td>\\n</tr>\\n<tr>\\n<td width=\"70%\" align=\"left\">\\n<div><span><a href=\"http://www.bkk.hu/en/discounted-annual-budapest-pass-business/\">Discounted annual BP-pass (business)</a></span></div>\\n</td>\\n<td width=\"30%\" align=\"left\">\\n<div><span>HUF 114 600</span></div>\\n</td>\\n</tr>\\n<tr>\\n<td width=\"70%\" align=\"left\">\\n<div><span><a href=\"http://www.bkk.hu/en/discounted-annual-budapest-pass-for-pupils/\">Discounted annual BP-pass for pupils</a></span></div>\\n</td>\\n<td width=\"30%\" align=\"left\">\\n<div><span>HUF 37 800</span></div>\\n</td>\\n</tr>\\n<tr>\\n<td width=\"70%\" align=\"left\">\\n<div><span><a href=\"http://www.bkk.hu/en/discounted-annual-bp-pass-for-students/\">Discounted annual BP-pass for students</a></span></div>\\n</td>\\n<td width=\"30%\" align=\"left\">\\n<div><span>HUF 37 800</span></div>\\n</td>\\n</tr>\\n<tr>\\n<td width=\"70%\" align=\"left\">\\n<div><span><a href=\"http://www.bkk.hu/en/discounted-annual-budapest-pass-for-pensioners/\">Discounted annual BP-pass for pensioners</a></span></div>\\n</td>\\n<td width=\"30%\" align=\"left\">\\n<div><span>HUF 36 600</span></div>\\n</td>\\n</tr>\\n<tr>\\n<td width=\"70%\" align=\"left\">\\n<div><span><a href=\"http://www.bkk.hu/en/discounted-annual-budapest-and-mol-bubi-pass-business/\">Discounted annual Budapest- and MOL Bubi pass (business)</a></span></div>\\n</td>\\n<td width=\"30%\" align=\"left\">\\n<div><span>HUF 120 600</span></div>\\n</td>\\n</tr>\\n<tr>\\n<td colspan=\"100\">\\n<h3>Ferry tickets</h3>\\n</td>\\n</tr>\\n<tr>\\n<td width=\"70%\" align=\"left\">\\n<div><span><a href=\"http://www.bkk.hu/en/prices/full-fare-ferry-ticket/\">Full-fare ferry ticket</a></span></div>\\n</td>\\n<td width=\"30%\" align=\"left\">\\n<div><span>HUF 170</span></div>\\n</td>\\n</tr>\\n<tr>\\n<td width=\"70%\" align=\"left\">\\n<div><span><a href=\"http://www.bkk.hu/en/prices/pupil-ferry-ticket-under-15/\">Pupil ferry ticket (under 15)</a></span></div>\\n</td>\\n<td width=\"30%\" align=\"left\">\\n<div><span>HUF 110</span></div>\\n</td>\\n</tr>\\n<tr>\\n<td width=\"70%\" align=\"left\">\\n<div><span><a href=\"http://www.bkk.hu/en/prices/pensioner-ferry-ticket/\">Pensioner ferry ticket</a></span></div>\\n</td>\\n<td width=\"30%\" align=\"left\">\\n<div><span>HUF 110</span></div>\\n</td>\\n</tr>\\n<tr>\\n<td width=\"70%\" align=\"left\">\\n<div><span><a href=\"http://www.bkk.hu/en/prices/ferry-ticket-for-standard-vehicle-vehicle-only/\">Ferry ticket for standard vehicle (vehicle only)</a></span></div>\\n</td>\\n<td width=\"30%\" align=\"left\">\\n<div><span>HUF 420</span></div>\\n</td>\\n</tr>\\n<tr>\\n<td width=\"70%\" align=\"left\">\\n<div><span><a href=\"http://www.bkk.hu/en/prices/ferry-ticket-for-lorries-up-to-3-5-tons/\">Ferry ticket for lorries (up to 3.5 tons)</a></span></div>\\n</td>\\n<td width=\"30%\" align=\"left\">\\n<div><span>HUF 1 050</span></div>\\n</td>\\n</tr>\\n<tr>\\n<td width=\"70%\" align=\"left\">\\n<div><span><a href=\"http://www.bkk.hu/en/prices/ferry-ticket-for-lorries-above-3-5-tons/\">Ferry ticket for lorries (above 3.5 tons)</a></span></div>\\n</td>\\n<td width=\"30%\" align=\"left\">\\n<div><span>HUF 1 750</span></div>\\n</td>\\n</tr>\\n<tr>\\n<td width=\"70%\" align=\"left\">\\n<div><span><a href=\"http://www.bkk.hu/en/prices/ferry-ticket-for-bicycle-vehicle-only/\">Ferry ticket for bicycle (vehicle only)</a></span></div>\\n</td>\\n<td width=\"30%\" align=\"left\">\\n<div><span>HUF 170</span></div>\\n</td>\\n</tr>\\n<tr>\\n<td width=\"70%\" align=\"left\">\\n<div><span><a href=\"http://www.bkk.hu/en/prices/ferry-ticket-for-motorcycle-vehicle-only/\">Ferry ticket for motorcycle (vehicle only)</a></span></div>\\n</td>\\n<td width=\"30%\" align=\"left\">\\n<div><span>HUF 290</span></div>\\n</td>\\n</tr>\\n<tr>\\n<td width=\"70%\" align=\"left\">\\n<div><span></span></div>\\n</td>\\n<td width=\"30%\" align=\"left\">\\n<div><span></span></div>\\n</td>\\n</tr>\\n<tr>\\n<td colspan=\"100\">\\n<h3>Penalty fares</h3>\\n</td>\\n</tr>\\n<tr>\\n<td width=\"70%\" align=\"left\">\\n<div><span>Amount of penalty fare</span></div>\\n</td>\\n<td width=\"30%\" align=\"left\">\\n<div><span>HUF 16 000</span></div>\\n</td>\\n</tr>\\n<tr>\\n<td width=\"70%\" align=\"left\">\\n<div><span>Penalty fare paid on the spot</span></div>\\n</td>\\n<td width=\"30%\" align=\"left\">\\n<div><span>HUF 8 000</span></div>\\n</td>\\n</tr>\\n<tr>\\n<td width=\"70%\" align=\"left\">\\n<div><span>Late payment fee</span></div>\\n</td>\\n<td width=\"30%\" align=\"left\">\\n<div><span>HUF 16 000</span></div>\\n</td>\\n</tr>\\n<tr>\\n<td width=\"70%\" align=\"left\">\\n<div><span>Administration fee for payment over 30 days</span></div>\\n</td>\\n<td width=\"30%\" align=\"left\">\\n<div><span>HUF 500</span></div>\\n</td>\\n</tr>\\n<tr>\\n<td width=\"70%\" align=\"left\">\\n<div><span>Administration fee for later presentation of annual, semester and quarterly passes </span></div>\\n</td>\\n<td width=\"30%\" align=\"left\">\\n<div><span>HUF 1 000</span></div>\\n</td>\\n</tr>\\n<tr>\\n<td width=\"70%\" align=\"left\">\\n<div><span>Administration fee for later presentation of all other types of passes</span></div>\\n</td>\\n<td width=\"30%\" align=\"left\">\\n<div><span>HUF 2 000</span></div>\\n</td>\\n</tr>\\n<tr>\\n<td colspan=\"100\">\\n<h3>Further fees and prices </h3>\\n</td>\\n</tr>\\n<tr>\\n<td width=\"70%\" align=\"left\">\\n<div><span>Handling fee</span></div>\\n</td>\\n<td width=\"30%\" align=\"left\">\\n<div><span>HUF 250</span></div>\\n</td>\\n</tr>\\n<tr>\\n<td width=\"70%\" align=\"left\">\\n<div><span>Handling fee for discounted annual passes</span></div>\\n</td>\\n<td width=\"30%\" align=\"left\">\\n<div><span>HUF 500</span></div>\\n</td>\\n</tr>\\n<tr>\\n<td width=\"70%\" align=\"left\">\\n<div><span><a href=\"http://www.bkk.hu/en/general-pass-id/\">General pass ID</a></span></div>\\n</td>\\n<td width=\"30%\" align=\"left\">\\n<div><span>HUF 250</span></div>\\n</td>\\n</tr>\\n<tr>\\n<td width=\"70%\" align=\"left\">\\n<div><span><a href=\"http://www.bkk.hu/en/pass-id-for-pensioners/\">Pass ID for pensioners</a></span></div>\\n</td>\\n<td width=\"30%\" align=\"left\">\\n<div><span>HUF 250</span></div>\\n</td>\\n</tr>\\n<tr>\\n<td width=\"70%\" align=\"left\">\\n<div><span><a href=\"http://www.bkk.hu/en/pass-id-for-parents-with-small-children/\">Pass ID for parents with small children</a></span></div>\\n</td>\\n<td width=\"30%\" align=\"left\">\\n<div><span>HUF 250</span></div>\\n</td>\\n</tr>\\n<tr>\\n<td width=\"70%\" align=\"left\">\\n<div><span><a href=\"http://www.bkk.hu/wp-content/uploads/2012/12/B%C3%A9rlettok-r%C3%A9gi-%C3%A1tl%C3%A1tsz%C3%B3.png\">Old pass holder \\xe2\\x80\\x93 transparent plastic</a></span></div>\\n</td>\\n<td width=\"30%\" align=\"left\">\\n<div><span>HUF 35</span></div>\\n</td>\\n</tr>\\n<tr>\\n<td width=\"70%\" align=\"left\">\\n<div><span>Pass holder</span></div>\\n</td>\\n<td width=\"30%\" align=\"left\">\\n<div><span>HUF 55</span></div>\\n</td>\\n</tr>\\n</tbody>\\n</table>\\n\\t\\t\\t\\t\\t\\t\\t\\t\\t\\t\\t\\t\\t\\t\\t\\t\\t\\t\\t\\t\\t\\t\\t</div><!-- .entry-content -->\\n\\t\\t\\t\\t</div><!-- #post-## -->\\n\\n\\t\\t\\t\\t\\n\\t\\t\\t<div id=\"comments\">\\n\\n\\n\\t<p class=\"nocomments\">Comments are closed.</p>\\n\\n\\n\\n</div><!-- #comments -->\\n\\n\\t\\t\\t</div><!-- #content -->\\n\\t\\t</div><!-- #container -->\\n\\n\\n<script type=\"text/javascript\">//<![CDATA[\\nhomelinkblur = function() {\\n\\tvar h = document.getElementById(\\'homelink\\');\\n\\th.focus(function() {\\n\\t\\th.blur();\\n\\t});\\n};\\nmakeDoubleDelegate = function (f1, f2) {return function() {if (f1)f1();if (f2)f2();}}\\n\\nwindow.onload = makeDoubleDelegate(window.onload, homelinkblur );\\n\\n//]]></script>\\t</div><!-- #main -->\\n\\n\\t<div id=\"footer\" role=\"contentinfo\">\\n\\t\\t<div id=\"colophon\">\\n\\n\\n\\n\\t\\t\\t<div id=\"footer-widget-area\" role=\"complementary\">\\n\\n\\t\\t\\t\\t<div id=\"first\" class=\"widget-area\">\\n\\t\\t\\t\\t\\t<ul class=\"xoxo\">\\n\\t\\t\\t\\t\\t\\t\\t\\t\\t<div id=\"Footer_BKK_Logo_Widget\"><a href=\"//bkk.hu\" target=\"_blank\" title=\"BKK portal\"><img alt=\"BKK portal\" src=\"https://bkk.hu/wp-content/themes/bkk/images/BKK_logo.gif\"/></a></div>\\t\\t\\t\\t\\t<div id=\"Footer_BP_Logo_Widget\"><a href=\"//budapest.hu\" target=\"_blank\" title=\"Budapest portal\"><img alt=\"Budapest portal\" src=\"https://bkk.hu/wp-content/themes/bkk/images/budapest_logo.gif\"/></a></div>\\t\\t\\t\\t\\t<div id=\"Footer_Links_Widget\"><a href=\"https://bkk.hu/en/main-page/bkk-in-brief/\" title=\"BKK in brief\">BKK in brief</a><a href=\"https://bkk.hu/en/main-page/our-progress/\" title=\"Our progress\">Our progress</a><a href=\"https://bkk.hu/en/main-page/tasks-responsibilities/\" title=\"Tasks &#038; Responsibilities\">Tasks &#038; Responsibilities</a><a href=\"https://bkk.hu/en/news/\" title=\"News\">News</a><a href=\"https://bkk.hu/en/main-page/board-members/\" title=\"Board Members\">Board Members</a><a href=\"https://bkk.hu/en/main-page/supervisory-board/\" title=\"Supervisory Board\">Supervisory Board</a><a href=\"https://bkk.hu/en/main-page/contact/\" title=\"Contact\">Contact</a><a href=\"https://bkk.hu/en/design/\" title=\"Design and signage\">Design and signage</a><a href=\"http://bkk.hu/m3felujitas/\" title=\"M3 fel\\xc3\\xbaj\\xc3\\xadt\\xc3\\xa1s\">M3 fel\\xc3\\xbaj\\xc3\\xadt\\xc3\\xa1s</a><a href=\"http://futar.bkk.hu\" title=\"Utaz\\xc3\\xa1stervez\\xc5\\x91\">Utaz\\xc3\\xa1stervez\\xc5\\x91</a><a href=\"http://bkk.hu/menetrendek\" title=\"Menetrendek\">Menetrendek</a><a href=\"https://bkk.hu/tomegkozlekedes/jegyek-es-berletek/\" title=\"Jegyek \\xc3\\xa9s b\\xc3\\xa9rletek\">Jegyek \\xc3\\xa9s b\\xc3\\xa9rletek</a><a href=\"https://bkk.hu/tomegkozlekedes/jegyek-es-berletek/potdij/\" title=\"Mindent a p\\xc3\\xb3td\\xc3\\xadjr\\xc3\\xb3l\">Mindent a p\\xc3\\xb3td\\xc3\\xadjr\\xc3\\xb3l</a><a href=\"http://bkk.hu/pontkereso\" title=\"\\xc3\\x89rt\\xc3\\xa9kes\\xc3\\xadt\\xc3\\xa9si pontok\">\\xc3\\x89rt\\xc3\\xa9kes\\xc3\\xadt\\xc3\\xa9si pontok</a><a href=\"https://bkk.hu/tomegkozlekedes/tarsadalmi-egyeztetes/\" title=\"T\\xc3\\xa1rsadalmi egyeztet\\xc3\\xa9s\">T\\xc3\\xa1rsadalmi egyeztet\\xc3\\xa9s</a><a href=\"https://bkk.hu/terkepek/\" title=\"T\\xc3\\xa9rk\\xc3\\xa9pek\">T\\xc3\\xa9rk\\xc3\\xa9pek</a><a href=\"https://bkk.hu/tomegkozlekedes/fejlesztoknek/\" title=\"Fejleszt\\xc5\\x91knek\">Fejleszt\\xc5\\x91knek</a><a href=\"http://www.bkk.hu/tervezoknek/\" title=\"Tervez\\xc5\\x91knek\">Tervez\\xc5\\x91knek</a><a href=\"https://bkk.hu/tomegkozlekedes/utazasi-informaciok/\" title=\"Utaz\\xc3\\xa1si inform\\xc3\\xa1ci\\xc3\\xb3k\">Utaz\\xc3\\xa1si inform\\xc3\\xa1ci\\xc3\\xb3k</a><a href=\"http://www.bkk.hu/akadalymentes/\" title=\"Akad\\xc3\\xa1lymentesen\">Akad\\xc3\\xa1lymentesen</a><a href=\"https://bkk.hu/elsoajtos-felszallasi-rend-a-bkk-jaratain/\" title=\"Els\\xc5\\x91ajt\\xc3\\xb3s felsz\\xc3\\xa1ll\\xc3\\xa1s\">Els\\xc5\\x91ajt\\xc3\\xb3s felsz\\xc3\\xa1ll\\xc3\\xa1s</a><a href=\"http://bkk.hu/ejszakai/\" title=\"\\xc3\\x89jszakai j\\xc3\\xa1ratok\">\\xc3\\x89jszakai j\\xc3\\xa1ratok</a><a href=\"http://www.bkk.hu/tomegkozlekedes/utazasi-informaciok/kerekpar-szallitasa-a-bkk-jaratain/\" title=\"Ker\\xc3\\xa9kp\\xc3\\xa1r sz\\xc3\\xa1ll\\xc3\\xadt\\xc3\\xa1sa\">Ker\\xc3\\xa9kp\\xc3\\xa1r sz\\xc3\\xa1ll\\xc3\\xadt\\xc3\\xa1sa</a><a href=\"http://bkk.hu/automata\" title=\"BKK-automata\">BKK-automata</a><a href=\"https://bkk.hu/repuloterbusz/\" title=\"Rep\\xc3\\xbcl\\xc5\\x91t\\xc3\\xa9ri busz\">Rep\\xc3\\xbcl\\xc5\\x91t\\xc3\\xa9ri busz</a><a href=\"http://www.bkk.hu/bkk_info/\" title=\"K\\xc3\\xb6z\\xc3\\xb6ss\\xc3\\xa9gi k\\xc3\\xb6zleked\\xc3\\xa9s\">K\\xc3\\xb6z\\xc3\\xb6ss\\xc3\\xa9gi k\\xc3\\xb6zleked\\xc3\\xa9s</a><a href=\"http://kozut.bkkinfo.hu/\" onclick=\"__gaTracker(\\'send\\', \\'event\\', \\'outbound-widget\\', \\'http://kozut.bkkinfo.hu/\\', \\'K\\xc3\\xb6z\\xc3\\xbati k\\xc3\\xb6zleked\\xc3\\xa9s\\');\" title=\"K\\xc3\\xb6z\\xc3\\xbati k\\xc3\\xb6zleked\\xc3\\xa9s\">K\\xc3\\xb6z\\xc3\\xbati k\\xc3\\xb6zleked\\xc3\\xa9s</a><a href=\"http://molbubi.bkk.hu\" title=\"MOL Bubi\">MOL Bubi</a><a href=\"http://www.bkk.hu/nosztalgia/?l=hu\" title=\"Nosztalgiaj\\xc3\\xa1ratok\">Nosztalgiaj\\xc3\\xa1ratok</a><a href=\"http://www.bkk.hu/kotottpalyas/\" title=\"VILLAMOST!\">VILLAMOST!</a><a href=\"http://www.bkk.hu/fovarosi-fejlesztesek/\" title=\"Fejleszt\\xc3\\xa9sek\">Fejleszt\\xc3\\xa9sek</a><a href=\"http://www.bkk-kozut.hu/\" onclick=\"__gaTracker(\\'send\\', \\'event\\', \\'outbound-widget\\', \\'http://www.bkk-kozut.hu/\\', \\'Budapest K\\xc3\\xb6z\\xc3\\xbat\\');\" title=\"Budapest K\\xc3\\xb6z\\xc3\\xbat\">Budapest K\\xc3\\xb6z\\xc3\\xbat</a><a href=\"http://www.budapestkozut.hu/web/guest/parkolas\" onclick=\"__gaTracker(\\'send\\', \\'event\\', \\'outbound-widget\\', \\'http://www.budapestkozut.hu/web/guest/parkolas\\', \\'Parkol\\xc3\\xa1s\\');\" title=\"Parkol\\xc3\\xa1s\">Parkol\\xc3\\xa1s</a><a href=\"http://www.budapestkozut.hu/web/guest/teherforgalom\" onclick=\"__gaTracker(\\'send\\', \\'event\\', \\'outbound-widget\\', \\'http://www.budapestkozut.hu/web/guest/teherforgalom\\', \\'Teherforgalom\\');\" title=\"Teherforgalom\">Teherforgalom</a><a href=\"http://bkk.hu/taxisoknak/\" title=\"Taxi\">Taxi</a><a href=\"https://bkk.hu/adatkezelesi-tajekoztatok/\" title=\"Adatv\\xc3\\xa9delem\">Adatv\\xc3\\xa9delem</a><a href=\"https://bkk.hu/en/legal-notice/\" title=\"Legal notice\">Legal notice</a></div>\\t\\t\\t\\t\\t\\t\\t</ul>\\n\\t\\t\\t\\t</div><!-- #first .widget-area -->\\n\\n\\n\\n\\n\\t\\t\\t</div><!-- #footer-widget-area -->\\n\\t\\t\\t<div class=\"footerBlock\">\\n\\t\\t\\t\\t<div id=\"site-info\">\\t\\t\\t\\t\\tBKK Centre for  Budapest Transport,<br />\\r\\n\\t\\t\\t\\t\\t<span>Corporate register no.</span>: 01-10-046840<br />\\r\\n\\t\\t\\t\\t\\t<span>address</span>: \\r\\n19-21 Rumbach Sebesty\\xc3\\xa9n street, Budapest, Hungary, H-1075\\r\\n\\t\\t\\t\\t</div><!-- #site-info -->\\n\\n\\t\\t\\t\\t<div id=\"footerLinks\">\\n\\t\\t\\t\\t\\t\\t\\t\\t\\t\\t\\t\\t\\t\\t\\t<span>fax:</span> +36 30 774 1001<br />\\r\\n\\t\\t\\t\\t\\t<span>e-mail:</span> bkk@bkk.hu<br />\\t\\t\\t\\t\\t<a href=\"https://bkk.hu/en/\" title=\"Budapesti K\\xc3\\xb6zleked\\xc3\\xa9si K\\xc3\\xb6zpont\" rel=\"home\">\\n\\t\\t\\t\\t\\t\\t&copy; 2011-2018 BKK\\t\\t\\t\\t\\t</a>\\n\\t\\t\\t\\t</div>\\n\\t\\t\\t</div>\\n\\n\\t\\t</div><!-- #colophon -->\\n\\t</div><!-- #footer -->\\n\\n</div><!-- #wrapper -->\\n\\n\\n<!-- Highlight Search Terms 1.4 ( RavanH - https://status301.net/wordpress-plugins/highlight-search-terms/ ) -->\\n<script type=\"text/javascript\">\\nvar hlst_query = new Array(\"\");\\nvar hlst_areas = new Array(\"#groups-dir-list\",\"#members-dir-list\",\"li.bbp-body\",\"article\",\"div.hentry\",\"div.post\",\"#content\",\"#main\",\"div.content\",\"#middle\",\"#container\",\"div.container\",\"div.page\",\"#wrapper\",\"body\");\\n</script>\\n<div id=\"fb-root\"></div><script>(function(d, s, id) {\\n  var js, fjs = d.getElementsByTagName(s)[0];\\n  if (d.getElementById(id)) return;\\n  js = d.createElement(s); js.id = id;\\n  js.src = \"//connect.facebook.net/hu_HU/all.js#xfbml=1\";\\n  fjs.parentNode.insertBefore(js, fjs);\\n}(document, \\'script\\', \\'facebook-jssdk\\'));</script><script type=\\'text/javascript\\' src=\\'https://bkk.hu/wp-content/plugins/contact-form-7/includes/js/jquery.form.min.js?ver=3.51.0-2014.06.20\\'></script>\\n<script type=\\'text/javascript\\'>\\n/* <![CDATA[ */\\nvar _wpcf7 = {\"loaderUrl\":\"https:\\\\/\\\\/bkk.hu\\\\/wp-content\\\\/plugins\\\\/contact-form-7\\\\/images\\\\/ajax-loader.gif\",\"recaptchaEmpty\":\"Please verify that you are not a robot.\",\"sending\":\"Sending ...\",\"cached\":\"1\"};\\n/* ]]> */\\n</script>\\n<script type=\\'text/javascript\\' src=\\'https://bkk.hu/wp-content/plugins/contact-form-7/includes/js/scripts.js?ver=4.4.2\\'></script>\\n<script type=\\'text/javascript\\' src=\\'https://bkk.hu/wp-content/plugins/highlight-search-terms/hlst-extend.min.js?ver=1.4\\'></script>\\n<script type=\\'text/javascript\\'>\\n/* <![CDATA[ */\\nvar emailL10n = {\"ajax_url\":\"https:\\\\/\\\\/bkk.hu\\\\/wp-admin\\\\/admin-ajax.php\",\"max_allowed\":\"5\",\"text_error\":\"The Following Error Occurs:\",\"text_name_invalid\":\"- Your Name is empty\\\\/invalid\",\"text_email_invalid\":\"- Your Email is empty\\\\/invalid\",\"text_remarks_invalid\":\"- Your Remarks is invalid\",\"text_friend_names_empty\":\"- Friend Name(s) is empty\",\"text_friend_name_invalid\":\"- Friend Name is empty\\\\/invalid: \",\"text_max_friend_names_allowed\":\"- Maximum 5 Friend Names allowed\",\"text_friend_emails_empty\":\"- Friend Email(s) is empty\",\"text_friend_email_invalid\":\"- Friend Email is invalid: \",\"text_max_friend_emails_allowed\":\"- Maximum 5 Friend Emails allowed\",\"text_friends_tally\":\"- Friend Name(s) count does not tally with Friend Email(s) count\",\"text_image_verify_empty\":\"- Image Verification is empty\"};\\n/* ]]> */\\n</script>\\n<script type=\\'text/javascript\\' src=\\'https://bkk.hu/wp-content/plugins/wp-email/email-js.js?ver=2.67.2\\'></script>\\n<script type=\\'text/javascript\\' src=\\'https://bkk.hu/wp-includes/js/wp-embed.min.js?ver=4.7.11\\'></script>\\n</body>\\n</html>\\n\\n<!-- Dynamic page generated in 4.455 seconds. -->\\n<!-- Cached page generated by WP-Super-Cache on 2018-10-17 16:40:19 -->\\n\\n<!-- Compression = gzip -->'"
      ]
     },
     "execution_count": 55,
     "metadata": {
      "tags": []
     },
     "output_type": "execute_result"
    }
   ],
   "source": [
    "text"
   ]
  },
  {
   "cell_type": "code",
   "execution_count": null,
   "metadata": {
    "colab": {},
    "colab_type": "code",
    "id": "ZpSVzuY0FQij"
   },
   "outputs": [],
   "source": [
    "text = text.encode('utf8')"
   ]
  },
  {
   "cell_type": "markdown",
   "metadata": {
    "colab_type": "text",
    "id": "WVSYljbRFQin"
   },
   "source": [
    "Чтобы извлечь нужную информацию, нужно ориентироваться в html коде и как устроена страница в целом. Перед тем как начать, нужно посмотреть source code страницы, найти там через поиск интересующую нас информацию (в данном случае можем ориентироваться на цены на билеты). И посмотреть, есть ли какой-то набор тегов, с помощью которых мы можем отсечь нужные части строки."
   ]
  },
  {
   "cell_type": "code",
   "execution_count": null,
   "metadata": {
    "colab": {},
    "colab_type": "code",
    "id": "9o9B9BnuFQio"
   },
   "outputs": [],
   "source": [
    "splitted=text.split('<div><span>') # Как результат получаем список строк, которые были разбиты по строке '<div><span>'"
   ]
  },
  {
   "cell_type": "code",
   "execution_count": 57,
   "metadata": {
    "colab": {
     "base_uri": "https://localhost:8080/",
     "height": 35
    },
    "colab_type": "code",
    "id": "XzpYpjMnFQir",
    "outputId": "5df502ae-0871-41f9-af56-9378cd76b880"
   },
   "outputs": [
    {
     "data": {
      "text/plain": [
       "171"
      ]
     },
     "execution_count": 57,
     "metadata": {
      "tags": []
     },
     "output_type": "execute_result"
    }
   ],
   "source": [
    "len(splitted) # 171 таких строк"
   ]
  },
  {
   "cell_type": "markdown",
   "metadata": {
    "colab_type": "text",
    "id": "Or8ZE3btFQiv"
   },
   "source": [
    "Теперь смотрим, что внутри."
   ]
  },
  {
   "cell_type": "code",
   "execution_count": 58,
   "metadata": {
    "colab": {
     "base_uri": "https://localhost:8080/",
     "height": 35
    },
    "colab_type": "code",
    "id": "1z7LzXswFQiw",
    "outputId": "146129b8-2584-424c-f1a7-d81ef5e6e24a"
   },
   "outputs": [
    {
     "data": {
      "text/plain": [
       "'<a href=\"http://www.bkk.hu/en/prices/single-ticket/\">Single ticket</a></span></div>\\n</td>\\n<td width=\"30%\" align=\"left\">\\n'"
      ]
     },
     "execution_count": 58,
     "metadata": {
      "tags": []
     },
     "output_type": "execute_result"
    }
   ],
   "source": [
    "splitted[1]"
   ]
  },
  {
   "cell_type": "markdown",
   "metadata": {
    "colab_type": "text",
    "id": "tBtRCiYwFQi0"
   },
   "source": [
    "Этот элемент содержит название билета."
   ]
  },
  {
   "cell_type": "markdown",
   "metadata": {
    "colab_type": "text",
    "id": "5jZhNlD9VAlC"
   },
   "source": [
    "Идем дальше."
   ]
  },
  {
   "cell_type": "code",
   "execution_count": 59,
   "metadata": {
    "colab": {
     "base_uri": "https://localhost:8080/",
     "height": 35
    },
    "colab_type": "code",
    "id": "lhg3O8-CFQi1",
    "outputId": "568ea409-d59e-4eb4-c03b-f11c9a66f02c"
   },
   "outputs": [
    {
     "data": {
      "text/plain": [
       "'HUF 350</span></div>\\n</td>\\n</tr>\\n<tr>\\n<td width=\"70%\" align=\"left\">\\n'"
      ]
     },
     "execution_count": 59,
     "metadata": {
      "tags": []
     },
     "output_type": "execute_result"
    }
   ],
   "source": [
    "splitted[2]"
   ]
  },
  {
   "cell_type": "markdown",
   "metadata": {
    "colab_type": "text",
    "id": "GK5d-yaUFQi4"
   },
   "source": [
    "Цена билета здесь!\n",
    "\n",
    "Если нам повезло, то цена эта последовательность повторяется."
   ]
  },
  {
   "cell_type": "code",
   "execution_count": 60,
   "metadata": {
    "colab": {
     "base_uri": "https://localhost:8080/",
     "height": 55
    },
    "colab_type": "code",
    "id": "K5wQmkToFQi5",
    "outputId": "baf7dfe0-f9d9-45b4-d902-e08a46af8bfc"
   },
   "outputs": [
    {
     "data": {
      "text/plain": [
       "'<a href=\"http://www.bkk.hu/en/prices/single-ticket-bought-on-the-spot/\">Single ticket bought on the spot</a></span></div>\\n</td>\\n<td width=\"30%\" align=\"left\">\\n'"
      ]
     },
     "execution_count": 60,
     "metadata": {
      "tags": []
     },
     "output_type": "execute_result"
    }
   ],
   "source": [
    "splitted[3]"
   ]
  },
  {
   "cell_type": "code",
   "execution_count": 61,
   "metadata": {
    "colab": {
     "base_uri": "https://localhost:8080/",
     "height": 35
    },
    "colab_type": "code",
    "id": "Lnri5AezFQi8",
    "outputId": "d941f650-3717-4c49-8732-8ca8ec14617b"
   },
   "outputs": [
    {
     "data": {
      "text/plain": [
       "'HUF 450</span></div>\\n</td>\\n</tr>\\n<tr>\\n<td width=\"70%\" align=\"left\">\\n'"
      ]
     },
     "execution_count": 61,
     "metadata": {
      "tags": []
     },
     "output_type": "execute_result"
    }
   ],
   "source": [
    "splitted[4]"
   ]
  },
  {
   "cell_type": "markdown",
   "metadata": {
    "colab_type": "text",
    "id": "VJhuT06gFQi_"
   },
   "source": [
    "Похоже на правду. Поэтому мы можем попрбовать взять все наши строки и вытащить из них нужную информацию. Все нечетные элементы будут содержать название билета, и четные - цену. Так же нам нужно почистить эти строки.\n"
   ]
  },
  {
   "cell_type": "code",
   "execution_count": 64,
   "metadata": {
    "colab": {
     "base_uri": "https://localhost:8080/",
     "height": 35
    },
    "colab_type": "code",
    "id": "2U_gPFKMWIy8",
    "outputId": "50412cbf-0e56-4a46-e5c8-2a9ef5ab45c3"
   },
   "outputs": [
    {
     "data": {
      "text/plain": [
       "'<a href=\"http://www.bkk.hu/en/prices/single-ticket/\">Single ticket</a>'"
      ]
     },
     "execution_count": 64,
     "metadata": {
      "tags": []
     },
     "output_type": "execute_result"
    }
   ],
   "source": [
    "temp_substring=splitted[1].split('</span></div>')[0] ## Так мы разбиваем опять по новому разделителю и берем только первый элемент из списка.\n",
    "temp_substring"
   ]
  },
  {
   "cell_type": "code",
   "execution_count": 65,
   "metadata": {
    "colab": {
     "base_uri": "https://localhost:8080/",
     "height": 35
    },
    "colab_type": "code",
    "id": "d7lYAJKkFQjA",
    "outputId": "5d8f2445-5971-4855-86e8-8eea066e49a5"
   },
   "outputs": [
    {
     "data": {
      "text/plain": [
       "'Single ticket'"
      ]
     },
     "execution_count": 65,
     "metadata": {
      "tags": []
     },
     "output_type": "execute_result"
    }
   ],
   "source": [
    "temp_substring[temp_substring.find('>')+len('>'):temp_substring.rfind('<')] ## Так мы находим часть строки между символами > <"
   ]
  },
  {
   "cell_type": "markdown",
   "metadata": {
    "colab_type": "text",
    "id": "o1SPvajNFQjE"
   },
   "source": [
    "Отлично! Должно сработать со всеми строками, содержащими названиями. Теперь давайте посмотрим, что там с ценой."
   ]
  },
  {
   "cell_type": "code",
   "execution_count": 66,
   "metadata": {
    "colab": {
     "base_uri": "https://localhost:8080/",
     "height": 35
    },
    "colab_type": "code",
    "id": "iyz7M6g7FQjF",
    "outputId": "b5c00778-1b48-4420-cb65-f93cd0dd53cd"
   },
   "outputs": [
    {
     "data": {
      "text/plain": [
       "'HUF 350'"
      ]
     },
     "execution_count": 66,
     "metadata": {
      "tags": []
     },
     "output_type": "execute_result"
    }
   ],
   "source": [
    "temp_substring=splitted[2].split('</span></div>')\n",
    "temp_substring=temp_substring[0]\n",
    "temp_substring"
   ]
  },
  {
   "cell_type": "markdown",
   "metadata": {
    "colab_type": "text",
    "id": "ccT4jTTQdmvy"
   },
   "source": [
    "Теперь давайте создадим два списка - один со всеми названиями и второй с ценами."
   ]
  },
  {
   "cell_type": "code",
   "execution_count": 70,
   "metadata": {
    "colab": {
     "base_uri": "https://localhost:8080/",
     "height": 7687
    },
    "colab_type": "code",
    "id": "PAO9PexzFQjI",
    "outputId": "b079b3e5-0182-43f2-9411-4330f7e9aaa3"
   },
   "outputs": [
    {
     "name": "stdout",
     "output_type": "stream",
     "text": [
      "<a href=\"http://www.bkk.hu/en/prices/single-ticket/\">Single ticket</a></span></div>\n",
      "</td>\n",
      "<td width=\"30%\" align=\"left\">\n",
      "\n",
      "Single ticket\n",
      "<a href=\"http://www.bkk.hu/en/prices/single-ticket-bought-on-the-spot/\">Single ticket bought on the spot</a></span></div>\n",
      "</td>\n",
      "<td width=\"30%\" align=\"left\">\n",
      "\n",
      "Single ticket bought on the spot\n",
      "<a href=\"http://www.bkk.hu/en/block-of-10-tickets/\">Block of 10 tickets</a></span></div>\n",
      "</td>\n",
      "<td width=\"30%\" align=\"left\">\n",
      "\n",
      "Block of 10 tickets\n",
      "<a href=\"http://bkk.hu/en/airport-shuttle-bus-single-ticket/\">Airport shuttle bus single ticket </a>(100E)</span></div>\n",
      "</td>\n",
      "<td width=\"30%\" align=\"left\">\n",
      "\n",
      "Airport shuttle bus single ticket \n",
      "<a href=\"http://www.bkk.hu/en/prices/transfer-ticket-2/\">Transfer ticket</a></span></div>\n",
      "</td>\n",
      "<td width=\"30%\" align=\"left\">\n",
      "\n",
      "Transfer ticket\n",
      "<a href=\"http://www.bkk.hu/en/prices/short-section-metro-ticket/\">Short section metro ticket for up to 3 stops</a></span></div>\n",
      "</td>\n",
      "<td width=\"30%\" align=\"left\">\n",
      "\n",
      "Short section metro ticket for up to 3 stops\n",
      "<a href=\"http://www.bkk.hu/en/prices/single-ticket-for-public-transport-boat/\">Single ticket for public transport boat</a></span></div>\n",
      "</td>\n",
      "<td width=\"30%\" align=\"left\">\n",
      "\n",
      "Single ticket for public transport boat\n",
      "<a href=\"http://www.bkk.hu/en/prices/single-ticket-for-public-transport-boat-children-under-15/\">Single ticket for public transport boat Children (under 15)</a></span></div>\n",
      "</td>\n",
      "<td width=\"30%\" align=\"left\">\n",
      "\n",
      "Single ticket for public transport boat Children (under 15)\n",
      "<a href=\"http://www.bkk.hu/en/prices/metropolitan-are-single-ticket/\">Metropolitan area ticket</a></span></div>\n",
      "</td>\n",
      "<td width=\"30%\" align=\"left\">\n",
      "\n",
      "Metropolitan area ticket\n",
      "<a href=\"http://www.bkk.hu/en/prices/metropolitan-area-single-ticket-with-50-price-discount/\">Metropolitan area single ticket (50 % price discount)</a></span></div>\n",
      "</td>\n",
      "<td width=\"30%\" align=\"left\">\n",
      "\n",
      "Metropolitan area single ticket (50 % price discount)\n",
      "<a href=\"http://www.bkk.hu/en/prices/metropolitan-area-single-ticket-with-90-price-discount/\">Metropolitan area single ticket (90 % price discount)</a></span></div>\n",
      "</td>\n",
      "<td width=\"30%\" align=\"left\">\n",
      "\n",
      "Metropolitan area single ticket (90 % price discount)\n",
      "<a href=\"http://bkk.hu/en/tickets-and-passes/prices/airport-bus-extension-ticket/\">Airport bus extension ticket</a></span></div>\n",
      "</td>\n",
      "<td width=\"30%\" align=\"left\">\n",
      "\n",
      "Airport bus extension ticket\n",
      "<a href=\"http://www.bkk.hu/en/pupil-group-travelcard/\">Pupil group travelcard</a></span></div>\n",
      "</td>\n",
      "<td width=\"30%\" align=\"left\">\n",
      "\n",
      "Pupil group travelcard\n",
      "<a href=\"http://www.bkk.hu/en/budapest-24-hour-travel-card/\">Budapest 24-hour travelcard</a></span></div>\n",
      "</td>\n",
      "<td width=\"30%\" align=\"left\">\n",
      "\n",
      "Budapest 24-hour travelcard\n",
      "<a href=\"http://www.bkk.hu/en/prices/budapest-24-hour-group-travel-card/\">Budapest 24-hour group travelcard (for 1-5 passengers traveling together)</a></span></div>\n",
      "</td>\n",
      "<td width=\"30%\" align=\"left\">\n",
      "\n",
      "Budapest 24-hour group travelcard (for 1-5 passengers traveling together)\n",
      "<a href=\"http://www.bkk.hu/en/prices/530-bkk-24-hour-travelcard/\">5/30 BKK 24-hour travelcard</a></span></div>\n",
      "</td>\n",
      "<td width=\"30%\" align=\"left\">\n",
      "\n",
      "5/30 BKK 24-hour travelcard\n",
      "<a href=\"http://www.bkk.hu/en/prices/budapest-72-hour-travel-card/\">Budapest 72-hour travelcard</a></span></div>\n",
      "</td>\n",
      "<td width=\"30%\" align=\"left\">\n",
      "\n",
      "Budapest 72-hour travelcard\n",
      "<a href=\"http://www.bkk.hu/en/budapest-7-day-travel-card/\">Budapest 7-day travelcard</a></span></div>\n",
      "</td>\n",
      "<td width=\"30%\" align=\"left\">\n",
      "\n",
      "Budapest 7-day travelcard\n",
      "<a href=\"http://www.bkk.hu/en/budapest-card-for-24-hours/\">Budapest Card for 24 hours</a></span></div>\n",
      "</td>\n",
      "<td width=\"30%\" align=\"left\">\n",
      "\n",
      "Budapest Card for 24 hours\n",
      "<a href=\"http://www.bkk.hu/en/prices/budapest-card-for-48-hours/\">Budapest Card for 48 hours</a></span></div>\n",
      "</td>\n",
      "<td width=\"30%\" align=\"left\">\n",
      "\n",
      "Budapest Card for 48 hours\n",
      "<a href=\"http://www.bkk.hu/en/budapest-card-for-72-hours/\">Budapest Card for 72 hours</a></span></div>\n",
      "</td>\n",
      "<td width=\"30%\" align=\"left\">\n",
      "\n",
      "Budapest Card for 72 hours\n",
      "<a href=\"http://www.bkk.hu/en/budapest-card-for-96-hours/\">Budapest Card for 96 hours</a></span></div>\n",
      "</td>\n",
      "<td width=\"30%\" align=\"left\">\n",
      "\n",
      "Budapest Card for 96 hours\n",
      "<a href=\"http://www.bkk.hu/en/budapest-card-for-120-hours/\">Budapest Card for 120 hours</a></span></div>\n",
      "</td>\n",
      "<td width=\"30%\" align=\"left\">\n",
      "\n",
      "Budapest Card for 120 hours\n",
      "<a href=\"http://bkk.hu/en/budapest-card-for-juniors-for-72-hours/\">Budapest Card for Juniors for 72 hours</a></span></div>\n",
      "</td>\n",
      "<td width=\"30%\" align=\"left\">\n",
      "\n",
      "Budapest Card for Juniors for 72 hours\n",
      "<a href=\"http://www.bkk.hu/en/prices/budapest-pass-one-week-supplement/\">Budapest-pass 1-week supplement</a></span></div>\n",
      "</td>\n",
      "<td width=\"30%\" align=\"left\">\n",
      "\n",
      "Budapest-pass 1-week supplement\n",
      "<a href=\"http://www.bkk.hu/en/prices/budapest-pass-1-week-supplement-business/\">Budapest-pass 1-week supplement (business)</a></span></div>\n",
      "</td>\n",
      "<td width=\"30%\" align=\"left\">\n",
      "\n",
      "Budapest-pass 1-week supplement (business)\n",
      "<a href=\"http://www.bkk.hu/en/14-day-budapest-pass/\">15-day Budapest-pass</a></span></div>\n",
      "</td>\n",
      "<td width=\"30%\" align=\"left\">\n",
      "\n",
      "15-day Budapest-pass\n",
      "<a href=\"http://www.bkk.hu/en/tickets-and-passes/prices/15-day-budapest-pass-business/\">15-day Budapest-pass (business)</a></span></div>\n",
      "</td>\n",
      "<td width=\"30%\" align=\"left\">\n",
      "\n",
      "15-day Budapest-pass (business)\n",
      "<a href=\"http://www.bkk.hu/en/tickets-and-passes/prices/15-day-budapest-pass-for-pupils/\">15-day Budapest-pass for pupils</a></span></div>\n",
      "</td>\n",
      "<td width=\"30%\" align=\"left\">\n",
      "\n",
      "15-day Budapest-pass for pupils\n",
      "<a href=\"http://www.bkk.hu/en/tickets-and-passes/prices/monthly-budapest-pass/\">Monthly Budapest-pass</a></span></div>\n",
      "</td>\n",
      "<td width=\"30%\" align=\"left\">\n",
      "\n",
      "Monthly Budapest-pass\n",
      "<a href=\"http://www.bkk.hu/en/tickets-and-passes/prices/monthly-budapest-pass-business/\">Monthly Budapest-pass (business)</a></span></div>\n",
      "</td>\n",
      "<td width=\"30%\" align=\"left\">\n",
      "\n",
      "Monthly Budapest-pass (business)\n",
      "<a href=\"http://www.bkk.hu/en/prices/monthly-budapest-pass-for-pupilstudents/\">Monthly Budapest-pass for pupils</a></span></div>\n",
      "</td>\n",
      "<td width=\"30%\" align=\"left\">\n",
      "\n",
      "Monthly Budapest-pass for pupils\n",
      "<a href=\"http://www.bkk.hu/en/prices/monthly-budapest-pass-for-students-2/\">Monthly Budapest-pass for students</a></span></div>\n",
      "</td>\n",
      "<td width=\"30%\" align=\"left\">\n",
      "\n",
      "Monthly Budapest-pass for students\n",
      "<a href=\"http://www.bkk.hu/en/monthly-budapest-pass-for-pensioners/\">Monthly Budapest-pass for pensioners</a></span></div>\n",
      "</td>\n",
      "<td width=\"30%\" align=\"left\">\n",
      "\n",
      "Monthly Budapest-pass for pensioners\n",
      "<a href=\"http://www.bkk.hu/en/monthly-budapest-pass-for-parents-with-small-children/\">Monthly Budapest-pass for parents with small children</a></span></div>\n",
      "</td>\n",
      "<td width=\"30%\" align=\"left\">\n",
      "\n",
      "Monthly Budapest-pass for parents with small children\n",
      "<a href=\"http://www.bkk.hu/en/tickets-and-passes/prices/transferable-monthly-budapest-pass/\">Transferable monthly Budapest-pass</a></span></div>\n",
      "</td>\n",
      "<td width=\"30%\" align=\"left\">\n",
      "\n",
      "Transferable monthly Budapest-pass\n",
      "<a href=\"http://www.bkk.hu/en/prices/monthly-dog-pass/\">Monthly dog pass</a></span></div>\n",
      "</td>\n",
      "<td width=\"30%\" align=\"left\">\n",
      "\n",
      "Monthly dog pass\n",
      "<a href=\"http://www.bkk.hu/en/prices/conurbation-pass-5-km/\">Metropolitan area pass (5 km)</a></span></div>\n",
      "</td>\n",
      "<td width=\"30%\" align=\"left\">\n",
      "\n",
      "Metropolitan area pass (5 km)\n",
      "<a href=\"http://www.bkk.hu/en/conurbation-pass-10-km/\">Metropolitan area pass (10 km)</a></span></div>\n",
      "</td>\n",
      "<td width=\"30%\" align=\"left\">\n",
      "\n",
      "Metropolitan area pass (10 km)\n",
      "<a href=\"http://www.bkk.hu/en/conurbation-pass-5-km-with-90-price-reduction/\">Metropolitan area pass (5 km) with 90% price reduction</a></span></div>\n",
      "</td>\n",
      "<td width=\"30%\" align=\"left\">\n",
      "\n",
      "Metropolitan area pass (5 km) with 90% price reduction\n",
      "<a href=\"http://www.bkk.hu/en/conurbation-pass-10-km-with-90-price-reduction/\">Metropolitan area pass (10km) with 90% price reduction</a></span></div>\n",
      "</td>\n",
      "<td width=\"30%\" align=\"left\">\n",
      "\n",
      "Metropolitan area pass (10km) with 90% price reduction\n",
      "<a href=\"http://www.bkk.hu/en/conurbation-local-pass/\">Metropolitan area local pass</a></span></div>\n",
      "</td>\n",
      "<td width=\"30%\" align=\"left\">\n",
      "\n",
      "Metropolitan area local pass\n",
      "<a href=\"http://www.bkk.hu/en/conurbation-local-pass-for-students/\">Metropolitan area local pass for students</a></span></div>\n",
      "</td>\n",
      "<td width=\"30%\" align=\"left\">\n",
      "\n",
      "Metropolitan area local pass for students\n",
      "<a href=\"http://www.bkk.hu/en/conurbation-local-pass-for-pensioners/\">Metropolitan area local pass for pensioners</a></span></div>\n",
      "</td>\n",
      "<td width=\"30%\" align=\"left\">\n",
      "\n",
      "Metropolitan area local pass for pensioners\n",
      "<a href=\"http://www.bkk.hu/en/bicycle-pass/\">Bicycle pass</a></span></div>\n",
      "</td>\n",
      "<td width=\"30%\" align=\"left\">\n",
      "\n",
      "Bicycle pass\n",
      "<a href=\"http://www.bkk.hu/en/prices/quarterly-budapest-pass/\">Quarterly Budapest-pass</a></span></div>\n",
      "</td>\n",
      "<td width=\"30%\" align=\"left\">\n",
      "\n",
      "Quarterly Budapest-pass\n",
      "<a href=\"http://www.bkk.hu/en/tickets-and-passes/prices/quarterly-budapest-pass-business/\">Quarterly Budapest-pass (business)</a></span></div>\n",
      "</td>\n",
      "<td width=\"30%\" align=\"left\">\n",
      "\n",
      "Quarterly Budapest-pass (business)\n",
      "<a href=\"http://www.bkk.hu/en/prices/quarterly-budapest-pass-for-pupils/\">Quarterly Budapest-pass for pupils</a></span></div>\n",
      "</td>\n",
      "<td width=\"30%\" align=\"left\">\n",
      "\n",
      "Quarterly Budapest-pass for pupils\n",
      "<a href=\"http://www.bkk.hu/en/prices/18672-2/\">Quarterly Budapest-pass for students</a></span></div>\n",
      "</td>\n",
      "<td width=\"30%\" align=\"left\">\n",
      "\n",
      "Quarterly Budapest-pass for students\n",
      "<a href=\"http://www.bkk.hu/en/prices/quarterly-budapest-pass-for-pensioners/\">Quarterly Budapest-pass for pensioners</a></span></div>\n",
      "</td>\n",
      "<td width=\"30%\" align=\"left\">\n",
      "\n",
      "Quarterly Budapest-pass for pensioners\n",
      "<a href=\"http://www.bkk.hu/en/prices/semester-pass/\">Semester pass for pupils</a></span></div>\n",
      "</td>\n",
      "<td width=\"30%\" align=\"left\">\n",
      "\n",
      "Semester pass for pupils\n",
      "<a href=\"http://www.bkk.hu/en/semester-budapest-pass-for-students\">Semester pass for students</a></span></div>\n",
      "</td>\n",
      "<td width=\"30%\" align=\"left\">\n",
      "\n",
      "Semester pass for students\n",
      "<a href=\"http://www.bkk.hu/en/annual-all-line-budapest-pass/\">Annual all-line Budapest-pass</a></span></div>\n",
      "</td>\n",
      "<td width=\"30%\" align=\"left\">\n",
      "\n",
      "Annual all-line Budapest-pass\n",
      "<a href=\"http://www.bkk.hu/en/tickets-and-passes/prices/annual-all-line-budapest-pass-business/\">Annual all-line Budapest-pass (business)</a></span></div>\n",
      "</td>\n",
      "<td width=\"30%\" align=\"left\">\n",
      "\n",
      "Annual all-line Budapest-pass (business)\n",
      "<a href=\"http://www.bkk.hu/en/transferable-annual-budapest-pass/\">Transferable annual Budapest-pass</a></span></div>\n",
      "</td>\n",
      "<td width=\"30%\" align=\"left\">\n",
      "\n",
      "Transferable annual Budapest-pass\n",
      "<a href=\"http://www.bkk.hu/en/annual-budapest-pass/\">Annual Budapest-pass</a> (monthly price)</span></div>\n",
      "</td>\n",
      "<td width=\"30%\" align=\"left\">\n",
      "\n",
      "Annual Budapest-pass\n",
      "<a href=\"http://bkk.hu/en/tickets-and-passes/prices/annual-budapest-pass-business/\">Annual Budapest-pass (business)</a> (monthly price)</span></div>\n",
      "</td>\n",
      "<td width=\"30%\" align=\"left\">\n",
      "\n",
      "Annual Budapest-pass (business)\n",
      "<a href=\"http://www.bkk.hu/en/discounted-annual-budapest-pass/\">Discounted annual BP-pass</a></span></div>\n",
      "</td>\n",
      "<td width=\"30%\" align=\"left\">\n",
      "\n",
      "Discounted annual BP-pass\n",
      "<a href=\"http://www.bkk.hu/en/discounted-annual-budapest-pass-business/\">Discounted annual BP-pass (business)</a></span></div>\n",
      "</td>\n",
      "<td width=\"30%\" align=\"left\">\n",
      "\n",
      "Discounted annual BP-pass (business)\n",
      "<a href=\"http://www.bkk.hu/en/discounted-annual-budapest-pass-for-pupils/\">Discounted annual BP-pass for pupils</a></span></div>\n",
      "</td>\n",
      "<td width=\"30%\" align=\"left\">\n",
      "\n",
      "Discounted annual BP-pass for pupils\n",
      "<a href=\"http://www.bkk.hu/en/discounted-annual-bp-pass-for-students/\">Discounted annual BP-pass for students</a></span></div>\n",
      "</td>\n",
      "<td width=\"30%\" align=\"left\">\n",
      "\n",
      "Discounted annual BP-pass for students\n",
      "<a href=\"http://www.bkk.hu/en/discounted-annual-budapest-pass-for-pensioners/\">Discounted annual BP-pass for pensioners</a></span></div>\n",
      "</td>\n",
      "<td width=\"30%\" align=\"left\">\n",
      "\n",
      "Discounted annual BP-pass for pensioners\n",
      "<a href=\"http://www.bkk.hu/en/discounted-annual-budapest-and-mol-bubi-pass-business/\">Discounted annual Budapest- and MOL Bubi pass (business)</a></span></div>\n",
      "</td>\n",
      "<td width=\"30%\" align=\"left\">\n",
      "\n",
      "Discounted annual Budapest- and MOL Bubi pass (business)\n",
      "<a href=\"http://www.bkk.hu/en/prices/full-fare-ferry-ticket/\">Full-fare ferry ticket</a></span></div>\n",
      "</td>\n",
      "<td width=\"30%\" align=\"left\">\n",
      "\n",
      "Full-fare ferry ticket\n",
      "<a href=\"http://www.bkk.hu/en/prices/pupil-ferry-ticket-under-15/\">Pupil ferry ticket (under 15)</a></span></div>\n",
      "</td>\n",
      "<td width=\"30%\" align=\"left\">\n",
      "\n",
      "Pupil ferry ticket (under 15)\n",
      "<a href=\"http://www.bkk.hu/en/prices/pensioner-ferry-ticket/\">Pensioner ferry ticket</a></span></div>\n",
      "</td>\n",
      "<td width=\"30%\" align=\"left\">\n",
      "\n",
      "Pensioner ferry ticket\n",
      "<a href=\"http://www.bkk.hu/en/prices/ferry-ticket-for-standard-vehicle-vehicle-only/\">Ferry ticket for standard vehicle (vehicle only)</a></span></div>\n",
      "</td>\n",
      "<td width=\"30%\" align=\"left\">\n",
      "\n",
      "Ferry ticket for standard vehicle (vehicle only)\n",
      "<a href=\"http://www.bkk.hu/en/prices/ferry-ticket-for-lorries-up-to-3-5-tons/\">Ferry ticket for lorries (up to 3.5 tons)</a></span></div>\n",
      "</td>\n",
      "<td width=\"30%\" align=\"left\">\n",
      "\n",
      "Ferry ticket for lorries (up to 3.5 tons)\n",
      "<a href=\"http://www.bkk.hu/en/prices/ferry-ticket-for-lorries-above-3-5-tons/\">Ferry ticket for lorries (above 3.5 tons)</a></span></div>\n",
      "</td>\n",
      "<td width=\"30%\" align=\"left\">\n",
      "\n",
      "Ferry ticket for lorries (above 3.5 tons)\n",
      "<a href=\"http://www.bkk.hu/en/prices/ferry-ticket-for-bicycle-vehicle-only/\">Ferry ticket for bicycle (vehicle only)</a></span></div>\n",
      "</td>\n",
      "<td width=\"30%\" align=\"left\">\n",
      "\n",
      "Ferry ticket for bicycle (vehicle only)\n",
      "<a href=\"http://www.bkk.hu/en/prices/ferry-ticket-for-motorcycle-vehicle-only/\">Ferry ticket for motorcycle (vehicle only)</a></span></div>\n",
      "</td>\n",
      "<td width=\"30%\" align=\"left\">\n",
      "\n",
      "Ferry ticket for motorcycle (vehicle only)\n",
      "</span></div>\n",
      "</td>\n",
      "<td width=\"30%\" align=\"left\">\n",
      "\n",
      "\n",
      "Amount of penalty fare</span></div>\n",
      "</td>\n",
      "<td width=\"30%\" align=\"left\">\n",
      "\n",
      "Amount of penalty far\n",
      "Penalty fare paid on the spot</span></div>\n",
      "</td>\n",
      "<td width=\"30%\" align=\"left\">\n",
      "\n",
      "Penalty fare paid on the spo\n",
      "Late payment fee</span></div>\n",
      "</td>\n",
      "<td width=\"30%\" align=\"left\">\n",
      "\n",
      "Late payment fe\n",
      "Administration fee for payment over 30 days</span></div>\n",
      "</td>\n",
      "<td width=\"30%\" align=\"left\">\n",
      "\n",
      "Administration fee for payment over 30 day\n",
      "Administration fee for later presentation of annual, semester and quarterly passes </span></div>\n",
      "</td>\n",
      "<td width=\"30%\" align=\"left\">\n",
      "\n",
      "Administration fee for later presentation of annual, semester and quarterly passes\n",
      "Administration fee for later presentation of all other types of passes</span></div>\n",
      "</td>\n",
      "<td width=\"30%\" align=\"left\">\n",
      "\n",
      "Administration fee for later presentation of all other types of passe\n",
      "Handling fee</span></div>\n",
      "</td>\n",
      "<td width=\"30%\" align=\"left\">\n",
      "\n",
      "Handling fe\n",
      "Handling fee for discounted annual passes</span></div>\n",
      "</td>\n",
      "<td width=\"30%\" align=\"left\">\n",
      "\n",
      "Handling fee for discounted annual passe\n",
      "<a href=\"http://www.bkk.hu/en/general-pass-id/\">General pass ID</a></span></div>\n",
      "</td>\n",
      "<td width=\"30%\" align=\"left\">\n",
      "\n",
      "General pass ID\n",
      "<a href=\"http://www.bkk.hu/en/pass-id-for-pensioners/\">Pass ID for pensioners</a></span></div>\n",
      "</td>\n",
      "<td width=\"30%\" align=\"left\">\n",
      "\n",
      "Pass ID for pensioners\n",
      "<a href=\"http://www.bkk.hu/en/pass-id-for-parents-with-small-children/\">Pass ID for parents with small children</a></span></div>\n",
      "</td>\n",
      "<td width=\"30%\" align=\"left\">\n",
      "\n",
      "Pass ID for parents with small children\n",
      "<a href=\"http://www.bkk.hu/wp-content/uploads/2012/12/B%C3%A9rlettok-r%C3%A9gi-%C3%A1tl%C3%A1tsz%C3%B3.png\">Old pass holder – transparent plastic</a></span></div>\n",
      "</td>\n",
      "<td width=\"30%\" align=\"left\">\n",
      "\n",
      "Old pass holder – transparent plastic\n",
      "Pass holder</span></div>\n",
      "</td>\n",
      "<td width=\"30%\" align=\"left\">\n",
      "\n",
      "Pass holde\n"
     ]
    }
   ],
   "source": [
    "type_ticket=[]\n",
    "for element in splitted[1::2]:\n",
    "    print(element)\n",
    "    temp=element.split('</span></div>')[0]\n",
    "    ticket=temp[temp.find('>')+len('>'):temp.rfind('<')]\n",
    "    print(ticket)\n",
    "    type_ticket.append(ticket)"
   ]
  },
  {
   "cell_type": "code",
   "execution_count": null,
   "metadata": {
    "colab": {},
    "colab_type": "code",
    "id": "XO3KawfxFQjJ"
   },
   "outputs": [],
   "source": [
    "price=[]\n",
    "for element in splitted[2::2]:\n",
    "    temp=element.split('</span></div>')[0]\n",
    "    price.append(temp)"
   ]
  },
  {
   "cell_type": "markdown",
   "metadata": {
    "colab_type": "text",
    "id": "4W4U1SOIFQjL"
   },
   "source": [
    "А теперь с помощью zip функции, давайте их соберем в кортежи по парам."
   ]
  },
  {
   "cell_type": "code",
   "execution_count": 72,
   "metadata": {
    "colab": {
     "base_uri": "https://localhost:8080/",
     "height": 1547
    },
    "colab_type": "code",
    "id": "BgFoO8vlFQjM",
    "outputId": "dbb0ee86-1d24-4929-cc04-323aa1cd9e12",
    "scrolled": false
   },
   "outputs": [
    {
     "name": "stdout",
     "output_type": "stream",
     "text": [
      "('Single ticket', 'HUF 350')\n",
      "('Single ticket bought on the spot', 'HUF 450')\n",
      "('Block of 10 tickets', 'HUF 3 000')\n",
      "('Airport shuttle bus single ticket ', 'HUF 900')\n",
      "('Transfer ticket', 'HUF 530')\n",
      "('Short section metro ticket for up to 3 stops', 'HUF 300')\n",
      "('Single ticket for public transport boat', 'HUF 750')\n",
      "('Single ticket for public transport boat Children (under 15)', 'HUF 550')\n",
      "('Metropolitan area ticket', 'HUF 250')\n",
      "('Metropolitan area single ticket (50 % price discount)', 'HUF 125')\n",
      "('Metropolitan area single ticket (90 % price discount)', 'HUF 25')\n",
      "('Airport bus extension ticket', 'HUF 300')\n",
      "('Pupil group travelcard', 'HUF 650/person')\n",
      "('Budapest 24-hour travelcard', 'HUF 1 650')\n",
      "('Budapest 24-hour group travelcard (for 1-5 passengers traveling together)', 'HUF 3 300')\n",
      "('5/30 BKK 24-hour travelcard', 'HUF 4 550')\n",
      "('Budapest 72-hour travelcard', 'HUF 4,150')\n",
      "('Budapest 7-day travelcard', 'HUF 4 950')\n",
      "('Budapest Card for 24 hours', 'HUF 6,490')\n",
      "('Budapest Card for 48 hours', 'HUF 9,990')\n",
      "('Budapest Card for 72 hours', 'HUF 12,990')\n",
      "('Budapest Card for 96 hours', 'HUF 15,990')\n",
      "('Budapest Card for 120 hours', 'HUF 18,990')\n",
      "('Budapest Card for Juniors for 72 hours', 'HUF 9,990')\n",
      "('Budapest-pass 1-week supplement', 'HUF 2 450')\n",
      "('Budapest-pass 1-week supplement (business)', 'HUF 2 700')\n",
      "('15-day Budapest-pass', 'HUF 6 300')\n",
      "('15-day Budapest-pass (business)', 'HUF 7 000')\n",
      "('15-day Budapest-pass for pupils', 'HUF 2 300')\n",
      "('Monthly Budapest-pass', 'HUF 9 500')\n",
      "('Monthly Budapest-pass (business)', 'HUF 10 500')\n",
      "('Monthly Budapest-pass for pupils', 'HUF 3 450')\n",
      "('Monthly Budapest-pass for students', 'HUF 3 450')\n",
      "('Monthly Budapest-pass for pensioners', 'HUF 3 330')\n",
      "('Monthly Budapest-pass for parents with small children', 'HUF 3 450')\n",
      "('Transferable monthly Budapest-pass', 'HUF 4 125')\n",
      "('Monthly dog pass', 'HUF 5 250')\n",
      "('Metropolitan area pass (5 km)', 'HUF 5 940')\n",
      "('Metropolitan area pass (10 km)', 'HUF 9 580')\n",
      "('Metropolitan area pass (5 km) with 90% price reduction', 'HUF 595')\n",
      "('Metropolitan area pass (10km) with 90% price reduction', 'HUF 960')\n",
      "('Metropolitan area local pass', 'HUF 5 200')\n",
      "('Metropolitan area local pass for students', 'HUF 2 600')\n",
      "('Metropolitan area local pass for pensioners', 'HUF 2 600')\n",
      "('Bicycle pass', 'HUF 540')\n",
      "('Quarterly Budapest-pass', 'HUF 28 500')\n",
      "('Quarterly Budapest-pass (business)', 'HUF 31 500')\n",
      "('Quarterly Budapest-pass for pupils', 'HUF 10 350')\n",
      "('Quarterly Budapest-pass for students', 'HUF 10 350')\n",
      "('Quarterly Budapest-pass for pensioners', 'HUF 9 990')\n",
      "('Semester pass for pupils', 'HUF 16 200')\n",
      "('Semester pass for students', 'HUF 16 200')\n",
      "('Annual all-line Budapest-pass', 'HUF 217 960')\n",
      "('Annual all-line Budapest-pass (business)', 'HUF 219 860')\n",
      "('Transferable annual Budapest-pass', 'HUF 189 000')\n",
      "('Annual Budapest-pass', 'HUF 9 500/month')\n",
      "('Annual Budapest-pass (business)', 'HUF 10 500/month')\n",
      "('Discounted annual BP-pass', 'HUF 103 000')\n",
      "('Discounted annual BP-pass (business)', 'HUF 114 600')\n",
      "('Discounted annual BP-pass for pupils', 'HUF 37 800')\n",
      "('Discounted annual BP-pass for students', 'HUF 37 800')\n",
      "('Discounted annual BP-pass for pensioners', 'HUF 36 600')\n",
      "('Discounted annual Budapest- and MOL Bubi pass (business)', 'HUF 120 600')\n",
      "('Full-fare ferry ticket', 'HUF 170')\n",
      "('Pupil ferry ticket (under 15)', 'HUF 110')\n",
      "('Pensioner ferry ticket', 'HUF 110')\n",
      "('Ferry ticket for standard vehicle (vehicle only)', 'HUF 420')\n",
      "('Ferry ticket for lorries (up to 3.5 tons)', 'HUF 1 050')\n",
      "('Ferry ticket for lorries (above 3.5 tons)', 'HUF 1 750')\n",
      "('Ferry ticket for bicycle (vehicle only)', 'HUF 170')\n",
      "('Ferry ticket for motorcycle (vehicle only)', 'HUF 290')\n",
      "('', '')\n",
      "('Amount of penalty far', 'HUF 16 000')\n",
      "('Penalty fare paid on the spo', 'HUF 8 000')\n",
      "('Late payment fe', 'HUF 16 000')\n",
      "('Administration fee for payment over 30 day', 'HUF 500')\n",
      "('Administration fee for later presentation of annual, semester and quarterly passes', 'HUF 1 000')\n",
      "('Administration fee for later presentation of all other types of passe', 'HUF 2 000')\n",
      "('Handling fe', 'HUF 250')\n",
      "('Handling fee for discounted annual passe', 'HUF 500')\n",
      "('General pass ID', 'HUF 250')\n",
      "('Pass ID for pensioners', 'HUF 250')\n",
      "('Pass ID for parents with small children', 'HUF 250')\n",
      "('Old pass holder \\xe2\\x80\\x93 transparent plastic', 'HUF 35')\n",
      "('Pass holde', 'HUF 55')\n"
     ]
    }
   ],
   "source": [
    "for pair in zip(type_ticket,price): #\n",
    "    print(pair)"
   ]
  },
  {
   "cell_type": "markdown",
   "metadata": {
    "colab_type": "text",
    "id": "sQeBk7v2FQjO"
   },
   "source": [
    "**Отлично!** Теперь все билеты в одном месте, давайте сделаем упражнения."
   ]
  },
  {
   "cell_type": "markdown",
   "metadata": {
    "colab_type": "text",
    "id": "sGyH1LXKFQjP"
   },
   "source": [
    "## Exercise &#x1F4D8;\n",
    "* Преобразуйте полученные данные в pandas dataframe.\n",
    "* Выделите только годовые и квартальные билеты\n",
    "* Сколько мы сэкономим, если купим годовой билет вместо четырех квартальных?\n",
    "\n",
    "## Exercise &#x1F4D7;\n",
    "* Если посмотреть на страницу, то мы увидим, что мы пропустили некторые билеты (например, Suburban railway estension). Исправьте код, чтобы и их добавить."
   ]
  },
  {
   "cell_type": "code",
   "execution_count": null,
   "metadata": {
    "colab": {},
    "colab_type": "code",
    "id": "zU0ocdg3fn5Q"
   },
   "outputs": [],
   "source": [
    "import pandas as pd\n",
    "df = pd.DataFrame(zip(type_ticket,price), columns = ['Ticket', 'Price'])"
   ]
  },
  {
   "cell_type": "code",
   "execution_count": 75,
   "metadata": {
    "colab": {
     "base_uri": "https://localhost:8080/",
     "height": 172
    },
    "colab_type": "code",
    "id": "7hcBvDyYgC0V",
    "outputId": "593061b9-4f0e-424b-9156-05853cb3915d"
   },
   "outputs": [
    {
     "data": {
      "text/html": [
       "<div>\n",
       "<style scoped>\n",
       "    .dataframe tbody tr th:only-of-type {\n",
       "        vertical-align: middle;\n",
       "    }\n",
       "\n",
       "    .dataframe tbody tr th {\n",
       "        vertical-align: top;\n",
       "    }\n",
       "\n",
       "    .dataframe thead th {\n",
       "        text-align: right;\n",
       "    }\n",
       "</style>\n",
       "<table border=\"1\" class=\"dataframe\">\n",
       "  <thead>\n",
       "    <tr style=\"text-align: right;\">\n",
       "      <th></th>\n",
       "      <th>Ticket</th>\n",
       "      <th>Price</th>\n",
       "    </tr>\n",
       "  </thead>\n",
       "  <tbody>\n",
       "    <tr>\n",
       "      <th>52</th>\n",
       "      <td>Annual all-line Budapest-pass</td>\n",
       "      <td>HUF 217 960</td>\n",
       "    </tr>\n",
       "    <tr>\n",
       "      <th>53</th>\n",
       "      <td>Annual all-line Budapest-pass (business)</td>\n",
       "      <td>HUF 219 860</td>\n",
       "    </tr>\n",
       "    <tr>\n",
       "      <th>55</th>\n",
       "      <td>Annual Budapest-pass</td>\n",
       "      <td>HUF 9 500/month</td>\n",
       "    </tr>\n",
       "    <tr>\n",
       "      <th>56</th>\n",
       "      <td>Annual Budapest-pass (business)</td>\n",
       "      <td>HUF 10 500/month</td>\n",
       "    </tr>\n",
       "  </tbody>\n",
       "</table>\n",
       "</div>"
      ],
      "text/plain": [
       "                                      Ticket             Price\n",
       "52             Annual all-line Budapest-pass       HUF 217 960\n",
       "53  Annual all-line Budapest-pass (business)       HUF 219 860\n",
       "55                      Annual Budapest-pass   HUF 9 500/month\n",
       "56           Annual Budapest-pass (business)  HUF 10 500/month"
      ]
     },
     "execution_count": 75,
     "metadata": {
      "tags": []
     },
     "output_type": "execute_result"
    }
   ],
   "source": [
    "df[df['Ticket'].str.contains(\"Annual\")]"
   ]
  },
  {
   "cell_type": "markdown",
   "metadata": {
    "colab_type": "text",
    "id": "8HaaopewSwxX"
   },
   "source": [
    "# PDF"
   ]
  },
  {
   "cell_type": "markdown",
   "metadata": {
    "colab_type": "text",
    "id": "n_n6MmAPBOKi"
   },
   "source": [
    "## Download pdf"
   ]
  },
  {
   "cell_type": "markdown",
   "metadata": {
    "colab_type": "text",
    "id": "IdJhH8WmVG9l"
   },
   "source": [
    "Импортируем модуль requests и откроем файл для записи, в который потом сохраним нашу pdf"
   ]
  },
  {
   "cell_type": "code",
   "execution_count": null,
   "metadata": {
    "colab": {},
    "colab_type": "code",
    "id": "iKnBixMMl7g4"
   },
   "outputs": [],
   "source": [
    "import requests\n",
    "\n",
    "o = open(\"press.pdf\",'wb')"
   ]
  },
  {
   "cell_type": "markdown",
   "metadata": {
    "colab_type": "text",
    "id": "j5mWzs8cl-yy"
   },
   "source": [
    "Мы будем сохранять отчет Евро Парламента. У нас уже есть ссылка на саму pdf, поэтому просто укажем ее. С помощью модуля requests откроем ссылку для потокового скачивания файла (размер pdf может быть большим и не факт что он уместиться за раз в памяти)"
   ]
  },
  {
   "cell_type": "code",
   "execution_count": null,
   "metadata": {
    "colab": {},
    "colab_type": "code",
    "id": "25YaHRRYSz7-"
   },
   "outputs": [],
   "source": [
    "url=(\"http://www.europarl.europa.eu/pdfs/news/public/story/20161026STO49002/20161026STO49002_en.pdf\" )\n",
    "release=requests.get(url, stream=True)\n",
    "press_release=release.content"
   ]
  },
  {
   "cell_type": "markdown",
   "metadata": {
    "colab_type": "text",
    "id": "XUAr7NuUm0pB"
   },
   "source": [
    "Осталось все записать файл и закрыть его запись"
   ]
  },
  {
   "cell_type": "code",
   "execution_count": null,
   "metadata": {
    "colab": {},
    "colab_type": "code",
    "id": "VqVItzowm1PO"
   },
   "outputs": [],
   "source": [
    "\n",
    "o.write(press_release)\n",
    "o.close()"
   ]
  },
  {
   "cell_type": "markdown",
   "metadata": {
    "colab_type": "text",
    "id": "CVBXpJRNBSlh"
   },
   "source": [
    "## Download all PDFs from page"
   ]
  },
  {
   "cell_type": "markdown",
   "metadata": {
    "colab_type": "text",
    "id": "Fg8QewuBnF42"
   },
   "source": [
    "Попробуем задание посложнее. Скачаем **все** pdf, которые есть на странице с курсами ВШЭ для направления политология. Зайдя на сайт и выбрав необходимые фильтры, получаем следующую страницы, на которой есть инормация о курсах:\n",
    "\n",
    "https://www.hse.ru/edu/courses/index.html?words=&full_words=&edu_year=2018&lecturer=&edu_level=78397&language=&level=1191462%3A130671177&mandatory=&is_dpo=0&filial=22723&modules=10162246&modules=10162247&xlc=&genelective=0"
   ]
  },
  {
   "cell_type": "code",
   "execution_count": null,
   "metadata": {
    "colab": {},
    "colab_type": "code",
    "id": "ydhfoA3pnmPd"
   },
   "outputs": [],
   "source": [
    "import requests\n",
    "import bs4\n",
    "\n",
    "url = (\"https://www.hse.ru/edu/courses/index.html?words=&full_words=&edu_year=2018&lecturer=&edu_level=78397&language=&level=1191462%3A130671177&mandatory=&is_dpo=0&filial=22723&modules=10162246&modules=10162247&xlc=&genelective=0\")\n",
    "page = requests.get(url)\n",
    "courses = page.text"
   ]
  },
  {
   "cell_type": "markdown",
   "metadata": {
    "colab_type": "text",
    "id": "cLl2nKZLu-Rq"
   },
   "source": [
    "Используем модуль bs4, а конкретно метод BeautifulSoup, который представит нам сайт в удобном для работы виде (информация будет разбита по тэгам веб страницы div, a и т.д.)\n",
    "\n",
    "В списке links будет хранить ссылки на курсы, пройдя по которым мы сможем скачать pdf с программой курса"
   ]
  },
  {
   "cell_type": "code",
   "execution_count": null,
   "metadata": {
    "colab": {},
    "colab_type": "code",
    "id": "HcXMZUAFvcsC"
   },
   "outputs": [],
   "source": [
    "links = [] \n",
    "\n",
    "soup = bs4.BeautifulSoup(courses, \"html.parser\")"
   ]
  },
  {
   "cell_type": "markdown",
   "metadata": {
    "colab_type": "text",
    "id": "M8d5Hd0Hvp74"
   },
   "source": [
    "Изучив код страницы, мы видим что ссылки на курсы лежат в теге \"а\". Поэтому найдем все такие теги и заберем адрес ссылки, которая хранится внутри тега \"а\" с параметром href. Проверим, ссылка ли это на курс (в этом теге могут быть ссылки на элементы меню) и есть ли такая ссылка в нашем списке, и если нет, то добавим ее.\n",
    "\n",
    "**Всегда** придется изучать строение самой таблицы, чтобы обращаться и брать ее элементы.\n",
    "\n"
   ]
  },
  {
   "cell_type": "code",
   "execution_count": null,
   "metadata": {
    "colab": {},
    "colab_type": "code",
    "id": "gajz51MEwMdl"
   },
   "outputs": [],
   "source": [
    "for name in soup.findAll (\"a\"):\n",
    "    course = name.get (\"href\")\n",
    "    if \"hse.ru/edu/courses/\" in str(course):\n",
    "        if str(course) not in links:\n",
    "            links.append(course)"
   ]
  },
  {
   "cell_type": "markdown",
   "metadata": {
    "colab_type": "text",
    "id": "m91hfl6dxFCF"
   },
   "source": [
    "Получили список ссылок на курсы со **всей** странице.\n",
    "\n",
    "Теперь мы пройдемся по всем этим ссылкам, и точно также через request откроем их и прогоним через BeatifulSoup.\n",
    "Открыв страницы с курсом видим, что в коде страницы опять же ссылка на **pdf** хранится в теге \"a\". Но есть таких ссылок две. Да, все так. В коде страницы есть два тега \"а\" в каждом из которых есть по ссылке на файт. На помощью нам придет возможность при поиске элемента через findAll указать класс тега. Поэтому в итоге каждый раз получим только 1 ссылку.\n",
    "\n",
    "Ее мы как при скачивании pdf с сайта Евро Парламента просто откроем новым requests'ом и запишем в файл. Название файла будет точно таким же как он назывался на сайт"
   ]
  },
  {
   "cell_type": "code",
   "execution_count": null,
   "metadata": {
    "colab": {},
    "colab_type": "code",
    "id": "s-L1tDTGUAEC"
   },
   "outputs": [],
   "source": [
    "for link in links: \n",
    "    ind_release = requests.get(str(link))  #проходим по ссылке\n",
    "    ind_release = ind_release.text\n",
    "\n",
    "    soup_release = bs4.BeautifulSoup(ind_release, \"html.parser\") # делаем все красивым\n",
    "    for name in soup_release.findAll ('a', class_ = \"link fileRef\"): # находим все теги с нужным классом\n",
    "        pdf_link = name.get ('href') # забираем ссылку\n",
    "        if \"data/\" in  str(pdf_link): # проверяем что это нужная ссылка на файл (все ссылки на файл, начинаются с data/имя_файла)\n",
    "            final_url = (\"https://www.hse.ru/\" + str(pdf_link)) # составляем финальную ссылку и делаем к ней request\n",
    "            release = requests.get(final_url, stream=True)\n",
    "            press_release = release.content\n",
    "            o = open(\"\" + final_url[final_url.rfind(\"/\") + 1:], \"wb\") # final_url[final_url.rfind(\"/\") + 1:] этим мы берем название файла из конца ссылки\n",
    "            o.write(press_release)\n",
    "o.close()"
   ]
  },
  {
   "cell_type": "markdown",
   "metadata": {
    "colab_type": "text",
    "id": "BL73pdB4BZ4Y"
   },
   "source": [
    "## Download all PDFs from several pages"
   ]
  },
  {
   "cell_type": "markdown",
   "metadata": {
    "colab_type": "text",
    "id": "sNg7AD3uxcru"
   },
   "source": [
    "Еще усложним задачу. Теперь мы будем собирать pdf с нескольких страницы выдачи. Код будет похож на прошлый пример и мы только обернем его циклом по страницам.\n",
    "\n",
    "Заведем переменную *page* для хранения текущей страницы и будем увеличивать ее после завершения прохода текущей страницы.\n",
    "\n",
    "Для выбора новой страницы просто подняем цифру в адресе сайт на нужную. Пример:\n",
    "https://www.hse.ru/edu/courses/page1\n",
    "https://www.hse.ru/edu/courses/page2 \n",
    "https://www.hse.ru/edu/courses/page3 \n",
    "\n",
    "И т.д.\n"
   ]
  },
  {
   "cell_type": "code",
   "execution_count": null,
   "metadata": {
    "colab": {},
    "colab_type": "code",
    "id": "q3DYKGG5We9-"
   },
   "outputs": [],
   "source": [
    "import requests\n",
    "import bs4\n",
    "\n",
    "page = 1\n",
    "while page <= 3: #количество страниц, по которым нужно пройти\n",
    "    \n",
    "    #делаем запрос к нужной странице\n",
    "    url = (\"https://www.hse.ru/edu/courses/page\" + str(page) + \".html?words=&full_words=&edu_year=2018&lecturer=&edu_level=78397&language=&level=1191462%3A130671177&mandatory=&is_dpo=0&filial=22723&modules=10162246&modules=10162247&xlc=&genelective=0\")\n",
    "    pages = requests.get(url)\n",
    "    courses = pages.text\n",
    "    \n",
    "    #дальше код полностью с прошлого примера\n",
    "\n",
    "    links = []  \n",
    "\n",
    "    soup = bs4.BeautifulSoup(courses, \"html.parser\")\n",
    "\n",
    "    for name in soup.findAll (\"a\"):\n",
    "        course = name.get (\"href\")\n",
    "        if \"hse.ru/edu/courses/\" in str(course):\n",
    "            if str(course) not in links:\n",
    "                links.append(course)\n",
    "                \n",
    "    for link in links:\n",
    "        ind_release = requests.get(str(link))\n",
    "        ind_release = ind_release.text\n",
    "\n",
    "        soup_release = bs4.BeautifulSoup(ind_release, \"html.parser\")\n",
    "        for name in soup_release.findAll ('a', class_ = \"link fileRef\"):\n",
    "            pdf_link = name.get ('href')\n",
    "            if \"data/\" in  str(pdf_link):\n",
    "                final_url = (\"https://www.hse.ru/\" + str(pdf_link))\n",
    "                release = requests.get(final_url, stream=True)\n",
    "                press_release = release.content\n",
    "                o = open(\"\" + final_url[final_url.rfind(\"/\") + 1:], \"wb\")\n",
    "                o.write(press_release)\n",
    "            \n",
    "    page += 1 # \"берем\" новую страницу\n",
    "    \n",
    "o.close()\n",
    "    "
   ]
  }
 ],
 "metadata": {
  "colab": {
   "collapsed_sections": [
    "TXTlYgvASMRO",
    "2MZR16BcFQie",
    "8HaaopewSwxX",
    "gmwbXFgtzfLa",
    "pC8PEFYMxrhI",
    "ZxExEaxdZRLV"
   ],
   "name": "Scraping101.ipynb",
   "provenance": [],
   "version": "0.3.2"
  },
  "kernelspec": {
   "display_name": "Python 3",
   "language": "python",
   "name": "python3"
  },
  "language_info": {
   "codemirror_mode": {
    "name": "ipython",
    "version": 3
   },
   "file_extension": ".py",
   "mimetype": "text/x-python",
   "name": "python",
   "nbconvert_exporter": "python",
   "pygments_lexer": "ipython3",
   "version": "3.6.5"
  }
 },
 "nbformat": 4,
 "nbformat_minor": 2
}
