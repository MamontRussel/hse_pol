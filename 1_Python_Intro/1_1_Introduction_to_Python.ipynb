{
  "nbformat": 4,
  "nbformat_minor": 0,
  "metadata": {
    "colab": {
      "name": "1_Introduction to Python.ipynb",
      "version": "0.3.2",
      "provenance": [],
      "collapsed_sections": []
    },
    "kernelspec": {
      "display_name": "Python [default]",
      "language": "python",
      "name": "python3"
    }
  },
  "cells": [
    {
      "metadata": {
        "id": "hP8NYvFev6ME",
        "colab_type": "text"
      },
      "cell_type": "markdown",
      "source": [
        "# Введение в Python\n",
        "\n",
        "![blah](https://www.python.org/static/community_logos/python-logo-inkscape.svg)\n",
        "\n",
        "Python является языком программирования **высокого уровня** **общего назначения**. Его философия дизайна направлена на **читаемость кода**, и его синтаксис позволяет программистам выражать понятия в ** меньшем числе строк кода **, чем это возможно в таких языках, как C ++ или Java. Язык предоставляет конструкции, предназначенные для создания хорошо читаемых программ как маленького, так и большого размера\n",
        "\n",
        "Он был разработан Guido van Rossum\n",
        "\n",
        "![Guido](https://upload.wikimedia.org/wikipedia/commons/thumb/6/66/Guido_van_Rossum_OSCON_2006.jpg/220px-Guido_van_Rossum_OSCON_2006.jpg)\n",
        "\n",
        "Jupyter (JUlia-PYThon-R) блокнот - это веб-приложение, которое позволяет создавать и распространять документы, которые содержат код, уравнения, визуализацию и текст."
      ]
    },
    {
      "metadata": {
        "id": "pbpQD_D6v6MF",
        "colab_type": "text"
      },
      "cell_type": "markdown",
      "source": [
        "## Комментирование вашего кода\n",
        "\n",
        "Если хотите создать строку с комментарием, используйте символ хэштега\n",
        "\n",
        "```Python\n",
        "# Это комментарий\n",
        "```\n",
        "\n",
        "Всегда комментируйте, что вы делайте!\n",
        "\n",
        "## Основы блокнота\n",
        "\n",
        "Ctrl + s = сохранить документ\n",
        "\n",
        "Ctrol + enter = запустить\n",
        "\n",
        "\n",
        "## Но давайте начнем все же с самого Python\n"
      ]
    },
    {
      "metadata": {
        "id": "1fvhBctov6MF",
        "colab_type": "code",
        "colab": {
          "base_uri": "https://localhost:8080/",
          "height": 119
        },
        "outputId": "17984fc4-1181-4d71-f72a-0907bd96a790"
      },
      "cell_type": "code",
      "source": [
        "# Python может быть калькулятором\n",
        "\n",
        "print (2 + 2)\n",
        "print (5 - 3)\n",
        "print (5 * 6)\n",
        "print (16 / 8)\n",
        "print (2 ** 5)\n",
        "print (12 % 5) # остаток от деления"
      ],
      "execution_count": 1,
      "outputs": [
        {
          "output_type": "stream",
          "text": [
            "4\n",
            "2\n",
            "30\n",
            "2.0\n",
            "32\n",
            "2\n"
          ],
          "name": "stdout"
        }
      ]
    },
    {
      "metadata": {
        "id": "Qf7mZSW9v6ML",
        "colab_type": "code",
        "colab": {},
        "outputId": "8ee6492b-034d-48a8-edfb-c77586cce940"
      },
      "cell_type": "code",
      "source": [
        "# Мы его также можем использовать как текстовый редактор\n",
        "\n",
        "print (\"Hello World!\") "
      ],
      "execution_count": 0,
      "outputs": [
        {
          "output_type": "stream",
          "text": [
            "Hello World!\n"
          ],
          "name": "stdout"
        }
      ]
    },
    {
      "metadata": {
        "id": "BsFb4bsnv6MQ",
        "colab_type": "code",
        "colab": {},
        "outputId": "5a00ca86-cc31-42a1-8703-6c64ef95829f"
      },
      "cell_type": "code",
      "source": [
        "# Мы можем сравнивать и оценивать выражения в виде логических знаков\n",
        "\n",
        "# == равно\n",
        "# != не равно\n",
        "# >, <, >=, <= сравнения больше\\меньше\n",
        "\n",
        "print (2 + 2 == 4) \n",
        "print (\"Paris\" == \"The Capital of Great Britain\")"
      ],
      "execution_count": 0,
      "outputs": [
        {
          "output_type": "stream",
          "text": [
            "True\n",
            "False\n"
          ],
          "name": "stdout"
        }
      ]
    },
    {
      "metadata": {
        "id": "Ib4XsBDhv6MS",
        "colab_type": "code",
        "colab": {},
        "outputId": "599f3408-9e45-46ad-e2f9-584fbc39ee0e"
      },
      "cell_type": "code",
      "source": [
        "# Мы используем \\n для разделения строк (переход на новую строчку)\n",
        "print (\"Knock knock\\nWho’s there?\\nMerry.\\nMerry who?\\nMerry Christmas!\")"
      ],
      "execution_count": 0,
      "outputs": [
        {
          "output_type": "stream",
          "text": [
            "Knock knock\n",
            "Who’s there?\n",
            "Merry.\n",
            "Merry who?\n",
            "Merry Christmas!\n"
          ],
          "name": "stdout"
        }
      ]
    },
    {
      "metadata": {
        "id": "FMOsKbHcv6MW",
        "colab_type": "code",
        "colab": {},
        "outputId": "c8a80c76-dba3-4c11-9313-419ece4c6e4f"
      },
      "cell_type": "code",
      "source": [
        "# Но чтобы получить максимальную пользу, мы будем работать с переменными. Они могут быть различных типов:\n",
        "\n",
        "# Числовая перменная: целое число\n",
        "answer = 42 \n",
        "type(answer)"
      ],
      "execution_count": 0,
      "outputs": [
        {
          "output_type": "execute_result",
          "data": {
            "text/plain": [
              "int"
            ]
          },
          "metadata": {
            "tags": []
          },
          "execution_count": 13
        }
      ]
    },
    {
      "metadata": {
        "id": "zqFzsWz3v6MY",
        "colab_type": "code",
        "colab": {},
        "outputId": "ca963db6-0ef8-46d0-ff5a-d8c8bb7c070f"
      },
      "cell_type": "code",
      "source": [
        "# Числовая переменная: число с плавающей запятой \n",
        "pi  =  3.14159265358979323846264338327950288419716939937510\n",
        "\n",
        "type(pi)"
      ],
      "execution_count": 0,
      "outputs": [
        {
          "output_type": "execute_result",
          "data": {
            "text/plain": [
              "float"
            ]
          },
          "metadata": {
            "tags": []
          },
          "execution_count": 4
        }
      ]
    },
    {
      "metadata": {
        "id": "E4A_e86Dv6Ma",
        "colab_type": "code",
        "colab": {},
        "outputId": "d66c030b-7dcd-41da-dcb0-a56c9d4051a9"
      },
      "cell_type": "code",
      "source": [
        "# Строковая переменная\n",
        "language_we_learn = \"Python\"\n",
        "type(language_we_learn)"
      ],
      "execution_count": 0,
      "outputs": [
        {
          "output_type": "execute_result",
          "data": {
            "text/plain": [
              "str"
            ]
          },
          "metadata": {
            "tags": []
          },
          "execution_count": 14
        }
      ]
    },
    {
      "metadata": {
        "id": "l_wGnnj7v6Mc",
        "colab_type": "code",
        "colab": {},
        "outputId": "d789095d-8828-4374-86c1-80c4778d188a"
      },
      "cell_type": "code",
      "source": [
        "# Список (лист)\n",
        "list_of_things = [1, 2, 3, 4, \"elephant\"]\n",
        "type(list_of_things)"
      ],
      "execution_count": 0,
      "outputs": [
        {
          "output_type": "execute_result",
          "data": {
            "text/plain": [
              "list"
            ]
          },
          "metadata": {
            "tags": []
          },
          "execution_count": 16
        }
      ]
    },
    {
      "metadata": {
        "id": "rKOnsVAhv6Mi",
        "colab_type": "code",
        "colab": {},
        "outputId": "46c3c7fd-c509-48bb-c616-e0086b6b993a"
      },
      "cell_type": "code",
      "source": [
        "# Словарь\n",
        "US_presidents_age = {\"Trump\" : 70, \"Obama\" : 55, \"Bush\" : 70, \"Сlinton\" : \"seventy\"}\n",
        "\n",
        "type(US_presidents_age)"
      ],
      "execution_count": 0,
      "outputs": [
        {
          "output_type": "execute_result",
          "data": {
            "text/plain": [
              "dict"
            ]
          },
          "metadata": {
            "tags": []
          },
          "execution_count": 17
        }
      ]
    },
    {
      "metadata": {
        "id": "Y9J9kAfov6Mk",
        "colab_type": "code",
        "colab": {},
        "outputId": "293a2bbf-ed0b-44c8-f942-0f51b507e447"
      },
      "cell_type": "code",
      "source": [
        "# Мы не можем сделать много с самими числами, но используя строки и списки мы можем получить следующее:\n",
        "\n",
        "print (language_we_learn[3]) # Возвращает четвертый элемент этой строки. Стоит отметить, что отчет индексов идет с 0 в Python\n",
        "print (len (list_of_things)) # Возвращает длину списка \n",
        "\n",
        "short_list_of_things = list_of_things[0:4] # We can assign the part of the existing list to a new list. This is called slicing\n",
        "print (min (short_list_of_things)) # Возвращает максимальное значение в списке\n",
        "print (max (short_list_of_things)) # Возвращает минимальное значение в списке\n"
      ],
      "execution_count": 0,
      "outputs": [
        {
          "output_type": "stream",
          "text": [
            "h\n",
            "5\n",
            "1\n",
            "4\n"
          ],
          "name": "stdout"
        }
      ]
    },
    {
      "metadata": {
        "id": "5uTWp8Dyv6Mo",
        "colab_type": "code",
        "colab": {},
        "outputId": "6fb946cf-5d45-4551-b34f-1f5b526bfbeb"
      },
      "cell_type": "code",
      "source": [
        "# В то время как строки неизменны (immutable, их нельзя изменить), списки изменяемы и мы можем добавить, удалить или заменить переменные внутри списка\n",
        "\n",
        "short_list_of_things.append(\"Elephant\") # добавляем новый элемент в список\n",
        "print (short_list_of_things)\n",
        "print (short_list_of_things.index(\"Elephant\")) # проверям индекс (позицию) элемента 'Elephant' в списке"
      ],
      "execution_count": 0,
      "outputs": [
        {
          "output_type": "stream",
          "text": [
            "[1, 2, 3, 4, 'Elephant']\n",
            "4\n"
          ],
          "name": "stdout"
        }
      ]
    },
    {
      "metadata": {
        "id": "WkO5B1kNv6Ms",
        "colab_type": "code",
        "colab": {},
        "outputId": "822d322c-23ba-4060-b5a0-77f0bfd22145"
      },
      "cell_type": "code",
      "source": [
        "# С помощью команды .append мы добавляем новый элемент в конец списка по умолчанию. Однако, мы можем\n",
        "# вставить его в любую доступную позицию \n",
        "short_list_of_things.insert(0, short_list_of_things[4]) \n",
        "print (short_list_of_things)"
      ],
      "execution_count": 0,
      "outputs": [
        {
          "output_type": "stream",
          "text": [
            "['Elephant', 1, 2, 3, 4, 'Elephant']\n"
          ],
          "name": "stdout"
        }
      ]
    },
    {
      "metadata": {
        "id": "gmeZrD9Dv6Mu",
        "colab_type": "code",
        "colab": {},
        "outputId": "7bbd9da2-afa7-4052-bdbb-17f4200000c6"
      },
      "cell_type": "code",
      "source": [
        "# Мы также можем убрать элементы из списка\n",
        "short_list_of_things.remove(\"Elephant\")\n",
        "print (short_list_of_things)"
      ],
      "execution_count": 0,
      "outputs": [
        {
          "output_type": "stream",
          "text": [
            "[1, 2, 3, 4, 'Elephant']\n"
          ],
          "name": "stdout"
        }
      ]
    },
    {
      "metadata": {
        "id": "iiKJ1zDTv6Mw",
        "colab_type": "code",
        "colab": {},
        "outputId": "ce46ef0c-3969-4168-accb-021dbfe21505"
      },
      "cell_type": "code",
      "source": [
        "# Есть и другой способ убрать элемент из списка\n",
        "del short_list_of_things[4]\n",
        "print (short_list_of_things)"
      ],
      "execution_count": 0,
      "outputs": [
        {
          "output_type": "stream",
          "text": [
            "[1, 2, 3, 4]\n"
          ],
          "name": "stdout"
        }
      ]
    },
    {
      "metadata": {
        "id": "7T_8UXEqv6Mz",
        "colab_type": "text"
      },
      "cell_type": "markdown",
      "source": [
        "## Индексирование / Разделение"
      ]
    },
    {
      "metadata": {
        "id": "394l4AIiv6M0",
        "colab_type": "code",
        "colab": {},
        "outputId": "837372d9-82e2-4871-8163-0763cf399a7f"
      },
      "cell_type": "code",
      "source": [
        "s = np.arange(13)**2\n",
        "s"
      ],
      "execution_count": 0,
      "outputs": [
        {
          "output_type": "execute_result",
          "data": {
            "text/plain": [
              "array([  0,   1,   4,   9,  16,  25,  36,  49,  64,  81, 100, 121, 144])"
            ]
          },
          "metadata": {
            "tags": []
          },
          "execution_count": 25
        }
      ]
    },
    {
      "metadata": {
        "id": "D1zfp94jv6M1",
        "colab_type": "code",
        "colab": {},
        "outputId": "a7b75359-e278-407b-f295-b299d7dab2e3"
      },
      "cell_type": "code",
      "source": [
        "# Используя квадратные скобки, мы получаем значение в указанном индексе переменной. Напоминаем, что индексирование начинается с 0\n",
        "s[0], s[4], s[-1]"
      ],
      "execution_count": 0,
      "outputs": [
        {
          "output_type": "execute_result",
          "data": {
            "text/plain": [
              "(0, 16, 144)"
            ]
          },
          "metadata": {
            "tags": []
          },
          "execution_count": 26
        }
      ]
    },
    {
      "metadata": {
        "id": "dTVcD2Y_v6M5",
        "colab_type": "code",
        "colab": {},
        "outputId": "7b43b0af-9e0f-4462-bdc5-b23c74e26bbe"
      },
      "cell_type": "code",
      "source": [
        "# Используем : для обозначения диапазона. array[start:stop], не указывая start или stop, мы говорим использовать начало\\конец массива.\n",
        "s[1:5]"
      ],
      "execution_count": 0,
      "outputs": [
        {
          "output_type": "execute_result",
          "data": {
            "text/plain": [
              "array([ 1,  4,  9, 16])"
            ]
          },
          "metadata": {
            "tags": []
          },
          "execution_count": 27
        }
      ]
    },
    {
      "metadata": {
        "id": "k5FmXiMUv6M8",
        "colab_type": "code",
        "colab": {},
        "outputId": "50e529bc-aaca-4181-c5ba-5209f185c06f"
      },
      "cell_type": "code",
      "source": [
        "# Используем отрицательные индексы для отчета от конца массива\n",
        "s[-4:]"
      ],
      "execution_count": 0,
      "outputs": [
        {
          "output_type": "execute_result",
          "data": {
            "text/plain": [
              "array([ 81, 100, 121, 144])"
            ]
          },
          "metadata": {
            "tags": []
          },
          "execution_count": 29
        }
      ]
    },
    {
      "metadata": {
        "id": "-mqBLZJ9v6M-",
        "colab_type": "code",
        "colab": {},
        "outputId": "662a47ff-df45-445b-a7c6-b349194d43ea"
      },
      "cell_type": "code",
      "source": [
        "# Также его можно использовать как шаг - array[start:stop:stepsize]\n",
        "# Тут мы начинаем с пятого элемента с конца и двигаемся вперед к началу массива с шагом 2\n",
        "s[-5::-2]"
      ],
      "execution_count": 0,
      "outputs": [
        {
          "output_type": "execute_result",
          "data": {
            "text/plain": [
              "array([64, 36, 16,  4,  0])"
            ]
          },
          "metadata": {
            "tags": []
          },
          "execution_count": 30
        }
      ]
    },
    {
      "metadata": {
        "id": "0lWUh_6fv6NA",
        "colab_type": "code",
        "colab": {}
      },
      "cell_type": "code",
      "source": [
        ""
      ],
      "execution_count": 0,
      "outputs": []
    },
    {
      "metadata": {
        "id": "IzXzpQfvh3pX",
        "colab_type": "text"
      },
      "cell_type": "markdown",
      "source": [
        "## Числа"
      ]
    },
    {
      "metadata": {
        "id": "u-tNzkRxiFfH",
        "colab_type": "code",
        "colab": {
          "base_uri": "https://localhost:8080/",
          "height": 85
        },
        "outputId": "5f19389b-a5bf-4c2f-c4ef-3860c6b5749e"
      },
      "cell_type": "code",
      "source": [
        "# Для работы с числами, мы можем воспользоваться многичисленным операциями\n",
        "# Для удобства сразу выведем на экран результаты вычислений\n",
        "\n",
        "print(123 + 222) # Целочисленное сложение\n",
        "\n",
        "print(1.5 * 4) # Умножение вещественных чисел\n",
        "\n",
        "print(2 ** 100) # 2 в степени 100"
      ],
      "execution_count": 4,
      "outputs": [
        {
          "output_type": "stream",
          "text": [
            "345\n",
            "6.0\n",
            "1267650600228229401496703205376\n"
          ],
          "name": "stdout"
        },
        {
          "output_type": "execute_result",
          "data": {
            "text/plain": [
              "6.283"
            ]
          },
          "metadata": {
            "tags": []
          },
          "execution_count": 4
        }
      ]
    },
    {
      "metadata": {
        "id": "5sy3-oYfiwn5",
        "colab_type": "code",
        "colab": {
          "base_uri": "https://localhost:8080/",
          "height": 34
        },
        "outputId": "662b3b11-0065-449d-dd1b-d83ab3e64fe0"
      },
      "cell_type": "code",
      "source": [
        "# Помимо выражений для выполнения операций с числами в составе Python есть несколько полезных модулей:\n",
        "\n",
        "import math # через функцию импорта мы загружаем дополнительные модули, которые позволяют нам выполнять дополнительные операции\n",
        "math.pi # Это, например, вывод числа Pi"
      ],
      "execution_count": 5,
      "outputs": [
        {
          "output_type": "execute_result",
          "data": {
            "text/plain": [
              "3.141592653589793"
            ]
          },
          "metadata": {
            "tags": []
          },
          "execution_count": 5
        }
      ]
    },
    {
      "metadata": {
        "id": "ZWhtoenWjDo5",
        "colab_type": "code",
        "colab": {
          "base_uri": "https://localhost:8080/",
          "height": 34
        },
        "outputId": "ac6a0c1c-f22d-48fe-b581-83de6b56b0c2"
      },
      "cell_type": "code",
      "source": [
        "math.sqrt(85) # А это квадратный корень числа 85"
      ],
      "execution_count": 6,
      "outputs": [
        {
          "output_type": "execute_result",
          "data": {
            "text/plain": [
              "9.219544457292887"
            ]
          },
          "metadata": {
            "tags": []
          },
          "execution_count": 6
        }
      ]
    },
    {
      "metadata": {
        "id": "Up4DdYhAv6NB",
        "colab_type": "text"
      },
      "cell_type": "markdown",
      "source": [
        "## Строки"
      ]
    },
    {
      "metadata": {
        "id": "UQ-Ovqh0v6NC",
        "colab_type": "code",
        "colab": {},
        "outputId": "7aa5b674-44da-440d-f057-3c944834e929"
      },
      "cell_type": "code",
      "source": [
        "# Несмотря на то что строки неизменны, над ними можно совершать различные операции \n",
        "\n",
        "yt_pos = language_we_learn.find(\"yt\") # метод .find возвращает индекс элемента строки с которого начинается указанная подстрока\n",
        "\n",
        "print (yt_pos)"
      ],
      "execution_count": 0,
      "outputs": [
        {
          "output_type": "stream",
          "text": [
            "1\n"
          ],
          "name": "stdout"
        }
      ]
    },
    {
      "metadata": {
        "id": "sNX29Ildv6NE",
        "colab_type": "code",
        "colab": {},
        "outputId": "93616598-3547-4d34-93e5-e6cf0ca84647"
      },
      "cell_type": "code",
      "source": [
        "x = 'This is a string'\n",
        "print(x[0]) # первый символ\n",
        "print(x[0:1]) # первый символ, но мы конкретно указали конечный символ ( грубо говоря диапазон)\n",
        "print(x[0:2]) # первые два символа"
      ],
      "execution_count": 0,
      "outputs": [
        {
          "output_type": "stream",
          "text": [
            "T\n",
            "T\n",
            "Th\n"
          ],
          "name": "stdout"
        }
      ]
    },
    {
      "metadata": {
        "id": "ZmVjwD3uv6NH",
        "colab_type": "code",
        "colab": {},
        "outputId": "ef209acc-fc54-4abc-97e0-d9df3c54b1fb"
      },
      "cell_type": "code",
      "source": [
        "# Мы можем применять разделение и на строки\n",
        "\n",
        "print (language_we_learn[yt_pos:])\n",
        "print (language_we_learn[yt_pos : len(language_we_learn) - 1]) # метод len возращает длину строки"
      ],
      "execution_count": 0,
      "outputs": [
        {
          "output_type": "stream",
          "text": [
            "ython\n",
            "ytho\n"
          ],
          "name": "stdout"
        }
      ]
    },
    {
      "metadata": {
        "id": "j6Xcebz1v6NJ",
        "colab_type": "code",
        "colab": {},
        "outputId": "0eb5005c-62b2-410b-9943-a5090f96bf66"
      },
      "cell_type": "code",
      "source": [
        "animals = \"catdogfrog\"\n",
        "c  = animals[:3]   # первые три символа\n",
        "d  = animals[3:6]  # с четвертого по шестой символы\n",
        "f = animals[6:len(animals)]   \n",
        "\n",
        "print(c,d,f)"
      ],
      "execution_count": 0,
      "outputs": [
        {
          "output_type": "stream",
          "text": [
            "cat dog frog\n"
          ],
          "name": "stdout"
        }
      ]
    },
    {
      "metadata": {
        "id": "38Tq6Y5dv6NL",
        "colab_type": "code",
        "colab": {},
        "outputId": "c6e57d4d-ab94-4d33-b6f4-5c44ae428181"
      },
      "cell_type": "code",
      "source": [
        "parrot = \"Norwegian Blue\"\n",
        "\n",
        "print(parrot.lower()) # метод приводит все символы к нижнему регистру\n"
      ],
      "execution_count": 0,
      "outputs": [
        {
          "output_type": "stream",
          "text": [
            "norwegian blue\n"
          ],
          "name": "stdout"
        }
      ]
    },
    {
      "metadata": {
        "id": "XiPgFKeOv6NO",
        "colab_type": "code",
        "colab": {},
        "outputId": "523a6648-6126-45a6-ca4e-03ca54b62fbd"
      },
      "cell_type": "code",
      "source": [
        "ministry = \"The Ministry of Silly Walks\"\n",
        "\n",
        "print(len(ministry))\n",
        "print(ministry.upper()) # метод приводит все символы к верхнему регистру"
      ],
      "execution_count": 0,
      "outputs": [
        {
          "output_type": "stream",
          "text": [
            "27\n",
            "THE MINISTRY OF SILLY WALKS\n"
          ],
          "name": "stdout"
        }
      ]
    },
    {
      "metadata": {
        "id": "GeelpVmHv6NQ",
        "colab_type": "code",
        "colab": {
          "base_uri": "https://localhost:8080/",
          "height": 85
        },
        "outputId": "20efe847-d560-45e3-c7a6-4d49032188b3"
      },
      "cell_type": "code",
      "source": [
        "name = input(\"What is your name?\")\n",
        "surname = input(\"What is your surname?\")\n",
        "color = input(\"What is your favorite color?\")\n",
        "\n",
        "print (\"Ah, so your name is %s, your surname is %s, \" \\\n",
        "\"and your favorite color is %s.\" % (name, surname, color))"
      ],
      "execution_count": 3,
      "outputs": [
        {
          "output_type": "stream",
          "text": [
            "What is your name?Tanya\n",
            "What is your surname?Rogovich\n",
            "What is your favorite color?Blue\n",
            "Ah, so your name is Tanya, your surname is Rogovich, and your favorite color is Blue.\n"
          ],
          "name": "stdout"
        }
      ]
    },
    {
      "metadata": {
        "id": "yBDrBBiNv6NR",
        "colab_type": "code",
        "colab": {},
        "outputId": "3d6d7f5f-374f-4cb2-cba0-7285c6b98124"
      },
      "cell_type": "code",
      "source": [
        "firstname = 'Tatiana'\n",
        "lastname = 'Rogovich'\n",
        "\n",
        "print(firstname + ' ' + lastname)\n",
        "print(firstname*3)\n",
        "print('Tatiana' in firstname)\n"
      ],
      "execution_count": 0,
      "outputs": [
        {
          "output_type": "stream",
          "text": [
            "Tatiana Rogovich\n",
            "TatianaTatianaTatiana\n",
            "True\n"
          ],
          "name": "stdout"
        }
      ]
    },
    {
      "metadata": {
        "id": "t5wPH3-OjmJW",
        "colab_type": "code",
        "colab": {
          "base_uri": "https://localhost:8080/",
          "height": 68
        },
        "outputId": "47e4cc46-dd52-4d55-c455-8429331dd8ab"
      },
      "cell_type": "code",
      "source": [
        "# Наконец, будучи последовательностями, строки поддерживают операцию конкатенации, которая записывается в виде знака плюс (объединение двух строк\n",
        "# в одну строку), и операцию повторения (новая строка создается за счет многократного повторения другой строки):\n",
        "S = 'Spam'\n",
        "S2 = S + 'xyz' # Конкатенация\n",
        "S3 = S * 8 # Повторение\n",
        "\n",
        "print(S)\n",
        "print(S2)\n",
        "print(S3)\n",
        "\n",
        "# Обратите внимание, что знак плюс (+) имеет различное значение для разных\n",
        "# объектов: для чисел – сложение, а для строк – конкатенация."
      ],
      "execution_count": 7,
      "outputs": [
        {
          "output_type": "stream",
          "text": [
            "Spam\n",
            "Spamxyz\n",
            "SpamSpamSpamSpamSpamSpamSpamSpam\n"
          ],
          "name": "stdout"
        }
      ]
    },
    {
      "metadata": {
        "id": "c__f2jK4kN4M",
        "colab_type": "code",
        "colab": {
          "base_uri": "https://localhost:8080/",
          "height": 34
        },
        "outputId": "b5a8c063-6a8e-4069-92a9-3a6fa42670c0"
      },
      "cell_type": "code",
      "source": [
        "line = 'aaa,bbb,ccccc,dd'\n",
        "line.split(',') # Разбивает строку по разделителю и создает список строк ['aaa', 'bbb', 'ccccc', 'dd']"
      ],
      "execution_count": 8,
      "outputs": [
        {
          "output_type": "execute_result",
          "data": {
            "text/plain": [
              "['aaa', 'bbb', 'ccccc', 'dd']"
            ]
          },
          "metadata": {
            "tags": []
          },
          "execution_count": 8
        }
      ]
    },
    {
      "metadata": {
        "id": "wCFrhsCRv6NY",
        "colab_type": "code",
        "colab": {},
        "outputId": "9ad21a81-e5f7-488f-c450-f50bddf8eb2b"
      },
      "cell_type": "code",
      "source": [
        "# В Python мы можем спросить у пользователя ввод данных\n",
        "\n",
        "number = random.randrange (1,10) # для запуска этой команды, нам нужен обратиться к самому модулю и вызвать нужный метод - имя_модуля.имя_метода\n",
        "guessed_number = int(input(\"Guess the number: \"))\n",
        "\n",
        "print (\"The generated number was: %s\" %(number)) # %s это заместитель строки (что мы выводим в строке переменную), %() это оператор, который показывает, какую переменную нужно ввести\n"
      ],
      "execution_count": 0,
      "outputs": [
        {
          "output_type": "stream",
          "text": [
            "Guess the number: 4\n",
            "The generated number was: 8\n"
          ],
          "name": "stdout"
        }
      ]
    },
    {
      "metadata": {
        "id": "mRyEmKBrk2PG",
        "colab_type": "text"
      },
      "cell_type": "markdown",
      "source": [
        "## Списки"
      ]
    },
    {
      "metadata": {
        "id": "RjEHCX0Wk792",
        "colab_type": "code",
        "colab": {
          "base_uri": "https://localhost:8080/",
          "height": 34
        },
        "outputId": "c4874501-2635-4d0a-885c-d210117c7a08"
      },
      "cell_type": "code",
      "source": [
        "# Поскольку списки являются последовательностями, они поддерживают все операции над последовательностями.\n",
        "# Единственное отличие состоит в том, что результатом таких операций являются списки, а не строки.\n",
        "\n",
        "L = [123, 'spam', 1.23] # Список из трех объектов разных типов\n",
        "len(L) # Число элементов в списке"
      ],
      "execution_count": 10,
      "outputs": [
        {
          "output_type": "execute_result",
          "data": {
            "text/plain": [
              "3"
            ]
          },
          "metadata": {
            "tags": []
          },
          "execution_count": 10
        }
      ]
    },
    {
      "metadata": {
        "id": "64sfoBwSlIgq",
        "colab_type": "code",
        "colab": {
          "base_uri": "https://localhost:8080/",
          "height": 34
        },
        "outputId": "b697bcdf-587d-4f36-cbe9-f14283782910"
      },
      "cell_type": "code",
      "source": [
        "# Мы можем обращаться к элементам списка по их индексам, получать срезы\n",
        "# и так далее, точно так же, как и в случае со строками:\n",
        "\n",
        "L[0] # Доступ к элементу списка по его индексу"
      ],
      "execution_count": 11,
      "outputs": [
        {
          "output_type": "execute_result",
          "data": {
            "text/plain": [
              "123"
            ]
          },
          "metadata": {
            "tags": []
          },
          "execution_count": 11
        }
      ]
    },
    {
      "metadata": {
        "id": "uiHGHZoslVly",
        "colab_type": "code",
        "colab": {
          "base_uri": "https://localhost:8080/",
          "height": 34
        },
        "outputId": "390b0fa5-9afb-4fe9-f5d2-ae74a66c0c14"
      },
      "cell_type": "code",
      "source": [
        "L[:-1] # Операция получения среза возвращает новый список"
      ],
      "execution_count": 12,
      "outputs": [
        {
          "output_type": "execute_result",
          "data": {
            "text/plain": [
              "[123, 'spam']"
            ]
          },
          "metadata": {
            "tags": []
          },
          "execution_count": 12
        }
      ]
    },
    {
      "metadata": {
        "id": "hLe0DadYlXZk",
        "colab_type": "code",
        "colab": {
          "base_uri": "https://localhost:8080/",
          "height": 34
        },
        "outputId": "8e424143-604b-4910-fff0-82fce677af61"
      },
      "cell_type": "code",
      "source": [
        "L + [4, 5, 6] # Операция конкатенации также возвращает новый список"
      ],
      "execution_count": 13,
      "outputs": [
        {
          "output_type": "execute_result",
          "data": {
            "text/plain": [
              "[123, 'spam', 1.23, 4, 5, 6]"
            ]
          },
          "metadata": {
            "tags": []
          },
          "execution_count": 13
        }
      ]
    },
    {
      "metadata": {
        "id": "uLGKJHK6leWQ",
        "colab_type": "code",
        "colab": {
          "base_uri": "https://localhost:8080/",
          "height": 34
        },
        "outputId": "98086f57-96b1-4c46-db2a-31637b0d8549"
      },
      "cell_type": "code",
      "source": [
        "L.append('NI') # Увеличение: в конец списка добавляется новый объект\n",
        "L"
      ],
      "execution_count": 17,
      "outputs": [
        {
          "output_type": "execute_result",
          "data": {
            "text/plain": [
              "[123, 'spam', 1.23, 'NI', 'NI', 'NI']"
            ]
          },
          "metadata": {
            "tags": []
          },
          "execution_count": 17
        }
      ]
    },
    {
      "metadata": {
        "id": "dnqp3rIslnxx",
        "colab_type": "code",
        "colab": {
          "base_uri": "https://localhost:8080/",
          "height": 34
        },
        "outputId": "573b4952-8c4f-4e55-eda7-803981e2a371"
      },
      "cell_type": "code",
      "source": [
        "L.pop(2) # Уменьшение: удаляется элемент из середины списка"
      ],
      "execution_count": 18,
      "outputs": [
        {
          "output_type": "execute_result",
          "data": {
            "text/plain": [
              "1.23"
            ]
          },
          "metadata": {
            "tags": []
          },
          "execution_count": 18
        }
      ]
    },
    {
      "metadata": {
        "id": "E7MSv4o3ls0r",
        "colab_type": "code",
        "colab": {
          "base_uri": "https://localhost:8080/",
          "height": 34
        },
        "outputId": "8c5e5929-377b-4a5c-b769-de92203302e3"
      },
      "cell_type": "code",
      "source": [
        "# Списки можно сортировать\n",
        "\n",
        "M = ['bb', 'aa', 'cc']\n",
        "M.sort()\n",
        "M"
      ],
      "execution_count": 19,
      "outputs": [
        {
          "output_type": "execute_result",
          "data": {
            "text/plain": [
              "['aa', 'bb', 'cc']"
            ]
          },
          "metadata": {
            "tags": []
          },
          "execution_count": 19
        }
      ]
    },
    {
      "metadata": {
        "id": "8jo2JtZSl2OJ",
        "colab_type": "code",
        "colab": {
          "base_uri": "https://localhost:8080/",
          "height": 34
        },
        "outputId": "a372a11f-a824-41cc-e38d-71921fb7d887"
      },
      "cell_type": "code",
      "source": [
        "M.reverse()\n",
        "M\n",
        "\n",
        "# Метод sort, использованный в этом примере, по умолчанию упорядочивает элементы списка по возрастанию, \n",
        "# а метод reverse – по убыванию. В обоих случаях происходит непосредственное изменение самого списка."
      ],
      "execution_count": 20,
      "outputs": [
        {
          "output_type": "execute_result",
          "data": {
            "text/plain": [
              "['cc', 'bb', 'aa']"
            ]
          },
          "metadata": {
            "tags": []
          },
          "execution_count": 20
        }
      ]
    },
    {
      "metadata": {
        "id": "3n1JqnRFmHOW",
        "colab_type": "code",
        "colab": {
          "base_uri": "https://localhost:8080/",
          "height": 34
        },
        "outputId": "73ef6b98-9828-48f3-e8c0-ecae0d949eda"
      },
      "cell_type": "code",
      "source": [
        "# Можно создавать вложенные списки\n",
        "\n",
        "M = [[1, 2, 3], # Матрица 3 x 3 в виде вложенных списков\n",
        "[4, 5, 6], # Выражение в квадратных скобках может\n",
        "[7, 8, 9]] # занимать несколько строк\n",
        "\n",
        "M"
      ],
      "execution_count": 23,
      "outputs": [
        {
          "output_type": "execute_result",
          "data": {
            "text/plain": [
              "[[1, 2, 3], [4, 5, 6], [7, 8, 9]]"
            ]
          },
          "metadata": {
            "tags": []
          },
          "execution_count": 23
        }
      ]
    },
    {
      "metadata": {
        "id": "hZq5RGSvv6Nj",
        "colab_type": "text"
      },
      "cell_type": "markdown",
      "source": [
        "## Словари"
      ]
    },
    {
      "metadata": {
        "id": "xSNgG0V7v6Nj",
        "colab_type": "code",
        "colab": {},
        "outputId": "55c904a0-e9d2-4ccb-90ed-cc25a60b1374"
      },
      "cell_type": "code",
      "source": [
        "x = {'Christopher Brooks': 'brooksch@umich.edu', 'Bill Gates': 'billg@microsoft.com'}\n",
        "x['Christopher Brooks'] # Получаем значение с помощью оператора индексирования (квадратных скобок)\n"
      ],
      "execution_count": 0,
      "outputs": [
        {
          "output_type": "execute_result",
          "data": {
            "text/plain": [
              "'brooksch@umich.edu'"
            ]
          },
          "metadata": {
            "tags": []
          },
          "execution_count": 14
        }
      ]
    },
    {
      "metadata": {
        "id": "P1z-7MZjv6Nl",
        "colab_type": "code",
        "colab": {},
        "outputId": "7bb3ba0d-346d-4a49-f01d-a7bc68c2a73a"
      },
      "cell_type": "code",
      "source": [
        "for name in x:\n",
        "    print(x[name])"
      ],
      "execution_count": 0,
      "outputs": [
        {
          "output_type": "stream",
          "text": [
            "brooksch@umich.edu\n",
            "billg@microsoft.com\n"
          ],
          "name": "stdout"
        }
      ]
    },
    {
      "metadata": {
        "id": "DLmpCgrxv6No",
        "colab_type": "code",
        "colab": {},
        "outputId": "05bcd17f-f23a-49f1-e9b0-1c274a379fb6"
      },
      "cell_type": "code",
      "source": [
        "for name, email in x.items():\n",
        "    print(name)\n",
        "    print(email)"
      ],
      "execution_count": 0,
      "outputs": [
        {
          "output_type": "stream",
          "text": [
            "Christopher Brooks\n",
            "brooksch@umich.edu\n",
            "Bill Gates\n",
            "billg@microsoft.com\n"
          ],
          "name": "stdout"
        }
      ]
    },
    {
      "metadata": {
        "id": "JixW_pGev6Nq",
        "colab_type": "code",
        "colab": {},
        "outputId": "15e64871-ef58-4a96-b52a-0a4ee1126254"
      },
      "cell_type": "code",
      "source": [
        "menu = {} # Пустой словарь\n",
        "menu['Chicken Alfredo'] = 14.50 # Добавляем новую пару ключ-значение\n",
        "print (menu['Chicken Alfredo'])"
      ],
      "execution_count": 0,
      "outputs": [
        {
          "output_type": "stream",
          "text": [
            "14.5\n",
            "There are 4 items on the menu.\n",
            "{'Coffee': 3.5, 'Chicken Alfredo': 14.5, 'Udon': 20.0, 'Tea': 2.0}\n"
          ],
          "name": "stdout"
        }
      ]
    },
    {
      "metadata": {
        "id": "fKFXg1wmv6Nt",
        "colab_type": "code",
        "colab": {},
        "outputId": "5e9cac57-dd42-412f-acbe-13df59d55396"
      },
      "cell_type": "code",
      "source": [
        "menu['Udon'] = 20.00\n",
        "menu['Coffee'] = 3.50\n",
        "menu['Tea'] = 2.00\n",
        "\n",
        "\n",
        "\n",
        "print (\"There are \" + str(len(menu)) + \" items on the menu.\")\n",
        "print (menu)"
      ],
      "execution_count": 0,
      "outputs": [
        {
          "output_type": "stream",
          "text": [
            "There are 4 items on the menu.\n",
            "{'Coffee': 3.5, 'Chicken Alfredo': 14.5, 'Udon': 20.0, 'Tea': 2.0}\n"
          ],
          "name": "stdout"
        }
      ]
    },
    {
      "metadata": {
        "id": "dO24jWHYYAYZ",
        "colab_type": "text"
      },
      "cell_type": "markdown",
      "source": [
        "## Конструкции  if-elif-else\n"
      ]
    },
    {
      "metadata": {
        "id": "UMvv2RSOZ6LN",
        "colab_type": "code",
        "colab": {
          "base_uri": "https://localhost:8080/",
          "height": 36
        },
        "outputId": "e44bb738-5b95-43cb-8f4e-4218e4df9e71"
      },
      "cell_type": "code",
      "source": [
        "# Пример работы с условными кострукциями if\n",
        "\n",
        "a = 3\n",
        "if a == 3: # проверяем корректность условия и выполняем код, если оно верно\n",
        "    print(\"hello 2\")"
      ],
      "execution_count": 3,
      "outputs": [
        {
          "output_type": "stream",
          "text": [
            "hello 2\n"
          ],
          "name": "stdout"
        }
      ]
    },
    {
      "metadata": {
        "id": "d4HcNNa1YZcx",
        "colab_type": "code",
        "colab": {
          "base_uri": "https://localhost:8080/",
          "height": 74
        },
        "outputId": "915793c8-0a60-4644-c8b8-a2d7672d78e7"
      },
      "cell_type": "code",
      "source": [
        "# Пример работы с условными кострукциями if-else\n",
        "\n",
        "amount = int(input(\"Enter amount: \")) # вводим число\n",
        "\n",
        "\n",
        "if amount<1000: #проверяем условие (введеное число меньше 1000)\n",
        "   discount = amount*0.05 # далее идет код, который исполняется при удовлетворении\n",
        "   print (\"Discount\",discount) #условия\n",
        "else: # дальше идет опциональная часть кода, которая исполняется если условие НЕ выполнено\n",
        "   discount = amount*0.10\n",
        "   print (\"Discount\",discount)\n",
        "    \n",
        "print (\"Net payable:\",amount-discount)\n"
      ],
      "execution_count": 1,
      "outputs": [
        {
          "output_type": "stream",
          "text": [
            "Enter amount: 986\n",
            "Discount 49.300000000000004\n",
            "Net payable: 936.7\n"
          ],
          "name": "stdout"
        }
      ]
    },
    {
      "metadata": {
        "id": "ggEkU8J8ZRwY",
        "colab_type": "code",
        "colab": {
          "base_uri": "https://localhost:8080/",
          "height": 74
        },
        "outputId": "7968ccd0-af2f-4ea3-92d3-e7bcd01ae421"
      },
      "cell_type": "code",
      "source": [
        "# Пример работы с условными кострукциями if-else-elif\n",
        "\n",
        "amount = int(input(\"Enter amount: \")) # вводим число\n",
        "\n",
        "\n",
        "if amount<1000: #проверяем условие (введеное число меньше 1000)\n",
        "   discount = amount*0.05\n",
        "   print (\"Discount\",discount)\n",
        "elif amount<5000: # если первое условие не выполнено, то проверяем второе условие\n",
        "   discount = amount*0.10 # и выполняет данный код при его удовлетворении\n",
        "   print (\"Discount\",discount)\n",
        "else: # если же оба условия не выполнены, то выполняем эту часть кода\n",
        "   discount = amount*0.15\n",
        "   print (\"Discount\",discount)\n",
        "  \n",
        "# Стоит отметить,что количество блоков elif может быть любым\n",
        "    \n",
        "print (\"Net payable:\",amount-discount)"
      ],
      "execution_count": 2,
      "outputs": [
        {
          "output_type": "stream",
          "text": [
            "Enter amount: 3203\n",
            "Discount 320.3\n",
            "Net payable: 2882.7\n"
          ],
          "name": "stdout"
        }
      ]
    },
    {
      "metadata": {
        "id": "z8HJOKW5aOwD",
        "colab_type": "code",
        "colab": {
          "base_uri": "https://localhost:8080/",
          "height": 55
        },
        "outputId": "1b3324a8-5f4e-440c-f556-b9527f790d1a"
      },
      "cell_type": "code",
      "source": [
        "# Пример работы с условными кострукциями if-else-elif вложенными друг в друга\n",
        "# Одно условия можно вставлять внутрь другого, главное при этом не запутаться\n",
        "\n",
        "num = int(input(\"Enter number: \"))\n",
        "\n",
        "if num > 100:\n",
        "    if num < 150:\n",
        "        print(\"Число больше ста, но меньше ста пятидесяти\")\n",
        "    elif num < 200:\n",
        "        print(\"Число больше ста, но меньше двухсот\")\n",
        "elif num > 50:\n",
        "    if num < 90:\n",
        "        print(\"Число больше пятидесяти, но меньше девяноста\")\n",
        "    else:\n",
        "        print(\"Число больше пятидесяти и больше девяноста\")\n",
        "else:\n",
        "    print(\"Число меньше пятидесяти\")"
      ],
      "execution_count": 6,
      "outputs": [
        {
          "output_type": "stream",
          "text": [
            "Enter number: 120\n",
            "Число больше ста, но меньше ста пятидесяти\n"
          ],
          "name": "stdout"
        }
      ]
    },
    {
      "metadata": {
        "id": "GDbgg9rUv6Nx",
        "colab_type": "text"
      },
      "cell_type": "markdown",
      "source": [
        "## Функции"
      ]
    },
    {
      "metadata": {
        "id": "Vhpfm5FIv6Nx",
        "colab_type": "code",
        "colab": {},
        "outputId": "f5a9d1c9-c59f-4d92-ee3f-b805a380a491"
      },
      "cell_type": "code",
      "source": [
        "def add_numbers(x,y,z=None):\n",
        "    if (z==None):\n",
        "        return x+y\n",
        "    else:\n",
        "        return x+y+z\n",
        "\n",
        "print(add_numbers(1, 2))\n",
        "print(add_numbers(1, 2, 3))"
      ],
      "execution_count": 0,
      "outputs": [
        {
          "output_type": "stream",
          "text": [
            "3\n",
            "6\n"
          ],
          "name": "stdout"
        }
      ]
    },
    {
      "metadata": {
        "id": "UCT-aT0Vv6Nz",
        "colab_type": "code",
        "colab": {},
        "outputId": "1c896947-a5da-4b40-cea7-5d6bb26882e2"
      },
      "cell_type": "code",
      "source": [
        "def greater_less_equal_5(answer):\n",
        "    if answer > 5:\n",
        "        return 1\n",
        "    elif answer <5 :          \n",
        "        return -1\n",
        "    else:\n",
        "        return 0\n",
        "        \n",
        "print (greater_less_equal_5(4))\n",
        "print (greater_less_equal_5(5))\n",
        "print (greater_less_equal_5(6))"
      ],
      "execution_count": 0,
      "outputs": [
        {
          "output_type": "stream",
          "text": [
            "-1\n",
            "0\n",
            "1\n"
          ],
          "name": "stdout"
        }
      ]
    },
    {
      "metadata": {
        "id": "O5Elyx2iv6N0",
        "colab_type": "code",
        "colab": {},
        "outputId": "a87c0c7e-3732-4b7a-e275-80e2ea90c437"
      },
      "cell_type": "code",
      "source": [
        "def power(base,exponent):  # Добавьте свои параметры здесь\n",
        "    result = base**exponent\n",
        "    print (\"%d to the power of %d is %d.\" % (base, exponent, result))\n",
        "\n",
        "power(37,4)  # Добавьте свои аргументы здесь"
      ],
      "execution_count": 0,
      "outputs": [
        {
          "output_type": "stream",
          "text": [
            "37 to the power of 4 is 1874161.\n"
          ],
          "name": "stdout"
        }
      ]
    },
    {
      "metadata": {
        "id": "tmGN72Rlv6N3",
        "colab_type": "code",
        "colab": {},
        "outputId": "569e2b41-7968-4db9-dfff-91f91d296476"
      },
      "cell_type": "code",
      "source": [
        "def distance_from_zero(x):\n",
        "    if type(x) == int or type(x) == float :\n",
        "        return abs(x)\n",
        "    else:\n",
        "        return 'Wrong Entry'\n",
        "    \n",
        "distance_from_zero(-12)\n"
      ],
      "execution_count": 0,
      "outputs": [
        {
          "output_type": "execute_result",
          "data": {
            "text/plain": [
              "12"
            ]
          },
          "metadata": {
            "tags": []
          },
          "execution_count": 36
        }
      ]
    },
    {
      "metadata": {
        "id": "pklAvMX7v6N4",
        "colab_type": "code",
        "colab": {},
        "outputId": "8189d5a0-1dc5-4a92-b546-c34a07f7ed10"
      },
      "cell_type": "code",
      "source": [
        "distance_from_zero('ewag')"
      ],
      "execution_count": 0,
      "outputs": [
        {
          "output_type": "execute_result",
          "data": {
            "text/plain": [
              "'Wrong Entry'"
            ]
          },
          "metadata": {
            "tags": []
          },
          "execution_count": 35
        }
      ]
    },
    {
      "metadata": {
        "id": "2fV4lmrcv6N6",
        "colab_type": "text"
      },
      "cell_type": "markdown",
      "source": [
        "## For Loop (Циклы)"
      ]
    },
    {
      "metadata": {
        "id": "2KOPHqgBv6N-",
        "colab_type": "code",
        "colab": {},
        "outputId": "a925f573-1405-4512-9224-517308dd2869"
      },
      "cell_type": "code",
      "source": [
        "my_list = [1,9,3,8,5,7]\n",
        "\n",
        "for number in my_list:\n",
        "    print (2*number)"
      ],
      "execution_count": 0,
      "outputs": [
        {
          "output_type": "stream",
          "text": [
            "2\n",
            "18\n",
            "6\n",
            "16\n",
            "10\n",
            "14\n"
          ],
          "name": "stdout"
        }
      ]
    },
    {
      "metadata": {
        "id": "wHYwOh8Ov6N_",
        "colab_type": "code",
        "colab": {},
        "outputId": "7b2e1e03-526e-4346-a927-a32adb6e906b"
      },
      "cell_type": "code",
      "source": [
        "start_list = [5, 3, 1, 2, 4]\n",
        "square_list = []\n",
        "\n",
        "for number in start_list:\n",
        "    square_list.append(number ** 2)\n",
        "print (square_list)"
      ],
      "execution_count": 0,
      "outputs": [
        {
          "output_type": "stream",
          "text": [
            "[25, 9, 1, 4, 16]\n"
          ],
          "name": "stdout"
        }
      ]
    },
    {
      "metadata": {
        "id": "H3q7RRgWv6OB",
        "colab_type": "code",
        "colab": {},
        "outputId": "ae72bba9-1ace-4c40-c071-53a9d323a3fa"
      },
      "cell_type": "code",
      "source": [
        "a = [0, 1, 2, 3, 4, 5, 6, 7, 8, 9, 10, 11, 12, 13]\n",
        "\n",
        "for number in a:\n",
        "    if number % 2 == 0:\n",
        "        print (number)\n",
        "    else : continue"
      ],
      "execution_count": 0,
      "outputs": [
        {
          "output_type": "stream",
          "text": [
            "0\n",
            "2\n",
            "4\n",
            "6\n",
            "8\n",
            "10\n",
            "12\n"
          ],
          "name": "stdout"
        }
      ]
    },
    {
      "metadata": {
        "id": "G_4TMS0XuCut",
        "colab_type": "code",
        "colab": {
          "base_uri": "https://localhost:8080/",
          "height": 85
        },
        "outputId": "03a817de-7785-4a2e-996f-402205bc103e"
      },
      "cell_type": "code",
      "source": [
        "for c in 'spam':\n",
        "  print(c.upper())"
      ],
      "execution_count": 24,
      "outputs": [
        {
          "output_type": "stream",
          "text": [
            "S\n",
            "P\n",
            "A\n",
            "M\n"
          ],
          "name": "stdout"
        }
      ]
    },
    {
      "metadata": {
        "id": "TrYzSjhHbCBb",
        "colab_type": "text"
      },
      "cell_type": "markdown",
      "source": [
        "## While (Циклы)"
      ]
    },
    {
      "metadata": {
        "id": "Rfh5D387uK2S",
        "colab_type": "code",
        "colab": {
          "base_uri": "https://localhost:8080/",
          "height": 85
        },
        "outputId": "3e2fb78a-51f2-4e1d-830c-13534c9f79b5"
      },
      "cell_type": "code",
      "source": [
        "# Цикл while в языке Python представляет собой более универсальный инструмент\n",
        "# выполнения циклически повторяющихся операций и не имеет прямой связи с последовательностями:\n",
        "\n",
        "x = 4\n",
        "while x > 0:\n",
        "  print('spam!' * x)\n",
        "  x -= 1\n"
      ],
      "execution_count": 26,
      "outputs": [
        {
          "output_type": "stream",
          "text": [
            "spam!spam!spam!spam!\n",
            "spam!spam!spam!\n",
            "spam!spam!\n",
            "spam!\n"
          ],
          "name": "stdout"
        }
      ]
    },
    {
      "metadata": {
        "id": "E9ZRluD_bNSn",
        "colab_type": "code",
        "colab": {}
      },
      "cell_type": "code",
      "source": [
        "# Пример бесконечно цикла, этот код будет выполняться бесконечно, так как\n",
        "# условие всегда верно.\n",
        "# (Пожалуйста, НЕ запускайте данный код)\n",
        "\n",
        "a = 0\n",
        "while a == 0:\n",
        "   print(\"A\")"
      ],
      "execution_count": 0,
      "outputs": []
    },
    {
      "metadata": {
        "id": "77DAJOzibrZA",
        "colab_type": "code",
        "colab": {
          "base_uri": "https://localhost:8080/",
          "height": 150
        },
        "outputId": "69c3803a-7a6a-49fe-cb98-e77048d11cff"
      },
      "cell_type": "code",
      "source": [
        "# При работе с циклами используются операторы break и continue.\n",
        "# Как раз для предотвращения ситуации с бесконечным циклом\n",
        "# Оператор break  предназначен для досрочного прерывания работы цикла while.\n",
        "\n",
        "a = 0\n",
        "while a >= 0:\n",
        "   if a == 7:\n",
        "       break\n",
        "   a += 1 # мы увеличиваем счетчик каждй раз на 1 и в какой-то момент он станет равен 7\n",
        "   print(\"A\") # и прерветься\n",
        "\n",
        "# без этого условия, цикл будет работать бесконечно"
      ],
      "execution_count": 7,
      "outputs": [
        {
          "output_type": "stream",
          "text": [
            "A\n",
            "A\n",
            "A\n",
            "A\n",
            "A\n",
            "A\n",
            "A\n"
          ],
          "name": "stdout"
        }
      ]
    },
    {
      "metadata": {
        "id": "xUkYdUYKcT1x",
        "colab_type": "code",
        "colab": {
          "base_uri": "https://localhost:8080/",
          "height": 150
        },
        "outputId": "88c5bb2d-c8c6-4fde-a7db-3b930d5f7b2b"
      },
      "cell_type": "code",
      "source": [
        "# Оператор continue  запускает цикл заново, при этом код, \n",
        "# расположенный после данного оператора, не выполняется.\n",
        "\n",
        "a = -1\n",
        "while a < 10:\n",
        "   a += 1\n",
        "   if a >= 7:\n",
        "       continue\n",
        "   print(\"A\")\n",
        "  \n",
        "  # При запуске данного кода символ “А” будет напечатан 7 раз, \n",
        "  # несмотря на то, что всего будет выполнено 11 проходов цикла."
      ],
      "execution_count": 8,
      "outputs": [
        {
          "output_type": "stream",
          "text": [
            "A\n",
            "A\n",
            "A\n",
            "A\n",
            "A\n",
            "A\n",
            "A\n"
          ],
          "name": "stdout"
        }
      ]
    },
    {
      "metadata": {
        "id": "GrtHuhoyclVv",
        "colab_type": "code",
        "colab": {
          "base_uri": "https://localhost:8080/",
          "height": 74
        },
        "outputId": "60c0381b-9716-4335-97d9-80b767c9b6dd"
      },
      "cell_type": "code",
      "source": [
        "# Бесконечный цикл также можно сделать просто указав True в качестве условия\n",
        "# Но нужно убедиться что выход из цикла есть\n",
        "\n",
        "a = 3\n",
        "\n",
        "while True:\n",
        "  a += 2\n",
        "  if a == 11:\n",
        "    break\n",
        "  print(a)\n",
        "    \n",
        "# Обычно цикл while используется, когда не известно точное количество проходов по циклу\n",
        "# или по время рекурсий\n",
        "  "
      ],
      "execution_count": 11,
      "outputs": [
        {
          "output_type": "stream",
          "text": [
            "5\n",
            "7\n",
            "9\n"
          ],
          "name": "stdout"
        }
      ]
    },
    {
      "metadata": {
        "id": "VLmrkrGYv6OB",
        "colab_type": "text"
      },
      "cell_type": "markdown",
      "source": [
        "## Математические функции\n",
        "<br>\n",
        "NumPy встроенные математические функции"
      ]
    },
    {
      "metadata": {
        "id": "oXKdxlpev6OC",
        "colab_type": "code",
        "colab": {}
      },
      "cell_type": "code",
      "source": [
        "a = np.array([-4, -2, 1, 3, 5])"
      ],
      "execution_count": 0,
      "outputs": []
    },
    {
      "metadata": {
        "id": "M5Sn5kEqv6OF",
        "colab_type": "code",
        "colab": {},
        "outputId": "bdd1b4b3-6c4e-4748-bd31-1dbb0f465e5c"
      },
      "cell_type": "code",
      "source": [
        "a.sum()"
      ],
      "execution_count": 0,
      "outputs": [
        {
          "output_type": "execute_result",
          "data": {
            "text/plain": [
              "3"
            ]
          },
          "metadata": {
            "tags": []
          },
          "execution_count": 50
        }
      ]
    },
    {
      "metadata": {
        "id": "2oKvHtspv6OH",
        "colab_type": "code",
        "colab": {},
        "outputId": "52766956-9108-4908-a450-c24d6db115f2"
      },
      "cell_type": "code",
      "source": [
        "a.max()"
      ],
      "execution_count": 0,
      "outputs": [
        {
          "output_type": "execute_result",
          "data": {
            "text/plain": [
              "5"
            ]
          },
          "metadata": {
            "tags": []
          },
          "execution_count": 20
        }
      ]
    },
    {
      "metadata": {
        "id": "iAcolJz3v6OH",
        "colab_type": "code",
        "colab": {},
        "outputId": "a94d1f3e-cac1-4fc0-d2b1-ff4f9b97b3f0"
      },
      "cell_type": "code",
      "source": [
        "a.min()"
      ],
      "execution_count": 0,
      "outputs": [
        {
          "output_type": "execute_result",
          "data": {
            "text/plain": [
              "-4"
            ]
          },
          "metadata": {
            "tags": []
          },
          "execution_count": 21
        }
      ]
    },
    {
      "metadata": {
        "id": "kVf7_1I6v6OJ",
        "colab_type": "code",
        "colab": {},
        "outputId": "9e2fa8b5-1766-4402-e44b-de4eac50cd7f"
      },
      "cell_type": "code",
      "source": [
        "a.mean()"
      ],
      "execution_count": 0,
      "outputs": [
        {
          "output_type": "execute_result",
          "data": {
            "text/plain": [
              "0.59999999999999998"
            ]
          },
          "metadata": {
            "tags": []
          },
          "execution_count": 22
        }
      ]
    },
    {
      "metadata": {
        "id": "uqKkIpybv6OL",
        "colab_type": "code",
        "colab": {},
        "outputId": "698c8f65-b33e-4538-d89a-6df6ec55406f"
      },
      "cell_type": "code",
      "source": [
        "a.std()"
      ],
      "execution_count": 0,
      "outputs": [
        {
          "output_type": "execute_result",
          "data": {
            "text/plain": [
              "3.2619012860600183"
            ]
          },
          "metadata": {
            "tags": []
          },
          "execution_count": 23
        }
      ]
    }
  ]
}